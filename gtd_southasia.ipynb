{
 "cells": [
  {
   "cell_type": "markdown",
   "metadata": {
    "id": "0Ej3-d0KVkbL"
   },
   "source": [
    "## Problem Statement\n",
    "  - As a defence analyst, find hotspots of terrorism\n",
    "  - What all security issues/insights can be derived from Exploratory Data Analysis (EDA) and Hypothesis Testing?   "
   ]
  },
  {
   "cell_type": "markdown",
   "metadata": {
    "id": "A5ET0epD3Gje"
   },
   "source": [
    "### Questions\n",
    "\n",
    "- **Who/Whom?** \n",
    "    - Perpetrator Information \n",
    "    - Target/Victim Information \n",
    "    \n",
    "- **What?**\n",
    "    - Incident Information Analysis \n",
    "  \n",
    "- **Where?**\n",
    "    - Incident Location Analysis \n",
    "    \n",
    "- **When?** \n",
    "    - GTD Data AND associated information \n",
    "\n",
    "- **How?**\n",
    "    - Attack Information \n",
    "    - Weapon Information \n",
    "    \n",
    "- **Resultant Information** \n",
    "    - Casualties AND Consequences \n"
   ]
  },
  {
   "cell_type": "markdown",
   "metadata": {
    "id": "IP5EvUJk3Gjf"
   },
   "source": [
    "**Observation** - Splitting the dataset into these 5 categories enabled a more in-depth analysis  "
   ]
  },
  {
   "cell_type": "markdown",
   "metadata": {
    "id": "Uv-uG05n3Gjf"
   },
   "source": [
    "## Data Collection Methodology \n",
    "- Data was collected in real-time between 1970-1997, was retrospective between 1998-2007 AND was again collected in real-time afterwards\n",
    "- Data Collection and definition of terrorism - different organizations have parsed the database at different instances - AND later on incorporated changes which may assist individual users in determining if the attack was indeed a terrorist attack. So do check out for such differences\n",
    "- Report how the inconsistencies have been addressed in your analysis "
   ]
  },
  {
   "cell_type": "code",
   "execution_count": 173,
   "metadata": {
    "id": "uRcj3XDMN6N4"
   },
   "outputs": [],
   "source": [
    "import warnings\n",
    "warnings.filterwarnings(\"ignore\")\n",
    "import numpy as np\n",
    "import pandas as pd\n",
    "\n",
    "import matplotlib.pyplot as plt\n",
    "%matplotlib inline\n",
    "\n",
    "import seaborn as sns\n",
    "sns.set_context(\"paper\")\n",
    "sns.set_style(\"darkgrid\")\n",
    "\n",
    "import plotly\n",
    "import plotly.express as px\n",
    "import plotly.io as pio\n",
    "from IPython.display import display\n",
    "from geopy.geocoders import Nominatim "
   ]
  },
  {
   "cell_type": "markdown",
   "metadata": {
    "id": "gOtdF2k83Gjh"
   },
   "source": [
    "## Installations "
   ]
  },
  {
   "cell_type": "markdown",
   "metadata": {
    "id": "w5hiW0gn3Gjj"
   },
   "source": [
    "## Import Data "
   ]
  },
  {
   "cell_type": "code",
   "execution_count": 174,
   "metadata": {
    "id": "EiTAPeTp3Gjj"
   },
   "outputs": [],
   "source": [
    "df = pd.read_csv(\"data/terrorism.csv\", encoding=\"latin-1\")\n",
    "df = df.drop_duplicates()\n",
    "df = df[df[\"region_txt\"].isin([\"South Asia\"])]\n",
    "df[\"eventid\"] = df[\"eventid\"].astype(\"int64\")"
   ]
  },
  {
   "cell_type": "markdown",
   "metadata": {
    "id": "RHgTSJZI3Gjk"
   },
   "source": [
    "## Auxiliary Functions "
   ]
  },
  {
   "cell_type": "code",
   "execution_count": 175,
   "metadata": {
    "id": "1By3DUoq3Gjk"
   },
   "outputs": [],
   "source": [
    "def prelim_inspection(df):\n",
    "  \"\"\"\n",
    "  Preliminary Overview to get a basic understanding of the underlying data \n",
    "  \"\"\"\n",
    "  display(df.head()) # Dataset overview\n",
    "  print(\"Dataset Overview\\n\")\n",
    "  display(df.shape)  # Dataset shape\n",
    "  print(\"Dataset Shape\\n\")\n",
    "  display(df.iloc[:5, :].dtypes)  # First five rows for minimal output\n",
    "  print(\"Column datatypes\\n\")\n",
    "  display(df.isna().any())\n",
    "  print(\"Check for null values\\n\")\n",
    "  display(df.nunique())\n",
    "  print(\"Count of unique values\\n\")\n",
    "  display(df.describe(percentiles=[0.25,0.5,0.75,0.85,0.95,0.99]))\n",
    "  print(\"Dataset descriptive information \\n\")\n",
    "  display((df.isna().sum()/len(df) * 100).sort_values(ascending=False))\n",
    "  print(\"Percentage of null values\\n\")"
   ]
  },
  {
   "cell_type": "code",
   "execution_count": 172,
   "metadata": {
    "colab": {
     "base_uri": "https://localhost:8080/",
     "height": 1000
    },
    "id": "fXrz-DLt3Gjk",
    "outputId": "c201e5d3-71b7-4123-918f-cb72056f4b75"
   },
   "outputs": [
    {
     "data": {
      "text/html": [
       "<div>\n",
       "<style scoped>\n",
       "    .dataframe tbody tr th:only-of-type {\n",
       "        vertical-align: middle;\n",
       "    }\n",
       "\n",
       "    .dataframe tbody tr th {\n",
       "        vertical-align: top;\n",
       "    }\n",
       "\n",
       "    .dataframe thead th {\n",
       "        text-align: right;\n",
       "    }\n",
       "</style>\n",
       "<table border=\"1\" class=\"dataframe\">\n",
       "  <thead>\n",
       "    <tr style=\"text-align: right;\">\n",
       "      <th></th>\n",
       "      <th>eventid</th>\n",
       "      <th>iyear</th>\n",
       "      <th>imonth</th>\n",
       "      <th>iday</th>\n",
       "      <th>approxdate</th>\n",
       "      <th>extended</th>\n",
       "      <th>resolution</th>\n",
       "      <th>country</th>\n",
       "      <th>country_txt</th>\n",
       "      <th>region</th>\n",
       "      <th>...</th>\n",
       "      <th>addnotes</th>\n",
       "      <th>scite1</th>\n",
       "      <th>scite2</th>\n",
       "      <th>scite3</th>\n",
       "      <th>dbsource</th>\n",
       "      <th>INT_LOG</th>\n",
       "      <th>INT_IDEO</th>\n",
       "      <th>INT_MISC</th>\n",
       "      <th>INT_ANY</th>\n",
       "      <th>related</th>\n",
       "    </tr>\n",
       "  </thead>\n",
       "  <tbody>\n",
       "    <tr>\n",
       "      <th>0</th>\n",
       "      <td>197000000000</td>\n",
       "      <td>1970</td>\n",
       "      <td>11</td>\n",
       "      <td>1</td>\n",
       "      <td>NaN</td>\n",
       "      <td>0</td>\n",
       "      <td>NaN</td>\n",
       "      <td>153</td>\n",
       "      <td>Pakistan</td>\n",
       "      <td>6</td>\n",
       "      <td>...</td>\n",
       "      <td>NaN</td>\n",
       "      <td>NaN</td>\n",
       "      <td>NaN</td>\n",
       "      <td>NaN</td>\n",
       "      <td>PGIS</td>\n",
       "      <td>-9</td>\n",
       "      <td>-9</td>\n",
       "      <td>1</td>\n",
       "      <td>1</td>\n",
       "      <td>NaN</td>\n",
       "    </tr>\n",
       "    <tr>\n",
       "      <th>1</th>\n",
       "      <td>197000000000</td>\n",
       "      <td>1972</td>\n",
       "      <td>2</td>\n",
       "      <td>22</td>\n",
       "      <td>NaN</td>\n",
       "      <td>0</td>\n",
       "      <td>NaN</td>\n",
       "      <td>92</td>\n",
       "      <td>India</td>\n",
       "      <td>6</td>\n",
       "      <td>...</td>\n",
       "      <td>NaN</td>\n",
       "      <td>NaN</td>\n",
       "      <td>NaN</td>\n",
       "      <td>NaN</td>\n",
       "      <td>Hijacking DB</td>\n",
       "      <td>1</td>\n",
       "      <td>1</td>\n",
       "      <td>1</td>\n",
       "      <td>1</td>\n",
       "      <td>NaN</td>\n",
       "    </tr>\n",
       "    <tr>\n",
       "      <th>2</th>\n",
       "      <td>197000000000</td>\n",
       "      <td>1973</td>\n",
       "      <td>5</td>\n",
       "      <td>1</td>\n",
       "      <td>NaN</td>\n",
       "      <td>0</td>\n",
       "      <td>NaN</td>\n",
       "      <td>4</td>\n",
       "      <td>Afghanistan</td>\n",
       "      <td>6</td>\n",
       "      <td>...</td>\n",
       "      <td>NaN</td>\n",
       "      <td>NaN</td>\n",
       "      <td>NaN</td>\n",
       "      <td>NaN</td>\n",
       "      <td>PGIS</td>\n",
       "      <td>0</td>\n",
       "      <td>1</td>\n",
       "      <td>1</td>\n",
       "      <td>1</td>\n",
       "      <td>NaN</td>\n",
       "    </tr>\n",
       "    <tr>\n",
       "      <th>3</th>\n",
       "      <td>197000000000</td>\n",
       "      <td>1974</td>\n",
       "      <td>2</td>\n",
       "      <td>2</td>\n",
       "      <td>NaN</td>\n",
       "      <td>1</td>\n",
       "      <td>02-03-1974</td>\n",
       "      <td>153</td>\n",
       "      <td>Pakistan</td>\n",
       "      <td>6</td>\n",
       "      <td>...</td>\n",
       "      <td>NaN</td>\n",
       "      <td>NaN</td>\n",
       "      <td>NaN</td>\n",
       "      <td>NaN</td>\n",
       "      <td>PGIS</td>\n",
       "      <td>-9</td>\n",
       "      <td>-9</td>\n",
       "      <td>1</td>\n",
       "      <td>1</td>\n",
       "      <td>NaN</td>\n",
       "    </tr>\n",
       "    <tr>\n",
       "      <th>4</th>\n",
       "      <td>197000000000</td>\n",
       "      <td>1974</td>\n",
       "      <td>12</td>\n",
       "      <td>9</td>\n",
       "      <td>NaN</td>\n",
       "      <td>0</td>\n",
       "      <td>NaN</td>\n",
       "      <td>153</td>\n",
       "      <td>Pakistan</td>\n",
       "      <td>6</td>\n",
       "      <td>...</td>\n",
       "      <td>NaN</td>\n",
       "      <td>NaN</td>\n",
       "      <td>NaN</td>\n",
       "      <td>NaN</td>\n",
       "      <td>PGIS</td>\n",
       "      <td>-9</td>\n",
       "      <td>-9</td>\n",
       "      <td>1</td>\n",
       "      <td>1</td>\n",
       "      <td>NaN</td>\n",
       "    </tr>\n",
       "  </tbody>\n",
       "</table>\n",
       "<p>5 rows × 135 columns</p>\n",
       "</div>"
      ],
      "text/plain": [
       "        eventid  iyear  imonth  iday approxdate  extended  resolution  \\\n",
       "0  197000000000   1970      11     1        NaN         0         NaN   \n",
       "1  197000000000   1972       2    22        NaN         0         NaN   \n",
       "2  197000000000   1973       5     1        NaN         0         NaN   \n",
       "3  197000000000   1974       2     2        NaN         1  02-03-1974   \n",
       "4  197000000000   1974      12     9        NaN         0         NaN   \n",
       "\n",
       "   country  country_txt  region  ... addnotes scite1 scite2  scite3  \\\n",
       "0      153     Pakistan       6  ...      NaN    NaN    NaN     NaN   \n",
       "1       92        India       6  ...      NaN    NaN    NaN     NaN   \n",
       "2        4  Afghanistan       6  ...      NaN    NaN    NaN     NaN   \n",
       "3      153     Pakistan       6  ...      NaN    NaN    NaN     NaN   \n",
       "4      153     Pakistan       6  ...      NaN    NaN    NaN     NaN   \n",
       "\n",
       "       dbsource  INT_LOG  INT_IDEO INT_MISC INT_ANY  related  \n",
       "0          PGIS       -9        -9        1       1      NaN  \n",
       "1  Hijacking DB        1         1        1       1      NaN  \n",
       "2          PGIS        0         1        1       1      NaN  \n",
       "3          PGIS       -9        -9        1       1      NaN  \n",
       "4          PGIS       -9        -9        1       1      NaN  \n",
       "\n",
       "[5 rows x 135 columns]"
      ]
     },
     "metadata": {},
     "output_type": "display_data"
    },
    {
     "name": "stdout",
     "output_type": "stream",
     "text": [
      "Dataset Overview\n",
      "\n"
     ]
    },
    {
     "data": {
      "text/plain": [
       "(44152, 135)"
      ]
     },
     "metadata": {},
     "output_type": "display_data"
    },
    {
     "name": "stdout",
     "output_type": "stream",
     "text": [
      "Dataset Shape\n",
      "\n"
     ]
    },
    {
     "data": {
      "text/plain": [
       "eventid        int64\n",
       "iyear          int64\n",
       "imonth         int64\n",
       "iday           int64\n",
       "approxdate    object\n",
       "               ...  \n",
       "INT_LOG        int64\n",
       "INT_IDEO       int64\n",
       "INT_MISC       int64\n",
       "INT_ANY        int64\n",
       "related       object\n",
       "Length: 135, dtype: object"
      ]
     },
     "metadata": {},
     "output_type": "display_data"
    },
    {
     "name": "stdout",
     "output_type": "stream",
     "text": [
      "Column datatypes\n",
      "\n"
     ]
    },
    {
     "data": {
      "text/plain": [
       "eventid       False\n",
       "iyear         False\n",
       "imonth        False\n",
       "iday          False\n",
       "approxdate     True\n",
       "              ...  \n",
       "INT_LOG       False\n",
       "INT_IDEO      False\n",
       "INT_MISC      False\n",
       "INT_ANY       False\n",
       "related        True\n",
       "Length: 135, dtype: bool"
      ]
     },
     "metadata": {},
     "output_type": "display_data"
    },
    {
     "name": "stdout",
     "output_type": "stream",
     "text": [
      "Check for null values\n",
      "\n"
     ]
    },
    {
     "data": {
      "text/plain": [
       "eventid          6\n",
       "iyear           46\n",
       "imonth          13\n",
       "iday            32\n",
       "approxdate    1016\n",
       "              ... \n",
       "INT_LOG          3\n",
       "INT_IDEO         3\n",
       "INT_MISC         3\n",
       "INT_ANY          3\n",
       "related       2969\n",
       "Length: 135, dtype: int64"
      ]
     },
     "metadata": {},
     "output_type": "display_data"
    },
    {
     "name": "stdout",
     "output_type": "stream",
     "text": [
      "Count of unique values\n",
      "\n"
     ]
    },
    {
     "data": {
      "text/html": [
       "<div>\n",
       "<style scoped>\n",
       "    .dataframe tbody tr th:only-of-type {\n",
       "        vertical-align: middle;\n",
       "    }\n",
       "\n",
       "    .dataframe tbody tr th {\n",
       "        vertical-align: top;\n",
       "    }\n",
       "\n",
       "    .dataframe thead th {\n",
       "        text-align: right;\n",
       "    }\n",
       "</style>\n",
       "<table border=\"1\" class=\"dataframe\">\n",
       "  <thead>\n",
       "    <tr style=\"text-align: right;\">\n",
       "      <th></th>\n",
       "      <th>eventid</th>\n",
       "      <th>iyear</th>\n",
       "      <th>imonth</th>\n",
       "      <th>iday</th>\n",
       "      <th>extended</th>\n",
       "      <th>country</th>\n",
       "      <th>region</th>\n",
       "      <th>latitude</th>\n",
       "      <th>longitude</th>\n",
       "      <th>specificity</th>\n",
       "      <th>...</th>\n",
       "      <th>ransomamt</th>\n",
       "      <th>ransomamtus</th>\n",
       "      <th>ransompaid</th>\n",
       "      <th>ransompaidus</th>\n",
       "      <th>hostkidoutcome</th>\n",
       "      <th>nreleased</th>\n",
       "      <th>INT_LOG</th>\n",
       "      <th>INT_IDEO</th>\n",
       "      <th>INT_MISC</th>\n",
       "      <th>INT_ANY</th>\n",
       "    </tr>\n",
       "  </thead>\n",
       "  <tbody>\n",
       "    <tr>\n",
       "      <th>count</th>\n",
       "      <td>4.415200e+04</td>\n",
       "      <td>44152.000000</td>\n",
       "      <td>44152.000000</td>\n",
       "      <td>44152.000000</td>\n",
       "      <td>44152.000000</td>\n",
       "      <td>44152.000000</td>\n",
       "      <td>44152.0</td>\n",
       "      <td>43673.000000</td>\n",
       "      <td>43673.000000</td>\n",
       "      <td>44148.000000</td>\n",
       "      <td>...</td>\n",
       "      <td>2.170000e+02</td>\n",
       "      <td>1.630000e+02</td>\n",
       "      <td>1.720000e+02</td>\n",
       "      <td>159.000000</td>\n",
       "      <td>3479.000000</td>\n",
       "      <td>3345.000000</td>\n",
       "      <td>44152.000000</td>\n",
       "      <td>44152.000000</td>\n",
       "      <td>44152.000000</td>\n",
       "      <td>44152.000000</td>\n",
       "    </tr>\n",
       "    <tr>\n",
       "      <th>mean</th>\n",
       "      <td>2.009320e+11</td>\n",
       "      <td>2008.755005</td>\n",
       "      <td>6.444283</td>\n",
       "      <td>15.583326</td>\n",
       "      <td>0.056373</td>\n",
       "      <td>91.320167</td>\n",
       "      <td>6.0</td>\n",
       "      <td>28.456280</td>\n",
       "      <td>74.271976</td>\n",
       "      <td>1.608974</td>\n",
       "      <td>...</td>\n",
       "      <td>2.078918e+06</td>\n",
       "      <td>9.882802e+03</td>\n",
       "      <td>2.447216e+04</td>\n",
       "      <td>61.647799</td>\n",
       "      <td>4.795056</td>\n",
       "      <td>-27.199402</td>\n",
       "      <td>-4.933434</td>\n",
       "      <td>-4.885645</td>\n",
       "      <td>0.044913</td>\n",
       "      <td>-4.560903</td>\n",
       "    </tr>\n",
       "    <tr>\n",
       "      <th>std</th>\n",
       "      <td>9.177522e+08</td>\n",
       "      <td>8.670915</td>\n",
       "      <td>3.389015</td>\n",
       "      <td>8.828559</td>\n",
       "      <td>0.230644</td>\n",
       "      <td>65.065620</td>\n",
       "      <td>0.0</td>\n",
       "      <td>7.343117</td>\n",
       "      <td>8.600140</td>\n",
       "      <td>0.993315</td>\n",
       "      <td>...</td>\n",
       "      <td>1.422918e+07</td>\n",
       "      <td>1.176986e+05</td>\n",
       "      <td>1.929024e+05</td>\n",
       "      <td>793.228184</td>\n",
       "      <td>1.858638</td>\n",
       "      <td>56.007278</td>\n",
       "      <td>4.496767</td>\n",
       "      <td>4.558369</td>\n",
       "      <td>0.486364</td>\n",
       "      <td>4.610228</td>\n",
       "    </tr>\n",
       "    <tr>\n",
       "      <th>min</th>\n",
       "      <td>1.970000e+11</td>\n",
       "      <td>1970.000000</td>\n",
       "      <td>0.000000</td>\n",
       "      <td>0.000000</td>\n",
       "      <td>0.000000</td>\n",
       "      <td>4.000000</td>\n",
       "      <td>6.0</td>\n",
       "      <td>-20.420074</td>\n",
       "      <td>57.464140</td>\n",
       "      <td>1.000000</td>\n",
       "      <td>...</td>\n",
       "      <td>-9.900000e+01</td>\n",
       "      <td>-9.900000e+01</td>\n",
       "      <td>-9.900000e+01</td>\n",
       "      <td>-99.000000</td>\n",
       "      <td>1.000000</td>\n",
       "      <td>-99.000000</td>\n",
       "      <td>-9.000000</td>\n",
       "      <td>-9.000000</td>\n",
       "      <td>-9.000000</td>\n",
       "      <td>-9.000000</td>\n",
       "    </tr>\n",
       "    <tr>\n",
       "      <th>25%</th>\n",
       "      <td>2.010000e+11</td>\n",
       "      <td>2007.000000</td>\n",
       "      <td>4.000000</td>\n",
       "      <td>8.000000</td>\n",
       "      <td>0.000000</td>\n",
       "      <td>4.000000</td>\n",
       "      <td>6.0</td>\n",
       "      <td>24.891115</td>\n",
       "      <td>67.687177</td>\n",
       "      <td>1.000000</td>\n",
       "      <td>...</td>\n",
       "      <td>-9.900000e+01</td>\n",
       "      <td>0.000000e+00</td>\n",
       "      <td>-9.900000e+01</td>\n",
       "      <td>0.000000</td>\n",
       "      <td>4.000000</td>\n",
       "      <td>-99.000000</td>\n",
       "      <td>-9.000000</td>\n",
       "      <td>-9.000000</td>\n",
       "      <td>0.000000</td>\n",
       "      <td>-9.000000</td>\n",
       "    </tr>\n",
       "    <tr>\n",
       "      <th>50%</th>\n",
       "      <td>2.010000e+11</td>\n",
       "      <td>2012.000000</td>\n",
       "      <td>6.000000</td>\n",
       "      <td>15.000000</td>\n",
       "      <td>0.000000</td>\n",
       "      <td>92.000000</td>\n",
       "      <td>6.0</td>\n",
       "      <td>31.467463</td>\n",
       "      <td>71.383188</td>\n",
       "      <td>1.000000</td>\n",
       "      <td>...</td>\n",
       "      <td>1.566847e+04</td>\n",
       "      <td>0.000000e+00</td>\n",
       "      <td>0.000000e+00</td>\n",
       "      <td>0.000000</td>\n",
       "      <td>4.000000</td>\n",
       "      <td>0.000000</td>\n",
       "      <td>-9.000000</td>\n",
       "      <td>-9.000000</td>\n",
       "      <td>0.000000</td>\n",
       "      <td>-9.000000</td>\n",
       "    </tr>\n",
       "    <tr>\n",
       "      <th>75%</th>\n",
       "      <td>2.020000e+11</td>\n",
       "      <td>2015.000000</td>\n",
       "      <td>9.000000</td>\n",
       "      <td>23.000000</td>\n",
       "      <td>0.000000</td>\n",
       "      <td>153.000000</td>\n",
       "      <td>6.0</td>\n",
       "      <td>34.002579</td>\n",
       "      <td>80.623416</td>\n",
       "      <td>2.000000</td>\n",
       "      <td>...</td>\n",
       "      <td>1.661820e+05</td>\n",
       "      <td>0.000000e+00</td>\n",
       "      <td>0.000000e+00</td>\n",
       "      <td>0.000000</td>\n",
       "      <td>7.000000</td>\n",
       "      <td>1.000000</td>\n",
       "      <td>0.000000</td>\n",
       "      <td>0.000000</td>\n",
       "      <td>0.000000</td>\n",
       "      <td>0.000000</td>\n",
       "    </tr>\n",
       "    <tr>\n",
       "      <th>85%</th>\n",
       "      <td>2.020000e+11</td>\n",
       "      <td>2016.000000</td>\n",
       "      <td>11.000000</td>\n",
       "      <td>26.000000</td>\n",
       "      <td>0.000000</td>\n",
       "      <td>153.000000</td>\n",
       "      <td>6.0</td>\n",
       "      <td>34.386435</td>\n",
       "      <td>85.125982</td>\n",
       "      <td>3.000000</td>\n",
       "      <td>...</td>\n",
       "      <td>4.309000e+05</td>\n",
       "      <td>0.000000e+00</td>\n",
       "      <td>0.000000e+00</td>\n",
       "      <td>0.000000</td>\n",
       "      <td>7.000000</td>\n",
       "      <td>3.000000</td>\n",
       "      <td>0.000000</td>\n",
       "      <td>0.000000</td>\n",
       "      <td>0.000000</td>\n",
       "      <td>0.000000</td>\n",
       "    </tr>\n",
       "    <tr>\n",
       "      <th>95%</th>\n",
       "      <td>2.020000e+11</td>\n",
       "      <td>2017.000000</td>\n",
       "      <td>12.000000</td>\n",
       "      <td>29.000000</td>\n",
       "      <td>1.000000</td>\n",
       "      <td>186.000000</td>\n",
       "      <td>6.0</td>\n",
       "      <td>35.671067</td>\n",
       "      <td>91.815692</td>\n",
       "      <td>4.000000</td>\n",
       "      <td>...</td>\n",
       "      <td>6.695376e+06</td>\n",
       "      <td>0.000000e+00</td>\n",
       "      <td>5.571087e+04</td>\n",
       "      <td>0.000000</td>\n",
       "      <td>7.000000</td>\n",
       "      <td>8.000000</td>\n",
       "      <td>0.000000</td>\n",
       "      <td>1.000000</td>\n",
       "      <td>1.000000</td>\n",
       "      <td>1.000000</td>\n",
       "    </tr>\n",
       "    <tr>\n",
       "      <th>99%</th>\n",
       "      <td>2.020000e+11</td>\n",
       "      <td>2017.000000</td>\n",
       "      <td>12.000000</td>\n",
       "      <td>31.000000</td>\n",
       "      <td>1.000000</td>\n",
       "      <td>186.000000</td>\n",
       "      <td>6.0</td>\n",
       "      <td>36.868631</td>\n",
       "      <td>94.074439</td>\n",
       "      <td>5.000000</td>\n",
       "      <td>...</td>\n",
       "      <td>2.920000e+07</td>\n",
       "      <td>4.420000e+04</td>\n",
       "      <td>4.251037e+05</td>\n",
       "      <td>0.000000</td>\n",
       "      <td>7.000000</td>\n",
       "      <td>50.000000</td>\n",
       "      <td>1.000000</td>\n",
       "      <td>1.000000</td>\n",
       "      <td>1.000000</td>\n",
       "      <td>1.000000</td>\n",
       "    </tr>\n",
       "    <tr>\n",
       "      <th>max</th>\n",
       "      <td>2.020000e+11</td>\n",
       "      <td>2017.000000</td>\n",
       "      <td>12.000000</td>\n",
       "      <td>31.000000</td>\n",
       "      <td>1.000000</td>\n",
       "      <td>186.000000</td>\n",
       "      <td>6.0</td>\n",
       "      <td>38.000000</td>\n",
       "      <td>96.644737</td>\n",
       "      <td>5.000000</td>\n",
       "      <td>...</td>\n",
       "      <td>2.000000e+08</td>\n",
       "      <td>1.500000e+06</td>\n",
       "      <td>2.435400e+06</td>\n",
       "      <td>10000.000000</td>\n",
       "      <td>7.000000</td>\n",
       "      <td>1201.000000</td>\n",
       "      <td>1.000000</td>\n",
       "      <td>1.000000</td>\n",
       "      <td>1.000000</td>\n",
       "      <td>1.000000</td>\n",
       "    </tr>\n",
       "  </tbody>\n",
       "</table>\n",
       "<p>11 rows × 77 columns</p>\n",
       "</div>"
      ],
      "text/plain": [
       "            eventid         iyear        imonth          iday      extended  \\\n",
       "count  4.415200e+04  44152.000000  44152.000000  44152.000000  44152.000000   \n",
       "mean   2.009320e+11   2008.755005      6.444283     15.583326      0.056373   \n",
       "std    9.177522e+08      8.670915      3.389015      8.828559      0.230644   \n",
       "min    1.970000e+11   1970.000000      0.000000      0.000000      0.000000   \n",
       "25%    2.010000e+11   2007.000000      4.000000      8.000000      0.000000   \n",
       "50%    2.010000e+11   2012.000000      6.000000     15.000000      0.000000   \n",
       "75%    2.020000e+11   2015.000000      9.000000     23.000000      0.000000   \n",
       "85%    2.020000e+11   2016.000000     11.000000     26.000000      0.000000   \n",
       "95%    2.020000e+11   2017.000000     12.000000     29.000000      1.000000   \n",
       "99%    2.020000e+11   2017.000000     12.000000     31.000000      1.000000   \n",
       "max    2.020000e+11   2017.000000     12.000000     31.000000      1.000000   \n",
       "\n",
       "            country   region      latitude     longitude   specificity  ...  \\\n",
       "count  44152.000000  44152.0  43673.000000  43673.000000  44148.000000  ...   \n",
       "mean      91.320167      6.0     28.456280     74.271976      1.608974  ...   \n",
       "std       65.065620      0.0      7.343117      8.600140      0.993315  ...   \n",
       "min        4.000000      6.0    -20.420074     57.464140      1.000000  ...   \n",
       "25%        4.000000      6.0     24.891115     67.687177      1.000000  ...   \n",
       "50%       92.000000      6.0     31.467463     71.383188      1.000000  ...   \n",
       "75%      153.000000      6.0     34.002579     80.623416      2.000000  ...   \n",
       "85%      153.000000      6.0     34.386435     85.125982      3.000000  ...   \n",
       "95%      186.000000      6.0     35.671067     91.815692      4.000000  ...   \n",
       "99%      186.000000      6.0     36.868631     94.074439      5.000000  ...   \n",
       "max      186.000000      6.0     38.000000     96.644737      5.000000  ...   \n",
       "\n",
       "          ransomamt   ransomamtus    ransompaid  ransompaidus  hostkidoutcome  \\\n",
       "count  2.170000e+02  1.630000e+02  1.720000e+02    159.000000     3479.000000   \n",
       "mean   2.078918e+06  9.882802e+03  2.447216e+04     61.647799        4.795056   \n",
       "std    1.422918e+07  1.176986e+05  1.929024e+05    793.228184        1.858638   \n",
       "min   -9.900000e+01 -9.900000e+01 -9.900000e+01    -99.000000        1.000000   \n",
       "25%   -9.900000e+01  0.000000e+00 -9.900000e+01      0.000000        4.000000   \n",
       "50%    1.566847e+04  0.000000e+00  0.000000e+00      0.000000        4.000000   \n",
       "75%    1.661820e+05  0.000000e+00  0.000000e+00      0.000000        7.000000   \n",
       "85%    4.309000e+05  0.000000e+00  0.000000e+00      0.000000        7.000000   \n",
       "95%    6.695376e+06  0.000000e+00  5.571087e+04      0.000000        7.000000   \n",
       "99%    2.920000e+07  4.420000e+04  4.251037e+05      0.000000        7.000000   \n",
       "max    2.000000e+08  1.500000e+06  2.435400e+06  10000.000000        7.000000   \n",
       "\n",
       "         nreleased       INT_LOG      INT_IDEO      INT_MISC       INT_ANY  \n",
       "count  3345.000000  44152.000000  44152.000000  44152.000000  44152.000000  \n",
       "mean    -27.199402     -4.933434     -4.885645      0.044913     -4.560903  \n",
       "std      56.007278      4.496767      4.558369      0.486364      4.610228  \n",
       "min     -99.000000     -9.000000     -9.000000     -9.000000     -9.000000  \n",
       "25%     -99.000000     -9.000000     -9.000000      0.000000     -9.000000  \n",
       "50%       0.000000     -9.000000     -9.000000      0.000000     -9.000000  \n",
       "75%       1.000000      0.000000      0.000000      0.000000      0.000000  \n",
       "85%       3.000000      0.000000      0.000000      0.000000      0.000000  \n",
       "95%       8.000000      0.000000      1.000000      1.000000      1.000000  \n",
       "99%      50.000000      1.000000      1.000000      1.000000      1.000000  \n",
       "max    1201.000000      1.000000      1.000000      1.000000      1.000000  \n",
       "\n",
       "[11 rows x 77 columns]"
      ]
     },
     "metadata": {},
     "output_type": "display_data"
    },
    {
     "name": "stdout",
     "output_type": "stream",
     "text": [
      "Dataset descriptive information \n",
      "\n"
     ]
    },
    {
     "data": {
      "text/plain": [
       "gsubname3           99.990940\n",
       "weaptype4           99.975086\n",
       "weaptype4_txt       99.975086\n",
       "weapsubtype4        99.972821\n",
       "weapsubtype4_txt    99.972821\n",
       "                      ...    \n",
       "doubtterr            0.000000\n",
       "crit3                0.000000\n",
       "crit2                0.000000\n",
       "crit1                0.000000\n",
       "eventid              0.000000\n",
       "Length: 135, dtype: float64"
      ]
     },
     "metadata": {},
     "output_type": "display_data"
    },
    {
     "name": "stdout",
     "output_type": "stream",
     "text": [
      "Percentage of null values\n",
      "\n"
     ]
    }
   ],
   "source": [
    "prelim_inspection(df)"
   ]
  },
  {
   "cell_type": "markdown",
   "metadata": {
    "id": "OP_Zam--ZEFd"
   },
   "source": [
    "## Perpetrator-Target Information "
   ]
  },
  {
   "cell_type": "code",
   "execution_count": 288,
   "metadata": {
    "id": "iku9lP8f3Gjl"
   },
   "outputs": [],
   "source": [
    "def append_values(row): # Change the name of this function \n",
    "    final_val=[]\n",
    "    final_val.append(row[\"corp1\"])\n",
    "    \n",
    "    if row[\"corp2\"]!=\"Unknown\" and row[\"corp2\"]!= row[\"corp1\"] and row[\"corp2\"] != row[\"corp3\"]: \n",
    "        final_val.append(row[\"corp2\"])\n",
    "        \n",
    "    if row[\"corp3\"]!=\"Unknown\" and row[\"corp3\"]!= row[\"corp1\"] and row[\"corp3\"]!=row[\"corp2\"]: \n",
    "        final_val.append(row[\"corp3\"])\n",
    "        \n",
    "    final_string = \",\".join(final_val)\n",
    "    \n",
    "    return final_string"
   ]
  },
  {
   "cell_type": "markdown",
   "metadata": {
    "id": "zAl_eLNT3Gjl"
   },
   "source": [
    "#### Perpetrator Data "
   ]
  },
  {
   "cell_type": "code",
   "execution_count": 349,
   "metadata": {
    "id": "-7tDsdVi3Gjl"
   },
   "outputs": [],
   "source": [
    "## Load the datasets \n",
    "df_perp = df[[\"gname\", \"gsubname\", \"gname2\", \"gname3\", \"gsubname3\", \"guncertain1\", \"guncertain2\", \"guncertain3\", \n",
    "                       \"individual\", \"nperps\", \"nperpcap\", \"claimed\", \"claimmode\", \"claimmode_txt\", \"compclaim\", \"claim2\", \"claimmode2\", \n",
    "                       \"claim3\", \"claimmode3\", \"motive\"]]\n",
    "df_target = df[[\"targtype1\", \"targtype1_txt\", \"targsubtype1\", \"targsubtype1_txt\", \"corp1\", \"target1\", \"natlty1\", \n",
    "                \"natlty1_txt\", \"corp2\", \"target2\", \"natlty2\", \"natlty2_txt\", \"targtype2\", \"targtype2_txt\", \"corp3\", \n",
    "                \"target3\", \"natlty3\", \"natlty3_txt\", \"targtype3\", \"targtype3_txt\"]]"
   ]
  },
  {
   "cell_type": "code",
   "execution_count": 301,
   "metadata": {
    "colab": {
     "base_uri": "https://localhost:8080/",
     "height": 1000
    },
    "id": "NpGTw22oPNSZ",
    "outputId": "85ce1df7-bb3a-4474-99ef-088fda5fc173"
   },
   "outputs": [
    {
     "data": {
      "text/html": [
       "<div>\n",
       "<style scoped>\n",
       "    .dataframe tbody tr th:only-of-type {\n",
       "        vertical-align: middle;\n",
       "    }\n",
       "\n",
       "    .dataframe tbody tr th {\n",
       "        vertical-align: top;\n",
       "    }\n",
       "\n",
       "    .dataframe thead th {\n",
       "        text-align: right;\n",
       "    }\n",
       "</style>\n",
       "<table border=\"1\" class=\"dataframe\">\n",
       "  <thead>\n",
       "    <tr style=\"text-align: right;\">\n",
       "      <th></th>\n",
       "      <th>gname</th>\n",
       "      <th>gsubname</th>\n",
       "      <th>gname2</th>\n",
       "      <th>gname3</th>\n",
       "      <th>gsubname3</th>\n",
       "      <th>guncertain1</th>\n",
       "      <th>guncertain2</th>\n",
       "      <th>guncertain3</th>\n",
       "      <th>individual</th>\n",
       "      <th>nperps</th>\n",
       "      <th>nperpcap</th>\n",
       "      <th>claimed</th>\n",
       "      <th>claimmode</th>\n",
       "      <th>claimmode_txt</th>\n",
       "      <th>compclaim</th>\n",
       "      <th>claim2</th>\n",
       "      <th>claimmode2</th>\n",
       "      <th>claim3</th>\n",
       "      <th>claimmode3</th>\n",
       "      <th>motive</th>\n",
       "    </tr>\n",
       "  </thead>\n",
       "  <tbody>\n",
       "    <tr>\n",
       "      <th>0</th>\n",
       "      <td>Unknown</td>\n",
       "      <td>NaN</td>\n",
       "      <td>NaN</td>\n",
       "      <td>NaN</td>\n",
       "      <td>NaN</td>\n",
       "      <td>0.0</td>\n",
       "      <td>NaN</td>\n",
       "      <td>NaN</td>\n",
       "      <td>0</td>\n",
       "      <td>1.0</td>\n",
       "      <td>NaN</td>\n",
       "      <td>NaN</td>\n",
       "      <td>NaN</td>\n",
       "      <td>NaN</td>\n",
       "      <td>NaN</td>\n",
       "      <td>NaN</td>\n",
       "      <td>NaN</td>\n",
       "      <td>NaN</td>\n",
       "      <td>NaN</td>\n",
       "      <td>NaN</td>\n",
       "    </tr>\n",
       "    <tr>\n",
       "      <th>1</th>\n",
       "      <td>Palestinians</td>\n",
       "      <td>NaN</td>\n",
       "      <td>NaN</td>\n",
       "      <td>NaN</td>\n",
       "      <td>NaN</td>\n",
       "      <td>0.0</td>\n",
       "      <td>NaN</td>\n",
       "      <td>NaN</td>\n",
       "      <td>0</td>\n",
       "      <td>5.0</td>\n",
       "      <td>NaN</td>\n",
       "      <td>NaN</td>\n",
       "      <td>NaN</td>\n",
       "      <td>NaN</td>\n",
       "      <td>NaN</td>\n",
       "      <td>NaN</td>\n",
       "      <td>NaN</td>\n",
       "      <td>NaN</td>\n",
       "      <td>NaN</td>\n",
       "      <td>NaN</td>\n",
       "    </tr>\n",
       "    <tr>\n",
       "      <th>2</th>\n",
       "      <td>Black December</td>\n",
       "      <td>NaN</td>\n",
       "      <td>NaN</td>\n",
       "      <td>NaN</td>\n",
       "      <td>NaN</td>\n",
       "      <td>0.0</td>\n",
       "      <td>NaN</td>\n",
       "      <td>NaN</td>\n",
       "      <td>0</td>\n",
       "      <td>1.0</td>\n",
       "      <td>NaN</td>\n",
       "      <td>NaN</td>\n",
       "      <td>NaN</td>\n",
       "      <td>NaN</td>\n",
       "      <td>NaN</td>\n",
       "      <td>NaN</td>\n",
       "      <td>NaN</td>\n",
       "      <td>NaN</td>\n",
       "      <td>NaN</td>\n",
       "      <td>NaN</td>\n",
       "    </tr>\n",
       "    <tr>\n",
       "      <th>3</th>\n",
       "      <td>Muslim Guerrillas</td>\n",
       "      <td>NaN</td>\n",
       "      <td>NaN</td>\n",
       "      <td>NaN</td>\n",
       "      <td>NaN</td>\n",
       "      <td>0.0</td>\n",
       "      <td>NaN</td>\n",
       "      <td>NaN</td>\n",
       "      <td>0</td>\n",
       "      <td>3.0</td>\n",
       "      <td>NaN</td>\n",
       "      <td>NaN</td>\n",
       "      <td>NaN</td>\n",
       "      <td>NaN</td>\n",
       "      <td>NaN</td>\n",
       "      <td>NaN</td>\n",
       "      <td>NaN</td>\n",
       "      <td>NaN</td>\n",
       "      <td>NaN</td>\n",
       "      <td>NaN</td>\n",
       "    </tr>\n",
       "    <tr>\n",
       "      <th>4</th>\n",
       "      <td>Unknown</td>\n",
       "      <td>NaN</td>\n",
       "      <td>NaN</td>\n",
       "      <td>NaN</td>\n",
       "      <td>NaN</td>\n",
       "      <td>0.0</td>\n",
       "      <td>NaN</td>\n",
       "      <td>NaN</td>\n",
       "      <td>0</td>\n",
       "      <td>NaN</td>\n",
       "      <td>NaN</td>\n",
       "      <td>NaN</td>\n",
       "      <td>NaN</td>\n",
       "      <td>NaN</td>\n",
       "      <td>NaN</td>\n",
       "      <td>NaN</td>\n",
       "      <td>NaN</td>\n",
       "      <td>NaN</td>\n",
       "      <td>NaN</td>\n",
       "      <td>NaN</td>\n",
       "    </tr>\n",
       "  </tbody>\n",
       "</table>\n",
       "</div>"
      ],
      "text/plain": [
       "               gname gsubname gname2 gname3 gsubname3  guncertain1  \\\n",
       "0            Unknown      NaN    NaN    NaN       NaN          0.0   \n",
       "1       Palestinians      NaN    NaN    NaN       NaN          0.0   \n",
       "2     Black December      NaN    NaN    NaN       NaN          0.0   \n",
       "3  Muslim Guerrillas      NaN    NaN    NaN       NaN          0.0   \n",
       "4            Unknown      NaN    NaN    NaN       NaN          0.0   \n",
       "\n",
       "   guncertain2  guncertain3  individual  nperps  nperpcap  claimed  claimmode  \\\n",
       "0          NaN          NaN           0     1.0       NaN      NaN        NaN   \n",
       "1          NaN          NaN           0     5.0       NaN      NaN        NaN   \n",
       "2          NaN          NaN           0     1.0       NaN      NaN        NaN   \n",
       "3          NaN          NaN           0     3.0       NaN      NaN        NaN   \n",
       "4          NaN          NaN           0     NaN       NaN      NaN        NaN   \n",
       "\n",
       "  claimmode_txt  compclaim  claim2  claimmode2  claim3  claimmode3 motive  \n",
       "0           NaN        NaN     NaN         NaN     NaN         NaN    NaN  \n",
       "1           NaN        NaN     NaN         NaN     NaN         NaN    NaN  \n",
       "2           NaN        NaN     NaN         NaN     NaN         NaN    NaN  \n",
       "3           NaN        NaN     NaN         NaN     NaN         NaN    NaN  \n",
       "4           NaN        NaN     NaN         NaN     NaN         NaN    NaN  "
      ]
     },
     "metadata": {},
     "output_type": "display_data"
    },
    {
     "name": "stdout",
     "output_type": "stream",
     "text": [
      "Dataset Overview\n",
      "\n"
     ]
    },
    {
     "data": {
      "text/plain": [
       "(44152, 20)"
      ]
     },
     "metadata": {},
     "output_type": "display_data"
    },
    {
     "name": "stdout",
     "output_type": "stream",
     "text": [
      "Dataset Shape\n",
      "\n"
     ]
    },
    {
     "data": {
      "text/plain": [
       "gname             object\n",
       "gsubname          object\n",
       "gname2            object\n",
       "gname3            object\n",
       "gsubname3         object\n",
       "guncertain1      float64\n",
       "guncertain2      float64\n",
       "guncertain3      float64\n",
       "individual         int64\n",
       "nperps           float64\n",
       "nperpcap         float64\n",
       "claimed          float64\n",
       "claimmode        float64\n",
       "claimmode_txt     object\n",
       "compclaim        float64\n",
       "claim2           float64\n",
       "claimmode2       float64\n",
       "claim3           float64\n",
       "claimmode3       float64\n",
       "motive            object\n",
       "dtype: object"
      ]
     },
     "metadata": {},
     "output_type": "display_data"
    },
    {
     "name": "stdout",
     "output_type": "stream",
     "text": [
      "Column datatypes\n",
      "\n"
     ]
    },
    {
     "data": {
      "text/plain": [
       "gname            False\n",
       "gsubname          True\n",
       "gname2            True\n",
       "gname3            True\n",
       "gsubname3         True\n",
       "guncertain1       True\n",
       "guncertain2       True\n",
       "guncertain3       True\n",
       "individual       False\n",
       "nperps            True\n",
       "nperpcap          True\n",
       "claimed           True\n",
       "claimmode         True\n",
       "claimmode_txt     True\n",
       "compclaim         True\n",
       "claim2            True\n",
       "claimmode2        True\n",
       "claim3            True\n",
       "claimmode3        True\n",
       "motive            True\n",
       "dtype: bool"
      ]
     },
     "metadata": {},
     "output_type": "display_data"
    },
    {
     "name": "stdout",
     "output_type": "stream",
     "text": [
      "Check for null values\n",
      "\n"
     ]
    },
    {
     "data": {
      "text/plain": [
       "gname             591\n",
       "gsubname          294\n",
       "gname2            130\n",
       "gname3             39\n",
       "gsubname3           4\n",
       "guncertain1         2\n",
       "guncertain2         2\n",
       "guncertain3         2\n",
       "individual          2\n",
       "nperps             75\n",
       "nperpcap           36\n",
       "claimed             3\n",
       "claimmode          10\n",
       "claimmode_txt      10\n",
       "compclaim           3\n",
       "claim2              3\n",
       "claimmode2          9\n",
       "claim3              2\n",
       "claimmode3          4\n",
       "motive           5304\n",
       "dtype: int64"
      ]
     },
     "metadata": {},
     "output_type": "display_data"
    },
    {
     "name": "stdout",
     "output_type": "stream",
     "text": [
      "Count of unique values\n",
      "\n"
     ]
    },
    {
     "data": {
      "text/html": [
       "<div>\n",
       "<style scoped>\n",
       "    .dataframe tbody tr th:only-of-type {\n",
       "        vertical-align: middle;\n",
       "    }\n",
       "\n",
       "    .dataframe tbody tr th {\n",
       "        vertical-align: top;\n",
       "    }\n",
       "\n",
       "    .dataframe thead th {\n",
       "        text-align: right;\n",
       "    }\n",
       "</style>\n",
       "<table border=\"1\" class=\"dataframe\">\n",
       "  <thead>\n",
       "    <tr style=\"text-align: right;\">\n",
       "      <th></th>\n",
       "      <th>guncertain1</th>\n",
       "      <th>guncertain2</th>\n",
       "      <th>guncertain3</th>\n",
       "      <th>individual</th>\n",
       "      <th>nperps</th>\n",
       "      <th>nperpcap</th>\n",
       "      <th>claimed</th>\n",
       "      <th>claimmode</th>\n",
       "      <th>compclaim</th>\n",
       "      <th>claim2</th>\n",
       "      <th>claimmode2</th>\n",
       "      <th>claim3</th>\n",
       "      <th>claimmode3</th>\n",
       "    </tr>\n",
       "  </thead>\n",
       "  <tbody>\n",
       "    <tr>\n",
       "      <th>count</th>\n",
       "      <td>44147.000000</td>\n",
       "      <td>628.000000</td>\n",
       "      <td>103.000000</td>\n",
       "      <td>44152.000000</td>\n",
       "      <td>34502.000000</td>\n",
       "      <td>36466.000000</td>\n",
       "      <td>37283.000000</td>\n",
       "      <td>7653.000000</td>\n",
       "      <td>1549.000000</td>\n",
       "      <td>642.000000</td>\n",
       "      <td>242.000000</td>\n",
       "      <td>102.000000</td>\n",
       "      <td>42.000000</td>\n",
       "    </tr>\n",
       "    <tr>\n",
       "      <th>mean</th>\n",
       "      <td>0.111151</td>\n",
       "      <td>0.324841</td>\n",
       "      <td>0.339806</td>\n",
       "      <td>0.000091</td>\n",
       "      <td>-71.714683</td>\n",
       "      <td>-0.603713</td>\n",
       "      <td>0.100314</td>\n",
       "      <td>6.842807</td>\n",
       "      <td>-5.311814</td>\n",
       "      <td>0.250779</td>\n",
       "      <td>6.793388</td>\n",
       "      <td>0.411765</td>\n",
       "      <td>6.476190</td>\n",
       "    </tr>\n",
       "    <tr>\n",
       "      <th>std</th>\n",
       "      <td>0.314323</td>\n",
       "      <td>0.468689</td>\n",
       "      <td>0.475959</td>\n",
       "      <td>0.009518</td>\n",
       "      <td>183.210589</td>\n",
       "      <td>8.946161</td>\n",
       "      <td>1.063345</td>\n",
       "      <td>2.802431</td>\n",
       "      <td>4.587394</td>\n",
       "      <td>1.204920</td>\n",
       "      <td>3.059350</td>\n",
       "      <td>0.494583</td>\n",
       "      <td>3.299949</td>\n",
       "    </tr>\n",
       "    <tr>\n",
       "      <th>min</th>\n",
       "      <td>0.000000</td>\n",
       "      <td>0.000000</td>\n",
       "      <td>0.000000</td>\n",
       "      <td>0.000000</td>\n",
       "      <td>-99.000000</td>\n",
       "      <td>-99.000000</td>\n",
       "      <td>-9.000000</td>\n",
       "      <td>1.000000</td>\n",
       "      <td>-9.000000</td>\n",
       "      <td>-9.000000</td>\n",
       "      <td>1.000000</td>\n",
       "      <td>0.000000</td>\n",
       "      <td>2.000000</td>\n",
       "    </tr>\n",
       "    <tr>\n",
       "      <th>25%</th>\n",
       "      <td>0.000000</td>\n",
       "      <td>0.000000</td>\n",
       "      <td>0.000000</td>\n",
       "      <td>0.000000</td>\n",
       "      <td>-99.000000</td>\n",
       "      <td>0.000000</td>\n",
       "      <td>0.000000</td>\n",
       "      <td>5.000000</td>\n",
       "      <td>-9.000000</td>\n",
       "      <td>0.000000</td>\n",
       "      <td>4.000000</td>\n",
       "      <td>0.000000</td>\n",
       "      <td>2.000000</td>\n",
       "    </tr>\n",
       "    <tr>\n",
       "      <th>50%</th>\n",
       "      <td>0.000000</td>\n",
       "      <td>0.000000</td>\n",
       "      <td>0.000000</td>\n",
       "      <td>0.000000</td>\n",
       "      <td>-99.000000</td>\n",
       "      <td>0.000000</td>\n",
       "      <td>0.000000</td>\n",
       "      <td>8.000000</td>\n",
       "      <td>-9.000000</td>\n",
       "      <td>0.000000</td>\n",
       "      <td>8.000000</td>\n",
       "      <td>0.000000</td>\n",
       "      <td>8.000000</td>\n",
       "    </tr>\n",
       "    <tr>\n",
       "      <th>75%</th>\n",
       "      <td>0.000000</td>\n",
       "      <td>1.000000</td>\n",
       "      <td>1.000000</td>\n",
       "      <td>0.000000</td>\n",
       "      <td>-99.000000</td>\n",
       "      <td>0.000000</td>\n",
       "      <td>0.000000</td>\n",
       "      <td>10.000000</td>\n",
       "      <td>0.000000</td>\n",
       "      <td>1.000000</td>\n",
       "      <td>10.000000</td>\n",
       "      <td>1.000000</td>\n",
       "      <td>10.000000</td>\n",
       "    </tr>\n",
       "    <tr>\n",
       "      <th>85%</th>\n",
       "      <td>0.000000</td>\n",
       "      <td>1.000000</td>\n",
       "      <td>1.000000</td>\n",
       "      <td>0.000000</td>\n",
       "      <td>2.000000</td>\n",
       "      <td>0.000000</td>\n",
       "      <td>1.000000</td>\n",
       "      <td>10.000000</td>\n",
       "      <td>0.000000</td>\n",
       "      <td>1.000000</td>\n",
       "      <td>10.000000</td>\n",
       "      <td>1.000000</td>\n",
       "      <td>10.000000</td>\n",
       "    </tr>\n",
       "    <tr>\n",
       "      <th>95%</th>\n",
       "      <td>1.000000</td>\n",
       "      <td>1.000000</td>\n",
       "      <td>1.000000</td>\n",
       "      <td>0.000000</td>\n",
       "      <td>8.000000</td>\n",
       "      <td>0.000000</td>\n",
       "      <td>1.000000</td>\n",
       "      <td>10.000000</td>\n",
       "      <td>1.000000</td>\n",
       "      <td>1.000000</td>\n",
       "      <td>10.000000</td>\n",
       "      <td>1.000000</td>\n",
       "      <td>10.000000</td>\n",
       "    </tr>\n",
       "    <tr>\n",
       "      <th>99%</th>\n",
       "      <td>1.000000</td>\n",
       "      <td>1.000000</td>\n",
       "      <td>1.000000</td>\n",
       "      <td>0.000000</td>\n",
       "      <td>80.000000</td>\n",
       "      <td>3.000000</td>\n",
       "      <td>1.000000</td>\n",
       "      <td>10.000000</td>\n",
       "      <td>1.000000</td>\n",
       "      <td>1.000000</td>\n",
       "      <td>10.000000</td>\n",
       "      <td>1.000000</td>\n",
       "      <td>10.000000</td>\n",
       "    </tr>\n",
       "    <tr>\n",
       "      <th>max</th>\n",
       "      <td>1.000000</td>\n",
       "      <td>1.000000</td>\n",
       "      <td>1.000000</td>\n",
       "      <td>1.000000</td>\n",
       "      <td>25000.000000</td>\n",
       "      <td>406.000000</td>\n",
       "      <td>1.000000</td>\n",
       "      <td>10.000000</td>\n",
       "      <td>1.000000</td>\n",
       "      <td>1.000000</td>\n",
       "      <td>10.000000</td>\n",
       "      <td>1.000000</td>\n",
       "      <td>10.000000</td>\n",
       "    </tr>\n",
       "  </tbody>\n",
       "</table>\n",
       "</div>"
      ],
      "text/plain": [
       "        guncertain1  guncertain2  guncertain3    individual        nperps  \\\n",
       "count  44147.000000   628.000000   103.000000  44152.000000  34502.000000   \n",
       "mean       0.111151     0.324841     0.339806      0.000091    -71.714683   \n",
       "std        0.314323     0.468689     0.475959      0.009518    183.210589   \n",
       "min        0.000000     0.000000     0.000000      0.000000    -99.000000   \n",
       "25%        0.000000     0.000000     0.000000      0.000000    -99.000000   \n",
       "50%        0.000000     0.000000     0.000000      0.000000    -99.000000   \n",
       "75%        0.000000     1.000000     1.000000      0.000000    -99.000000   \n",
       "85%        0.000000     1.000000     1.000000      0.000000      2.000000   \n",
       "95%        1.000000     1.000000     1.000000      0.000000      8.000000   \n",
       "99%        1.000000     1.000000     1.000000      0.000000     80.000000   \n",
       "max        1.000000     1.000000     1.000000      1.000000  25000.000000   \n",
       "\n",
       "           nperpcap       claimed    claimmode    compclaim      claim2  \\\n",
       "count  36466.000000  37283.000000  7653.000000  1549.000000  642.000000   \n",
       "mean      -0.603713      0.100314     6.842807    -5.311814    0.250779   \n",
       "std        8.946161      1.063345     2.802431     4.587394    1.204920   \n",
       "min      -99.000000     -9.000000     1.000000    -9.000000   -9.000000   \n",
       "25%        0.000000      0.000000     5.000000    -9.000000    0.000000   \n",
       "50%        0.000000      0.000000     8.000000    -9.000000    0.000000   \n",
       "75%        0.000000      0.000000    10.000000     0.000000    1.000000   \n",
       "85%        0.000000      1.000000    10.000000     0.000000    1.000000   \n",
       "95%        0.000000      1.000000    10.000000     1.000000    1.000000   \n",
       "99%        3.000000      1.000000    10.000000     1.000000    1.000000   \n",
       "max      406.000000      1.000000    10.000000     1.000000    1.000000   \n",
       "\n",
       "       claimmode2      claim3  claimmode3  \n",
       "count  242.000000  102.000000   42.000000  \n",
       "mean     6.793388    0.411765    6.476190  \n",
       "std      3.059350    0.494583    3.299949  \n",
       "min      1.000000    0.000000    2.000000  \n",
       "25%      4.000000    0.000000    2.000000  \n",
       "50%      8.000000    0.000000    8.000000  \n",
       "75%     10.000000    1.000000   10.000000  \n",
       "85%     10.000000    1.000000   10.000000  \n",
       "95%     10.000000    1.000000   10.000000  \n",
       "99%     10.000000    1.000000   10.000000  \n",
       "max     10.000000    1.000000   10.000000  "
      ]
     },
     "metadata": {},
     "output_type": "display_data"
    },
    {
     "name": "stdout",
     "output_type": "stream",
     "text": [
      "Dataset descriptive information \n",
      "\n"
     ]
    },
    {
     "data": {
      "text/plain": [
       "gsubname3        99.990940\n",
       "claimmode3       99.904874\n",
       "claim3           99.768980\n",
       "guncertain3      99.766715\n",
       "gname3           99.762185\n",
       "claimmode2       99.451893\n",
       "guncertain2      98.577641\n",
       "claim2           98.545932\n",
       "gname2           98.525548\n",
       "gsubname         96.586791\n",
       "compclaim        96.491665\n",
       "claimmode        82.666697\n",
       "claimmode_txt    82.666697\n",
       "motive           61.974542\n",
       "nperps           21.856315\n",
       "nperpcap         17.408045\n",
       "claimed          15.557619\n",
       "guncertain1       0.011325\n",
       "individual        0.000000\n",
       "gname             0.000000\n",
       "dtype: float64"
      ]
     },
     "metadata": {},
     "output_type": "display_data"
    },
    {
     "name": "stdout",
     "output_type": "stream",
     "text": [
      "Percentage of null values\n",
      "\n"
     ]
    }
   ],
   "source": [
    "prelim_inspection(df_perp)"
   ]
  },
  {
   "cell_type": "code",
   "execution_count": 302,
   "metadata": {
    "id": "xBipXRSD3Gjl"
   },
   "outputs": [],
   "source": [
    "df_perp = df_perp[[\"gname\", \"nperpcap\", \"nperps\", \"individual\", \"guncertain1\"]]"
   ]
  },
  {
   "cell_type": "code",
   "execution_count": 303,
   "metadata": {
    "colab": {
     "base_uri": "https://localhost:8080/"
    },
    "id": "SzhFNuFm3Gjm",
    "outputId": "9e8c7c80-3295-4467-dfdb-45e79fd9df1f"
   },
   "outputs": [
    {
     "data": {
      "text/plain": [
       "gname           object\n",
       "nperpcap       float64\n",
       "nperps         float64\n",
       "individual       int64\n",
       "guncertain1    float64\n",
       "dtype: object"
      ]
     },
     "execution_count": 303,
     "metadata": {},
     "output_type": "execute_result"
    }
   ],
   "source": [
    "df_perp.dtypes"
   ]
  },
  {
   "cell_type": "code",
   "execution_count": 304,
   "metadata": {
    "id": "mkT0f2xs3Gjm"
   },
   "outputs": [],
   "source": [
    "# Impute null values AND datatypes of [\"guncertain1\", \"nperpcap\" AND \"nperp\"]\n",
    "df_perp[\"nperps\"] =  df_perp[\"nperps\"].fillna(-99)\n",
    "df_perp[\"nperpcap\"] = df_perp[\"nperpcap\"].fillna(-99)"
   ]
  },
  {
   "cell_type": "code",
   "execution_count": 305,
   "metadata": {
    "id": "spq3YWDR3Gjm"
   },
   "outputs": [],
   "source": [
    "# Only 4 records in the entire dataframe, so drop it \n",
    "df_perp.drop([\"individual\", \"guncertain1\"], axis=1, inplace=True)"
   ]
  },
  {
   "cell_type": "code",
   "execution_count": 306,
   "metadata": {
    "colab": {
     "base_uri": "https://localhost:8080/"
    },
    "id": "xn7CNe_z3Gjm",
    "outputId": "e8f8a225-855b-4199-ff7b-895ac4c58dc5"
   },
   "outputs": [
    {
     "data": {
      "text/plain": [
       "0         1.0\n",
       "1         5.0\n",
       "2         1.0\n",
       "3         3.0\n",
       "4       -99.0\n",
       "         ... \n",
       "44147   -99.0\n",
       "44148   -99.0\n",
       "44149   -99.0\n",
       "44150   -99.0\n",
       "44151   -99.0\n",
       "Name: nperps, Length: 44152, dtype: float64"
      ]
     },
     "execution_count": 306,
     "metadata": {},
     "output_type": "execute_result"
    }
   ],
   "source": [
    "df_perp[\"nperps\"]"
   ]
  },
  {
   "cell_type": "markdown",
   "metadata": {
    "id": "pWSsv0uv3Gjm"
   },
   "source": [
    "**Observations and Analysis**\n",
    "- Almost all attacks in the South  Asian region have been carried out by affiliated individuals, barring a few lone-wolves who conducted terrorist attacks in an individual capacity. However, as instructed, such individuals could be operating as sleeper cells, who are not aware of their leader, who in turn could be associated with an organization\n",
    "- Since a vast majority of perpetrator group names are unknown, it is plausible that a majority of attacks were carried out by localized groups and insurgents, and they mostly operate within one nation state - Check it out later \n",
    "- Dubious reporting of terrorist attacks? - Analyze only unsuspected attacks "
   ]
  },
  {
   "cell_type": "code",
   "execution_count": 307,
   "metadata": {
    "colab": {
     "base_uri": "https://localhost:8080/",
     "height": 206
    },
    "id": "GFD5c7PP3Gjm",
    "outputId": "08a8a358-a968-47f0-d497-f689e2b6bf55"
   },
   "outputs": [
    {
     "data": {
      "text/html": [
       "<div>\n",
       "<style scoped>\n",
       "    .dataframe tbody tr th:only-of-type {\n",
       "        vertical-align: middle;\n",
       "    }\n",
       "\n",
       "    .dataframe tbody tr th {\n",
       "        vertical-align: top;\n",
       "    }\n",
       "\n",
       "    .dataframe thead th {\n",
       "        text-align: right;\n",
       "    }\n",
       "</style>\n",
       "<table border=\"1\" class=\"dataframe\">\n",
       "  <thead>\n",
       "    <tr style=\"text-align: right;\">\n",
       "      <th></th>\n",
       "      <th>Attack_count</th>\n",
       "    </tr>\n",
       "  </thead>\n",
       "  <tbody>\n",
       "    <tr>\n",
       "      <th>Unknown</th>\n",
       "      <td>21415</td>\n",
       "    </tr>\n",
       "    <tr>\n",
       "      <th>Taliban</th>\n",
       "      <td>7325</td>\n",
       "    </tr>\n",
       "    <tr>\n",
       "      <th>Communist Party of India - Maoist (CPI-Maoist)</th>\n",
       "      <td>1863</td>\n",
       "    </tr>\n",
       "    <tr>\n",
       "      <th>Maoists</th>\n",
       "      <td>1605</td>\n",
       "    </tr>\n",
       "    <tr>\n",
       "      <th>Liberation Tigers of Tamil Eelam (LTTE)</th>\n",
       "      <td>1599</td>\n",
       "    </tr>\n",
       "  </tbody>\n",
       "</table>\n",
       "</div>"
      ],
      "text/plain": [
       "                                                Attack_count\n",
       "Unknown                                                21415\n",
       "Taliban                                                 7325\n",
       "Communist Party of India - Maoist (CPI-Maoist)          1863\n",
       "Maoists                                                 1605\n",
       "Liberation Tigers of Tamil Eelam (LTTE)                 1599"
      ]
     },
     "execution_count": 307,
     "metadata": {},
     "output_type": "execute_result"
    }
   ],
   "source": [
    "top_perp_info = df_perp[\"gname\"].value_counts().sort_values(ascending=False).head(10).to_dict()\n",
    "df_perp_info = pd.DataFrame(data=top_perp_info.values(), index=top_perp_info.keys(), columns=[\"Attack_count\"])\n",
    "df_perp_info.head()"
   ]
  },
  {
   "cell_type": "code",
   "execution_count": 308,
   "metadata": {
    "colab": {
     "base_uri": "https://localhost:8080/"
    },
    "id": "1LbXcZIT3Gjn",
    "outputId": "8039e7f8-44cc-4e1e-839e-d877d31e60ea"
   },
   "outputs": [
    {
     "name": "stdout",
     "output_type": "stream",
     "text": [
      "[21415, 7325, 1863, 1605, 1599, 1349, 711, 433, 357, 337]\n",
      "['Unknown', 'Taliban', 'Communist Party of India - Maoist (CPI-Maoist)', 'Maoists', 'Liberation Tigers of Tamil Eelam (LTTE)', 'Tehrik-i-Taliban Pakistan (TTP)', 'Sikh Extremists', \"People's Liberation Front (JVP)\", 'United Liberation Front of Assam (ULFA)', 'Khorasan Chapter of the Islamic State']\n"
     ]
    }
   ],
   "source": [
    "values = df_perp_info[\"Attack_count\"]\n",
    "labels = df_perp_info.index\n",
    "print(values.tolist())\n",
    "print(labels.tolist())"
   ]
  },
  {
   "cell_type": "code",
   "execution_count": 309,
   "metadata": {
    "colab": {
     "base_uri": "https://localhost:8080/",
     "height": 675
    },
    "id": "TcBdWXwP3Gjn",
    "outputId": "543adb0c-070d-44c3-9ce9-00ded448e6e2"
   },
   "outputs": [
    {
     "data": {
      "image/png": "[encoded data removed]",
      "text/plain": [
       "<Figure size 1800x1400 with 1 Axes>"
      ]
     },
     "metadata": {},
     "output_type": "display_data"
    }
   ],
   "source": [
    "def my_autopct(pct): \n",
    "  return (\"%.2f%%\" % pct) if pct>10 else \"\"\n",
    "\n",
    "fig, ax = plt.subplots(figsize=(18, 14), subplot_kw=dict(aspect=\"equal\"))\n",
    "myexplode=[0.05, 0, 0, 0, 0, 0, 0, 0, 0, 0]\n",
    "ax.pie(values, shadow=True, startangle=90, autopct=my_autopct, pctdistance=0.6, explode=myexplode, textprops={\"fontsize\": 20})\n",
    "ax.axis('equal')\n",
    "ax.legend(labels, loc='upper right', bbox_to_anchor = (1.3, 0.9), fontsize=15)\n",
    "fig.set_facecolor(\"floralwhite\")"
   ]
  },
  {
   "cell_type": "markdown",
   "metadata": {
    "id": "K2YnJf783Gjn"
   },
   "source": [
    "**Observations and Analysis** \n",
    "- A vast majority of perpetrator group names haven't been reported, i.e., they have been marked as \"unknown\". It could be that such terrorist attacks were not properly documented, or that several non-state rebel groups and other discrete entities carried out the attack, in which case it becomes difficult to ascertain one particular cause of the attack. "
   ]
  },
  {
   "cell_type": "code",
   "execution_count": 310,
   "metadata": {
    "colab": {
     "base_uri": "https://localhost:8080/"
    },
    "id": "sRjIfav13Gjn",
    "outputId": "af0b4477-3d70-4980-f5b4-28da54fac09d"
   },
   "outputs": [
    {
     "data": {
      "text/plain": [
       "-99.0    18495\n",
       " 2.0      1014\n",
       " 1.0       877\n",
       " 3.0       305\n",
       " 4.0       299\n",
       "Name: nperps, dtype: int64"
      ]
     },
     "execution_count": 310,
     "metadata": {},
     "output_type": "execute_result"
    }
   ],
   "source": [
    "# Assess the record of no. of perpetrators involved in unknown attacks \n",
    "df_unknownperp = df_perp[df_perp[\"gname\"]==\"Unknown\"]\n",
    "df_unknownperp[\"nperps\"].value_counts().head(5)"
   ]
  },
  {
   "cell_type": "code",
   "execution_count": 24,
   "metadata": {
    "colab": {
     "base_uri": "https://localhost:8080/"
    },
    "id": "PtShzr4E3Gjn",
    "outputId": "e562e2c6-b0a9-43ab-b140-7b909d1ec83a"
   },
   "outputs": [
    {
     "data": {
      "text/plain": [
       "gname       0\n",
       "nperpcap    0\n",
       "nperps      0\n",
       "dtype: int64"
      ]
     },
     "execution_count": 24,
     "metadata": {},
     "output_type": "execute_result"
    }
   ],
   "source": [
    "df_perp.isnull().sum()"
   ]
  },
  {
   "cell_type": "code",
   "execution_count": 312,
   "metadata": {
    "colab": {
     "base_uri": "https://localhost:8080/"
    },
    "id": "pys6Lv983Gjo",
    "outputId": "2b6b2776-0c45-47a7-9a37-845c008953b1"
   },
   "outputs": [
    {
     "data": {
      "text/plain": [
       "gname       0\n",
       "nperpcap    0\n",
       "nperps      0\n",
       "dtype: int64"
      ]
     },
     "execution_count": 312,
     "metadata": {},
     "output_type": "execute_result"
    }
   ],
   "source": [
    "df_perp.isnull().sum()"
   ]
  },
  {
   "cell_type": "code",
   "execution_count": 311,
   "metadata": {},
   "outputs": [
    {
     "data": {
      "text/plain": [
       "(44152, 3)"
      ]
     },
     "execution_count": 311,
     "metadata": {},
     "output_type": "execute_result"
    }
   ],
   "source": [
    "df_perp.shape"
   ]
  },
  {
   "cell_type": "code",
   "execution_count": 313,
   "metadata": {
    "id": "iojU8viG3Gjo"
   },
   "outputs": [],
   "source": [
    "df_perp.to_csv(\"data/perpetrator.csv\", index=False) "
   ]
  },
  {
   "cell_type": "markdown",
   "metadata": {
    "id": "g3m6ylPZ3Gjo"
   },
   "source": [
    "**Observations and Analysis**\n",
    "- We do not have substantial evidence as to how many perpetrators were involved in the attack "
   ]
  },
  {
   "cell_type": "markdown",
   "metadata": {
    "id": "b4SMGch13Gjo"
   },
   "source": [
    "#### Target Data "
   ]
  },
  {
   "cell_type": "markdown",
   "metadata": {
    "id": "Y4hfe3w63Gjo"
   },
   "source": [
    "<!-- **Observations**\n",
    "Media outlets often draw false inferences based on unsubstantiated evidence. Dubious reporting of terrorist attacks may hamper the efforts of security agencies in curtailing terrorism. Hence, for the time being, we will analyze only unsuspected instances of terrorist attacks. Suspected attacks can be (Infer)  -->"
   ]
  },
  {
   "cell_type": "code",
   "execution_count": 350,
   "metadata": {
    "colab": {
     "base_uri": "https://localhost:8080/",
     "height": 1000
    },
    "id": "xAyxfyEF3Gjo",
    "outputId": "f0bb04b5-408d-42fa-b700-e63261f9c0aa",
    "scrolled": false
   },
   "outputs": [
    {
     "data": {
      "text/html": [
       "<div>\n",
       "<style scoped>\n",
       "    .dataframe tbody tr th:only-of-type {\n",
       "        vertical-align: middle;\n",
       "    }\n",
       "\n",
       "    .dataframe tbody tr th {\n",
       "        vertical-align: top;\n",
       "    }\n",
       "\n",
       "    .dataframe thead th {\n",
       "        text-align: right;\n",
       "    }\n",
       "</style>\n",
       "<table border=\"1\" class=\"dataframe\">\n",
       "  <thead>\n",
       "    <tr style=\"text-align: right;\">\n",
       "      <th></th>\n",
       "      <th>targtype1</th>\n",
       "      <th>targtype1_txt</th>\n",
       "      <th>targsubtype1</th>\n",
       "      <th>targsubtype1_txt</th>\n",
       "      <th>corp1</th>\n",
       "      <th>target1</th>\n",
       "      <th>natlty1</th>\n",
       "      <th>natlty1_txt</th>\n",
       "      <th>corp2</th>\n",
       "      <th>target2</th>\n",
       "      <th>natlty2</th>\n",
       "      <th>natlty2_txt</th>\n",
       "      <th>targtype2</th>\n",
       "      <th>targtype2_txt</th>\n",
       "      <th>corp3</th>\n",
       "      <th>target3</th>\n",
       "      <th>natlty3</th>\n",
       "      <th>natlty3_txt</th>\n",
       "      <th>targtype3</th>\n",
       "      <th>targtype3_txt</th>\n",
       "    </tr>\n",
       "  </thead>\n",
       "  <tbody>\n",
       "    <tr>\n",
       "      <th>0</th>\n",
       "      <td>7</td>\n",
       "      <td>Government (Diplomatic)</td>\n",
       "      <td>45.0</td>\n",
       "      <td>Diplomatic Personnel (outside of embassy, cons...</td>\n",
       "      <td>Polish Ministry of Foreign Affairs</td>\n",
       "      <td>Deputy Foreign Minister: Zygfryd Wolniak</td>\n",
       "      <td>161.0</td>\n",
       "      <td>Poland</td>\n",
       "      <td>Polish Ministry of Foreign Affairs</td>\n",
       "      <td>Ambassador to Pakistan: Alojzy Bartoszek</td>\n",
       "      <td>161.0</td>\n",
       "      <td>Poland</td>\n",
       "      <td>7.0</td>\n",
       "      <td>Government (Diplomatic)</td>\n",
       "      <td>Polish Ministry of Foreign Affairs</td>\n",
       "      <td>Consul General in Karachi: W. Duda</td>\n",
       "      <td>161.0</td>\n",
       "      <td>Poland</td>\n",
       "      <td>7.0</td>\n",
       "      <td>Government (Diplomatic)</td>\n",
       "    </tr>\n",
       "    <tr>\n",
       "      <th>1</th>\n",
       "      <td>6</td>\n",
       "      <td>Airports &amp; Aircraft</td>\n",
       "      <td>42.0</td>\n",
       "      <td>Aircraft (not at an airport)</td>\n",
       "      <td>Lufthansa</td>\n",
       "      <td>B-747</td>\n",
       "      <td>75.0</td>\n",
       "      <td>Germany</td>\n",
       "      <td>NaN</td>\n",
       "      <td>NaN</td>\n",
       "      <td>NaN</td>\n",
       "      <td>NaN</td>\n",
       "      <td>NaN</td>\n",
       "      <td>NaN</td>\n",
       "      <td>NaN</td>\n",
       "      <td>NaN</td>\n",
       "      <td>NaN</td>\n",
       "      <td>NaN</td>\n",
       "      <td>NaN</td>\n",
       "      <td>NaN</td>\n",
       "    </tr>\n",
       "    <tr>\n",
       "      <th>2</th>\n",
       "      <td>6</td>\n",
       "      <td>Airports &amp; Aircraft</td>\n",
       "      <td>43.0</td>\n",
       "      <td>Airline Officer/Personnel</td>\n",
       "      <td>Indian Airlines</td>\n",
       "      <td>unk, asst. mgr., Indian Airlines, Kabul</td>\n",
       "      <td>92.0</td>\n",
       "      <td>India</td>\n",
       "      <td>NaN</td>\n",
       "      <td>NaN</td>\n",
       "      <td>NaN</td>\n",
       "      <td>NaN</td>\n",
       "      <td>NaN</td>\n",
       "      <td>NaN</td>\n",
       "      <td>NaN</td>\n",
       "      <td>NaN</td>\n",
       "      <td>NaN</td>\n",
       "      <td>NaN</td>\n",
       "      <td>NaN</td>\n",
       "      <td>NaN</td>\n",
       "    </tr>\n",
       "    <tr>\n",
       "      <th>3</th>\n",
       "      <td>11</td>\n",
       "      <td>Maritime</td>\n",
       "      <td>58.0</td>\n",
       "      <td>Commercial Maritime</td>\n",
       "      <td>NaN</td>\n",
       "      <td>Greek Freighter in Karachi</td>\n",
       "      <td>78.0</td>\n",
       "      <td>Greece</td>\n",
       "      <td>NaN</td>\n",
       "      <td>NaN</td>\n",
       "      <td>NaN</td>\n",
       "      <td>NaN</td>\n",
       "      <td>NaN</td>\n",
       "      <td>NaN</td>\n",
       "      <td>NaN</td>\n",
       "      <td>NaN</td>\n",
       "      <td>NaN</td>\n",
       "      <td>NaN</td>\n",
       "      <td>NaN</td>\n",
       "      <td>NaN</td>\n",
       "    </tr>\n",
       "    <tr>\n",
       "      <th>4</th>\n",
       "      <td>7</td>\n",
       "      <td>Government (Diplomatic)</td>\n",
       "      <td>46.0</td>\n",
       "      <td>Embassy/Consulate</td>\n",
       "      <td>NaN</td>\n",
       "      <td>USIS Center</td>\n",
       "      <td>217.0</td>\n",
       "      <td>United States</td>\n",
       "      <td>NaN</td>\n",
       "      <td>NaN</td>\n",
       "      <td>NaN</td>\n",
       "      <td>NaN</td>\n",
       "      <td>NaN</td>\n",
       "      <td>NaN</td>\n",
       "      <td>NaN</td>\n",
       "      <td>NaN</td>\n",
       "      <td>NaN</td>\n",
       "      <td>NaN</td>\n",
       "      <td>NaN</td>\n",
       "      <td>NaN</td>\n",
       "    </tr>\n",
       "  </tbody>\n",
       "</table>\n",
       "</div>"
      ],
      "text/plain": [
       "   targtype1            targtype1_txt  targsubtype1  \\\n",
       "0          7  Government (Diplomatic)          45.0   \n",
       "1          6      Airports & Aircraft          42.0   \n",
       "2          6      Airports & Aircraft          43.0   \n",
       "3         11                 Maritime          58.0   \n",
       "4          7  Government (Diplomatic)          46.0   \n",
       "\n",
       "                                    targsubtype1_txt  \\\n",
       "0  Diplomatic Personnel (outside of embassy, cons...   \n",
       "1                       Aircraft (not at an airport)   \n",
       "2                          Airline Officer/Personnel   \n",
       "3                                Commercial Maritime   \n",
       "4                                  Embassy/Consulate   \n",
       "\n",
       "                                corp1  \\\n",
       "0  Polish Ministry of Foreign Affairs   \n",
       "1                           Lufthansa   \n",
       "2                     Indian Airlines   \n",
       "3                                 NaN   \n",
       "4                                 NaN   \n",
       "\n",
       "                                    target1  natlty1    natlty1_txt  \\\n",
       "0  Deputy Foreign Minister: Zygfryd Wolniak    161.0         Poland   \n",
       "1                                     B-747     75.0        Germany   \n",
       "2   unk, asst. mgr., Indian Airlines, Kabul     92.0          India   \n",
       "3                Greek Freighter in Karachi     78.0         Greece   \n",
       "4                               USIS Center    217.0  United States   \n",
       "\n",
       "                                corp2  \\\n",
       "0  Polish Ministry of Foreign Affairs   \n",
       "1                                 NaN   \n",
       "2                                 NaN   \n",
       "3                                 NaN   \n",
       "4                                 NaN   \n",
       "\n",
       "                                    target2  natlty2 natlty2_txt  targtype2  \\\n",
       "0  Ambassador to Pakistan: Alojzy Bartoszek    161.0      Poland        7.0   \n",
       "1                                       NaN      NaN         NaN        NaN   \n",
       "2                                       NaN      NaN         NaN        NaN   \n",
       "3                                       NaN      NaN         NaN        NaN   \n",
       "4                                       NaN      NaN         NaN        NaN   \n",
       "\n",
       "             targtype2_txt                               corp3  \\\n",
       "0  Government (Diplomatic)  Polish Ministry of Foreign Affairs   \n",
       "1                      NaN                                 NaN   \n",
       "2                      NaN                                 NaN   \n",
       "3                      NaN                                 NaN   \n",
       "4                      NaN                                 NaN   \n",
       "\n",
       "                              target3  natlty3 natlty3_txt  targtype3  \\\n",
       "0  Consul General in Karachi: W. Duda    161.0      Poland        7.0   \n",
       "1                                 NaN      NaN         NaN        NaN   \n",
       "2                                 NaN      NaN         NaN        NaN   \n",
       "3                                 NaN      NaN         NaN        NaN   \n",
       "4                                 NaN      NaN         NaN        NaN   \n",
       "\n",
       "             targtype3_txt  \n",
       "0  Government (Diplomatic)  \n",
       "1                      NaN  \n",
       "2                      NaN  \n",
       "3                      NaN  \n",
       "4                      NaN  "
      ]
     },
     "metadata": {},
     "output_type": "display_data"
    },
    {
     "name": "stdout",
     "output_type": "stream",
     "text": [
      "Dataset Overview\n",
      "\n"
     ]
    },
    {
     "data": {
      "text/plain": [
       "(44152, 20)"
      ]
     },
     "metadata": {},
     "output_type": "display_data"
    },
    {
     "name": "stdout",
     "output_type": "stream",
     "text": [
      "Dataset Shape\n",
      "\n"
     ]
    },
    {
     "data": {
      "text/plain": [
       "targtype1             int64\n",
       "targtype1_txt        object\n",
       "targsubtype1        float64\n",
       "targsubtype1_txt     object\n",
       "corp1                object\n",
       "target1              object\n",
       "natlty1             float64\n",
       "natlty1_txt          object\n",
       "corp2                object\n",
       "target2              object\n",
       "natlty2             float64\n",
       "natlty2_txt          object\n",
       "targtype2           float64\n",
       "targtype2_txt        object\n",
       "corp3                object\n",
       "target3              object\n",
       "natlty3             float64\n",
       "natlty3_txt          object\n",
       "targtype3           float64\n",
       "targtype3_txt        object\n",
       "dtype: object"
      ]
     },
     "metadata": {},
     "output_type": "display_data"
    },
    {
     "name": "stdout",
     "output_type": "stream",
     "text": [
      "Column datatypes\n",
      "\n"
     ]
    },
    {
     "data": {
      "text/plain": [
       "targtype1           False\n",
       "targtype1_txt       False\n",
       "targsubtype1         True\n",
       "targsubtype1_txt     True\n",
       "corp1                True\n",
       "target1              True\n",
       "natlty1              True\n",
       "natlty1_txt          True\n",
       "corp2                True\n",
       "target2              True\n",
       "natlty2              True\n",
       "natlty2_txt          True\n",
       "targtype2            True\n",
       "targtype2_txt        True\n",
       "corp3                True\n",
       "target3              True\n",
       "natlty3              True\n",
       "natlty3_txt          True\n",
       "targtype3            True\n",
       "targtype3_txt        True\n",
       "dtype: bool"
      ]
     },
     "metadata": {},
     "output_type": "display_data"
    },
    {
     "name": "stdout",
     "output_type": "stream",
     "text": [
      "Check for null values\n",
      "\n"
     ]
    },
    {
     "data": {
      "text/plain": [
       "targtype1              21\n",
       "targtype1_txt          21\n",
       "targsubtype1          109\n",
       "targsubtype1_txt      109\n",
       "corp1                7737\n",
       "target1             21916\n",
       "natlty1                73\n",
       "natlty1_txt            73\n",
       "corp2                 694\n",
       "target2              1602\n",
       "natlty2                31\n",
       "natlty2_txt            31\n",
       "targtype2              21\n",
       "targtype2_txt          21\n",
       "corp3                 105\n",
       "target3               204\n",
       "natlty3                19\n",
       "natlty3_txt            19\n",
       "targtype3              18\n",
       "targtype3_txt          18\n",
       "dtype: int64"
      ]
     },
     "metadata": {},
     "output_type": "display_data"
    },
    {
     "name": "stdout",
     "output_type": "stream",
     "text": [
      "Count of unique values\n",
      "\n"
     ]
    },
    {
     "data": {
      "text/html": [
       "<div>\n",
       "<style scoped>\n",
       "    .dataframe tbody tr th:only-of-type {\n",
       "        vertical-align: middle;\n",
       "    }\n",
       "\n",
       "    .dataframe tbody tr th {\n",
       "        vertical-align: top;\n",
       "    }\n",
       "\n",
       "    .dataframe thead th {\n",
       "        text-align: right;\n",
       "    }\n",
       "</style>\n",
       "<table border=\"1\" class=\"dataframe\">\n",
       "  <thead>\n",
       "    <tr style=\"text-align: right;\">\n",
       "      <th></th>\n",
       "      <th>targtype1</th>\n",
       "      <th>targsubtype1</th>\n",
       "      <th>natlty1</th>\n",
       "      <th>natlty2</th>\n",
       "      <th>targtype2</th>\n",
       "      <th>natlty3</th>\n",
       "      <th>targtype3</th>\n",
       "    </tr>\n",
       "  </thead>\n",
       "  <tbody>\n",
       "    <tr>\n",
       "      <th>count</th>\n",
       "      <td>44152.000000</td>\n",
       "      <td>41135.000000</td>\n",
       "      <td>43335.000000</td>\n",
       "      <td>3215.000000</td>\n",
       "      <td>3302.000000</td>\n",
       "      <td>293.000000</td>\n",
       "      <td>294.000000</td>\n",
       "    </tr>\n",
       "    <tr>\n",
       "      <th>mean</th>\n",
       "      <td>8.818038</td>\n",
       "      <td>48.129841</td>\n",
       "      <td>103.883143</td>\n",
       "      <td>80.902955</td>\n",
       "      <td>10.262871</td>\n",
       "      <td>98.071672</td>\n",
       "      <td>9.527211</td>\n",
       "    </tr>\n",
       "    <tr>\n",
       "      <th>std</th>\n",
       "      <td>6.797764</td>\n",
       "      <td>30.840459</td>\n",
       "      <td>87.226026</td>\n",
       "      <td>100.909630</td>\n",
       "      <td>5.579961</td>\n",
       "      <td>152.016801</td>\n",
       "      <td>5.745835</td>\n",
       "    </tr>\n",
       "    <tr>\n",
       "      <th>min</th>\n",
       "      <td>1.000000</td>\n",
       "      <td>1.000000</td>\n",
       "      <td>4.000000</td>\n",
       "      <td>4.000000</td>\n",
       "      <td>1.000000</td>\n",
       "      <td>4.000000</td>\n",
       "      <td>1.000000</td>\n",
       "    </tr>\n",
       "    <tr>\n",
       "      <th>25%</th>\n",
       "      <td>3.000000</td>\n",
       "      <td>23.000000</td>\n",
       "      <td>19.000000</td>\n",
       "      <td>4.000000</td>\n",
       "      <td>4.000000</td>\n",
       "      <td>4.000000</td>\n",
       "      <td>3.000000</td>\n",
       "    </tr>\n",
       "    <tr>\n",
       "      <th>50%</th>\n",
       "      <td>4.000000</td>\n",
       "      <td>36.000000</td>\n",
       "      <td>92.000000</td>\n",
       "      <td>92.000000</td>\n",
       "      <td>14.000000</td>\n",
       "      <td>92.000000</td>\n",
       "      <td>14.000000</td>\n",
       "    </tr>\n",
       "    <tr>\n",
       "      <th>75%</th>\n",
       "      <td>14.000000</td>\n",
       "      <td>74.000000</td>\n",
       "      <td>153.000000</td>\n",
       "      <td>153.000000</td>\n",
       "      <td>14.000000</td>\n",
       "      <td>153.000000</td>\n",
       "      <td>14.000000</td>\n",
       "    </tr>\n",
       "    <tr>\n",
       "      <th>85%</th>\n",
       "      <td>17.000000</td>\n",
       "      <td>84.000000</td>\n",
       "      <td>153.000000</td>\n",
       "      <td>153.000000</td>\n",
       "      <td>14.000000</td>\n",
       "      <td>153.000000</td>\n",
       "      <td>14.000000</td>\n",
       "    </tr>\n",
       "    <tr>\n",
       "      <th>95%</th>\n",
       "      <td>20.000000</td>\n",
       "      <td>106.000000</td>\n",
       "      <td>186.000000</td>\n",
       "      <td>186.000000</td>\n",
       "      <td>15.000000</td>\n",
       "      <td>186.000000</td>\n",
       "      <td>15.350000</td>\n",
       "    </tr>\n",
       "    <tr>\n",
       "      <th>99%</th>\n",
       "      <td>22.000000</td>\n",
       "      <td>110.000000</td>\n",
       "      <td>422.000000</td>\n",
       "      <td>422.000000</td>\n",
       "      <td>21.000000</td>\n",
       "      <td>999.000000</td>\n",
       "      <td>19.000000</td>\n",
       "    </tr>\n",
       "    <tr>\n",
       "      <th>max</th>\n",
       "      <td>22.000000</td>\n",
       "      <td>113.000000</td>\n",
       "      <td>999.000000</td>\n",
       "      <td>999.000000</td>\n",
       "      <td>22.000000</td>\n",
       "      <td>999.000000</td>\n",
       "      <td>22.000000</td>\n",
       "    </tr>\n",
       "  </tbody>\n",
       "</table>\n",
       "</div>"
      ],
      "text/plain": [
       "          targtype1  targsubtype1       natlty1      natlty2    targtype2  \\\n",
       "count  44152.000000  41135.000000  43335.000000  3215.000000  3302.000000   \n",
       "mean       8.818038     48.129841    103.883143    80.902955    10.262871   \n",
       "std        6.797764     30.840459     87.226026   100.909630     5.579961   \n",
       "min        1.000000      1.000000      4.000000     4.000000     1.000000   \n",
       "25%        3.000000     23.000000     19.000000     4.000000     4.000000   \n",
       "50%        4.000000     36.000000     92.000000    92.000000    14.000000   \n",
       "75%       14.000000     74.000000    153.000000   153.000000    14.000000   \n",
       "85%       17.000000     84.000000    153.000000   153.000000    14.000000   \n",
       "95%       20.000000    106.000000    186.000000   186.000000    15.000000   \n",
       "99%       22.000000    110.000000    422.000000   422.000000    21.000000   \n",
       "max       22.000000    113.000000    999.000000   999.000000    22.000000   \n",
       "\n",
       "          natlty3   targtype3  \n",
       "count  293.000000  294.000000  \n",
       "mean    98.071672    9.527211  \n",
       "std    152.016801    5.745835  \n",
       "min      4.000000    1.000000  \n",
       "25%      4.000000    3.000000  \n",
       "50%     92.000000   14.000000  \n",
       "75%    153.000000   14.000000  \n",
       "85%    153.000000   14.000000  \n",
       "95%    186.000000   15.350000  \n",
       "99%    999.000000   19.000000  \n",
       "max    999.000000   22.000000  "
      ]
     },
     "metadata": {},
     "output_type": "display_data"
    },
    {
     "name": "stdout",
     "output_type": "stream",
     "text": [
      "Dataset descriptive information \n",
      "\n"
     ]
    },
    {
     "data": {
      "text/plain": [
       "corp3               99.406595\n",
       "natlty3_txt         99.336383\n",
       "natlty3             99.336383\n",
       "targtype3_txt       99.334118\n",
       "targtype3           99.334118\n",
       "target3             99.320529\n",
       "corp2               93.332125\n",
       "natlty2_txt         92.718337\n",
       "natlty2             92.718337\n",
       "target2             92.571118\n",
       "targtype2           92.521290\n",
       "targtype2_txt       92.521290\n",
       "corp1               13.951803\n",
       "targsubtype1_txt     6.833213\n",
       "targsubtype1         6.833213\n",
       "natlty1_txt          1.850426\n",
       "natlty1              1.850426\n",
       "target1              0.235550\n",
       "targtype1_txt        0.000000\n",
       "targtype1            0.000000\n",
       "dtype: float64"
      ]
     },
     "metadata": {},
     "output_type": "display_data"
    },
    {
     "name": "stdout",
     "output_type": "stream",
     "text": [
      "Percentage of null values\n",
      "\n"
     ]
    }
   ],
   "source": [
    "prelim_inspection(df_target)  "
   ]
  },
  {
   "cell_type": "code",
   "execution_count": 340,
   "metadata": {
    "colab": {
     "base_uri": "https://localhost:8080/"
    },
    "id": "h3Ih8sGR3Gjp",
    "outputId": "371a59fc-d262-4a09-a736-c5453d7897d4"
   },
   "outputs": [
    {
     "data": {
      "text/plain": [
       "Not Applicable                      1109\n",
       "Unknown                              271\n",
       "Civilians                            218\n",
       "Afghan Police                        103\n",
       "Afghan National Army (ANA)            58\n",
       "                                    ... \n",
       "Elder Vehicles                         1\n",
       "Police officers in Giro district       1\n",
       "Indian Oil                             1\n",
       "Sri Lankan Red Cross worker            1\n",
       "Afghan Voice Agency                    1\n",
       "Name: corp2, Length: 694, dtype: int64"
      ]
     },
     "execution_count": 340,
     "metadata": {},
     "output_type": "execute_result"
    }
   ],
   "source": [
    "df_target[\"corp2\"].value_counts()"
   ]
  },
  {
   "cell_type": "code",
   "execution_count": 351,
   "metadata": {
    "id": "zKzOdTW83Gjp"
   },
   "outputs": [],
   "source": [
    "# Are there any corporations which have been targeted in other columns but no information in main column. Bring all of them under the same umbrella\n",
    "df_target[\"corp1\"] = np.where(df_target[\"corp1\"].isnull(), df_target[\"corp2\"], df_target[\"corp1\"])\n",
    "df_target[\"corp1\"] = np.where(df_target[\"corp1\"].isnull(), df_target[\"corp3\"], df_target[\"corp1\"])\n",
    "df_target[\"corp1\"] = np.where(df_target[\"corp1\"].isnull(), \"Unknown\", df_target[\"corp1\"])\n",
    "df_target[\"corp2\"] = np.where(df_target[\"corp2\"].isnull(), df_target[\"corp3\"], df_target[\"corp3\"])\n",
    "df_target[\"corp2\"] = np.where(df_target[\"corp2\"].isnull(), \"Unknown\", df_target[\"corp2\"])\n",
    "df_target[\"corp3\"] = np.where(df_target[\"corp3\"].isnull(), \"Unknown\", df_target[\"corp3\"])\n",
    "df_target[\"corp1\"] = df_target.apply(lambda row: append_values(row), axis=1)"
   ]
  },
  {
   "cell_type": "code",
   "execution_count": 352,
   "metadata": {
    "id": "5aIiyGqd3Gjp"
   },
   "outputs": [],
   "source": [
    "df_target.drop([\"corp2\", \"corp3\"], axis=1, inplace=True)"
   ]
  },
  {
   "cell_type": "code",
   "execution_count": 353,
   "metadata": {
    "id": "MJ-uzGTq3Gjp"
   },
   "outputs": [],
   "source": [
    "df_target.drop([\"targtype1\", \"targsubtype1\", \"target1\", \"natlty1\", \"target2\", \"natlty2\", \"natlty2_txt\", \"targtype2_txt\", \n",
    "                \"target3\", \"natlty3\", \"natlty3_txt\", \"targtype3_txt\"], axis=1, inplace=True)"
   ]
  },
  {
   "cell_type": "code",
   "execution_count": 354,
   "metadata": {
    "id": "JKyEmpoS3Gjp"
   },
   "outputs": [],
   "source": [
    "df_target.drop([\"targtype2\"], axis=1, inplace=True)\n",
    "df_target.drop([\"targtype3\"], axis=1, inplace=True)"
   ]
  },
  {
   "cell_type": "code",
   "execution_count": 355,
   "metadata": {
    "colab": {
     "base_uri": "https://localhost:8080/"
    },
    "id": "3St1UFQI3Gjp",
    "outputId": "abbabaf4-fc61-4625-cdd1-3c938655d0c0"
   },
   "outputs": [
    {
     "data": {
      "text/plain": [
       "Unknown                            11377\n",
       "Not Applicable                      3573\n",
       "Afghan Police                       2118\n",
       "Pakistani Police                    1099\n",
       "Afghan National Army (ANA)           828\n",
       "                                   ...  \n",
       "Education system of Afghanistan        1\n",
       "Sri Lanka bureaucracy                  1\n",
       "Sri Lankan utilities                   1\n",
       "The legal system of Afghanistan        1\n",
       "Forest Department Manipur              1\n",
       "Name: corp1, Length: 7760, dtype: int64"
      ]
     },
     "execution_count": 355,
     "metadata": {},
     "output_type": "execute_result"
    }
   ],
   "source": [
    "df_target[\"corp1\"].value_counts()"
   ]
  },
  {
   "cell_type": "markdown",
   "metadata": {
    "id": "uPwcCOOQ3Gjq"
   },
   "source": [
    "**Questions** \n",
    "- Any particular type of targets that were attacked the most? \n",
    "- Variation of attacked targets according to region(nationality)"
   ]
  },
  {
   "cell_type": "code",
   "execution_count": 356,
   "metadata": {
    "colab": {
     "base_uri": "https://localhost:8080/"
    },
    "id": "T-nEXuTv3Gjq",
    "outputId": "fdf7668d-7aa4-4ef2-e581-013cf628fe85"
   },
   "outputs": [
    {
     "data": {
      "text/plain": [
       "Unknown                            11377\n",
       "Not Applicable                      3573\n",
       "Afghan Police                       2118\n",
       "Pakistani Police                    1099\n",
       "Afghan National Army (ANA)           828\n",
       "                                   ...  \n",
       "Education system of Afghanistan        1\n",
       "Sri Lanka bureaucracy                  1\n",
       "Sri Lankan utilities                   1\n",
       "The legal system of Afghanistan        1\n",
       "Forest Department Manipur              1\n",
       "Name: corp1, Length: 7760, dtype: int64"
      ]
     },
     "execution_count": 356,
     "metadata": {},
     "output_type": "execute_result"
    }
   ],
   "source": [
    "df_target[\"corp1\"].value_counts()"
   ]
  },
  {
   "cell_type": "code",
   "execution_count": 361,
   "metadata": {
    "colab": {
     "base_uri": "https://localhost:8080/"
    },
    "id": "K1NZ1-WY3Gjq",
    "outputId": "552c1899-80e9-4882-c13f-98e7c81bb3c8"
   },
   "outputs": [
    {
     "data": {
      "text/plain": [
       "targettype        0\n",
       "targsubtype    3017\n",
       "corp1             0\n",
       "nationality       0\n",
       "dtype: int64"
      ]
     },
     "execution_count": 361,
     "metadata": {},
     "output_type": "execute_result"
    }
   ],
   "source": [
    "df_target.isnull().sum()"
   ]
  },
  {
   "cell_type": "code",
   "execution_count": 363,
   "metadata": {
    "id": "TNU_XPmz3Gjq"
   },
   "outputs": [],
   "source": [
    "# Drop \"targsubtype1_txt\"\n",
    "df_target = df_target.rename(columns={\"targtype1_txt\": \"targettype\", \"targsubtype1_txt\": \"targsubtype\", \"natlty1_txt\": \"nationality\"})\n",
    "df_target[\"nationality\"] = df_target[\"nationality\"].fillna(\"Unknown\")"
   ]
  },
  {
   "cell_type": "code",
   "execution_count": 366,
   "metadata": {
    "colab": {
     "base_uri": "https://localhost:8080/",
     "height": 582
    },
    "id": "vscZSdtO3Gjq",
    "outputId": "31825c73-c84e-432b-c964-78866d864c80"
   },
   "outputs": [
    {
     "data": {
      "image/png": "[encoded data removed]",
      "text/plain": [
       "<Figure size 700x500 with 1 Axes>"
      ]
     },
     "metadata": {},
     "output_type": "display_data"
    }
   ],
   "source": [
    "plt.figure(figsize=(7, 5))\n",
    "sns.set_context(\"paper\")\n",
    "sns.set_style(\"darkgrid\")\n",
    "ax = sns.countplot(data=df_target, y=\"targettype\")\n",
    "ax.set_xlabel(\"Number of attacked targets\", fontsize=13, labelpad=15)\n",
    "ax.set_ylabel(\"Target Type\", fontsize=13, labelpad=14)\n",
    "plt.show()"
   ]
  },
  {
   "cell_type": "markdown",
   "metadata": {
    "id": "x95saBAZ3Gjr"
   },
   "source": [
    "**Observations and Analysis**\n",
    "- Civilians were the major targets in most of the attacks, followed by police and the military"
   ]
  },
  {
   "cell_type": "code",
   "execution_count": 320,
   "metadata": {
    "colab": {
     "base_uri": "https://localhost:8080/"
    },
    "id": "_WUDC1063Gjr",
    "outputId": "6cc255d9-d2ff-45c9-d1bb-f86606a3b1fb"
   },
   "outputs": [
    {
     "data": {
      "text/plain": [
       "targettype        0\n",
       "targsubtype    3017\n",
       "corp1             0\n",
       "natlty1_txt       0\n",
       "dtype: int64"
      ]
     },
     "execution_count": 320,
     "metadata": {},
     "output_type": "execute_result"
    }
   ],
   "source": [
    "df_target.isnull().sum()"
   ]
  },
  {
   "cell_type": "code",
   "execution_count": 365,
   "metadata": {
    "id": "xe3gpRzg3Gjr"
   },
   "outputs": [],
   "source": [
    "# Save the data \n",
    "df_target.to_csv(\"data/target.csv\", index=False)"
   ]
  },
  {
   "cell_type": "markdown",
   "metadata": {
    "id": "rb9aj9Br3Gjr"
   },
   "source": [
    "## Incident Information "
   ]
  },
  {
   "cell_type": "code",
   "execution_count": 226,
   "metadata": {
    "colab": {
     "base_uri": "https://localhost:8080/",
     "height": 1000
    },
    "id": "QMqf6ERU3Gjr",
    "outputId": "b2cd0707-af7d-4d90-9cbc-481ec943178d"
   },
   "outputs": [
    {
     "data": {
      "text/html": [
       "<div>\n",
       "<style scoped>\n",
       "    .dataframe tbody tr th:only-of-type {\n",
       "        vertical-align: middle;\n",
       "    }\n",
       "\n",
       "    .dataframe tbody tr th {\n",
       "        vertical-align: top;\n",
       "    }\n",
       "\n",
       "    .dataframe thead th {\n",
       "        text-align: right;\n",
       "    }\n",
       "</style>\n",
       "<table border=\"1\" class=\"dataframe\">\n",
       "  <thead>\n",
       "    <tr style=\"text-align: right;\">\n",
       "      <th></th>\n",
       "      <th>summary</th>\n",
       "      <th>crit1</th>\n",
       "      <th>crit2</th>\n",
       "      <th>crit3</th>\n",
       "      <th>doubtterr</th>\n",
       "      <th>alternative</th>\n",
       "      <th>alternative_txt</th>\n",
       "      <th>multiple</th>\n",
       "      <th>related</th>\n",
       "    </tr>\n",
       "  </thead>\n",
       "  <tbody>\n",
       "    <tr>\n",
       "      <th>0</th>\n",
       "      <td>NaN</td>\n",
       "      <td>1</td>\n",
       "      <td>1</td>\n",
       "      <td>1</td>\n",
       "      <td>0</td>\n",
       "      <td>NaN</td>\n",
       "      <td>NaN</td>\n",
       "      <td>0</td>\n",
       "      <td>NaN</td>\n",
       "    </tr>\n",
       "    <tr>\n",
       "      <th>1</th>\n",
       "      <td>NaN</td>\n",
       "      <td>1</td>\n",
       "      <td>1</td>\n",
       "      <td>1</td>\n",
       "      <td>0</td>\n",
       "      <td>NaN</td>\n",
       "      <td>NaN</td>\n",
       "      <td>0</td>\n",
       "      <td>NaN</td>\n",
       "    </tr>\n",
       "    <tr>\n",
       "      <th>2</th>\n",
       "      <td>NaN</td>\n",
       "      <td>1</td>\n",
       "      <td>1</td>\n",
       "      <td>1</td>\n",
       "      <td>0</td>\n",
       "      <td>NaN</td>\n",
       "      <td>NaN</td>\n",
       "      <td>0</td>\n",
       "      <td>NaN</td>\n",
       "    </tr>\n",
       "    <tr>\n",
       "      <th>3</th>\n",
       "      <td>NaN</td>\n",
       "      <td>1</td>\n",
       "      <td>1</td>\n",
       "      <td>1</td>\n",
       "      <td>0</td>\n",
       "      <td>NaN</td>\n",
       "      <td>NaN</td>\n",
       "      <td>0</td>\n",
       "      <td>NaN</td>\n",
       "    </tr>\n",
       "    <tr>\n",
       "      <th>4</th>\n",
       "      <td>NaN</td>\n",
       "      <td>1</td>\n",
       "      <td>1</td>\n",
       "      <td>1</td>\n",
       "      <td>0</td>\n",
       "      <td>NaN</td>\n",
       "      <td>NaN</td>\n",
       "      <td>0</td>\n",
       "      <td>NaN</td>\n",
       "    </tr>\n",
       "  </tbody>\n",
       "</table>\n",
       "</div>"
      ],
      "text/plain": [
       "  summary  crit1  crit2  crit3  doubtterr  alternative alternative_txt  \\\n",
       "0     NaN      1      1      1          0          NaN             NaN   \n",
       "1     NaN      1      1      1          0          NaN             NaN   \n",
       "2     NaN      1      1      1          0          NaN             NaN   \n",
       "3     NaN      1      1      1          0          NaN             NaN   \n",
       "4     NaN      1      1      1          0          NaN             NaN   \n",
       "\n",
       "   multiple related  \n",
       "0         0     NaN  \n",
       "1         0     NaN  \n",
       "2         0     NaN  \n",
       "3         0     NaN  \n",
       "4         0     NaN  "
      ]
     },
     "metadata": {},
     "output_type": "display_data"
    },
    {
     "name": "stdout",
     "output_type": "stream",
     "text": [
      "Dataset Overview\n",
      "\n"
     ]
    },
    {
     "data": {
      "text/plain": [
       "(44152, 9)"
      ]
     },
     "metadata": {},
     "output_type": "display_data"
    },
    {
     "name": "stdout",
     "output_type": "stream",
     "text": [
      "Dataset Shape\n",
      "\n"
     ]
    },
    {
     "data": {
      "text/plain": [
       "summary             object\n",
       "crit1                int64\n",
       "crit2                int64\n",
       "crit3                int64\n",
       "doubtterr            int64\n",
       "alternative        float64\n",
       "alternative_txt     object\n",
       "multiple             int64\n",
       "related             object\n",
       "dtype: object"
      ]
     },
     "metadata": {},
     "output_type": "display_data"
    },
    {
     "name": "stdout",
     "output_type": "stream",
     "text": [
      "Column datatypes\n",
      "\n"
     ]
    },
    {
     "data": {
      "text/plain": [
       "summary             True\n",
       "crit1              False\n",
       "crit2              False\n",
       "crit3              False\n",
       "doubtterr          False\n",
       "alternative         True\n",
       "alternative_txt     True\n",
       "multiple           False\n",
       "related             True\n",
       "dtype: bool"
      ]
     },
     "metadata": {},
     "output_type": "display_data"
    },
    {
     "name": "stdout",
     "output_type": "stream",
     "text": [
      "Check for null values\n",
      "\n"
     ]
    },
    {
     "data": {
      "text/plain": [
       "summary            37000\n",
       "crit1                  2\n",
       "crit2                  2\n",
       "crit3                  2\n",
       "doubtterr              3\n",
       "alternative            5\n",
       "alternative_txt        5\n",
       "multiple               2\n",
       "related             2969\n",
       "dtype: int64"
      ]
     },
     "metadata": {},
     "output_type": "display_data"
    },
    {
     "name": "stdout",
     "output_type": "stream",
     "text": [
      "Count of unique values\n",
      "\n"
     ]
    },
    {
     "data": {
      "text/html": [
       "<div>\n",
       "<style scoped>\n",
       "    .dataframe tbody tr th:only-of-type {\n",
       "        vertical-align: middle;\n",
       "    }\n",
       "\n",
       "    .dataframe tbody tr th {\n",
       "        vertical-align: top;\n",
       "    }\n",
       "\n",
       "    .dataframe thead th {\n",
       "        text-align: right;\n",
       "    }\n",
       "</style>\n",
       "<table border=\"1\" class=\"dataframe\">\n",
       "  <thead>\n",
       "    <tr style=\"text-align: right;\">\n",
       "      <th></th>\n",
       "      <th>crit1</th>\n",
       "      <th>crit2</th>\n",
       "      <th>crit3</th>\n",
       "      <th>doubtterr</th>\n",
       "      <th>alternative</th>\n",
       "      <th>multiple</th>\n",
       "    </tr>\n",
       "  </thead>\n",
       "  <tbody>\n",
       "    <tr>\n",
       "      <th>count</th>\n",
       "      <td>44152.000000</td>\n",
       "      <td>44152.000000</td>\n",
       "      <td>44152.000000</td>\n",
       "      <td>44152.000000</td>\n",
       "      <td>5774.000000</td>\n",
       "      <td>44152.000000</td>\n",
       "    </tr>\n",
       "    <tr>\n",
       "      <th>mean</th>\n",
       "      <td>0.987883</td>\n",
       "      <td>0.992141</td>\n",
       "      <td>0.905531</td>\n",
       "      <td>-0.245991</td>\n",
       "      <td>1.355906</td>\n",
       "      <td>0.109553</td>\n",
       "    </tr>\n",
       "    <tr>\n",
       "      <th>std</th>\n",
       "      <td>0.109411</td>\n",
       "      <td>0.088304</td>\n",
       "      <td>0.292484</td>\n",
       "      <td>1.860259</td>\n",
       "      <td>0.761495</td>\n",
       "      <td>0.312336</td>\n",
       "    </tr>\n",
       "    <tr>\n",
       "      <th>min</th>\n",
       "      <td>0.000000</td>\n",
       "      <td>0.000000</td>\n",
       "      <td>0.000000</td>\n",
       "      <td>-9.000000</td>\n",
       "      <td>1.000000</td>\n",
       "      <td>0.000000</td>\n",
       "    </tr>\n",
       "    <tr>\n",
       "      <th>25%</th>\n",
       "      <td>1.000000</td>\n",
       "      <td>1.000000</td>\n",
       "      <td>1.000000</td>\n",
       "      <td>0.000000</td>\n",
       "      <td>1.000000</td>\n",
       "      <td>0.000000</td>\n",
       "    </tr>\n",
       "    <tr>\n",
       "      <th>50%</th>\n",
       "      <td>1.000000</td>\n",
       "      <td>1.000000</td>\n",
       "      <td>1.000000</td>\n",
       "      <td>0.000000</td>\n",
       "      <td>1.000000</td>\n",
       "      <td>0.000000</td>\n",
       "    </tr>\n",
       "    <tr>\n",
       "      <th>75%</th>\n",
       "      <td>1.000000</td>\n",
       "      <td>1.000000</td>\n",
       "      <td>1.000000</td>\n",
       "      <td>0.000000</td>\n",
       "      <td>1.000000</td>\n",
       "      <td>0.000000</td>\n",
       "    </tr>\n",
       "    <tr>\n",
       "      <th>85%</th>\n",
       "      <td>1.000000</td>\n",
       "      <td>1.000000</td>\n",
       "      <td>1.000000</td>\n",
       "      <td>0.000000</td>\n",
       "      <td>2.000000</td>\n",
       "      <td>0.000000</td>\n",
       "    </tr>\n",
       "    <tr>\n",
       "      <th>95%</th>\n",
       "      <td>1.000000</td>\n",
       "      <td>1.000000</td>\n",
       "      <td>1.000000</td>\n",
       "      <td>1.000000</td>\n",
       "      <td>3.000000</td>\n",
       "      <td>1.000000</td>\n",
       "    </tr>\n",
       "    <tr>\n",
       "      <th>99%</th>\n",
       "      <td>1.000000</td>\n",
       "      <td>1.000000</td>\n",
       "      <td>1.000000</td>\n",
       "      <td>1.000000</td>\n",
       "      <td>4.000000</td>\n",
       "      <td>1.000000</td>\n",
       "    </tr>\n",
       "    <tr>\n",
       "      <th>max</th>\n",
       "      <td>1.000000</td>\n",
       "      <td>1.000000</td>\n",
       "      <td>1.000000</td>\n",
       "      <td>1.000000</td>\n",
       "      <td>5.000000</td>\n",
       "      <td>1.000000</td>\n",
       "    </tr>\n",
       "  </tbody>\n",
       "</table>\n",
       "</div>"
      ],
      "text/plain": [
       "              crit1         crit2         crit3     doubtterr  alternative  \\\n",
       "count  44152.000000  44152.000000  44152.000000  44152.000000  5774.000000   \n",
       "mean       0.987883      0.992141      0.905531     -0.245991     1.355906   \n",
       "std        0.109411      0.088304      0.292484      1.860259     0.761495   \n",
       "min        0.000000      0.000000      0.000000     -9.000000     1.000000   \n",
       "25%        1.000000      1.000000      1.000000      0.000000     1.000000   \n",
       "50%        1.000000      1.000000      1.000000      0.000000     1.000000   \n",
       "75%        1.000000      1.000000      1.000000      0.000000     1.000000   \n",
       "85%        1.000000      1.000000      1.000000      0.000000     2.000000   \n",
       "95%        1.000000      1.000000      1.000000      1.000000     3.000000   \n",
       "99%        1.000000      1.000000      1.000000      1.000000     4.000000   \n",
       "max        1.000000      1.000000      1.000000      1.000000     5.000000   \n",
       "\n",
       "           multiple  \n",
       "count  44152.000000  \n",
       "mean       0.109553  \n",
       "std        0.312336  \n",
       "min        0.000000  \n",
       "25%        0.000000  \n",
       "50%        0.000000  \n",
       "75%        0.000000  \n",
       "85%        0.000000  \n",
       "95%        1.000000  \n",
       "99%        1.000000  \n",
       "max        1.000000  "
      ]
     },
     "metadata": {},
     "output_type": "display_data"
    },
    {
     "name": "stdout",
     "output_type": "stream",
     "text": [
      "Dataset descriptive information \n",
      "\n"
     ]
    },
    {
     "data": {
      "text/plain": [
       "related            89.037869\n",
       "alternative        86.922450\n",
       "alternative_txt    86.922450\n",
       "summary            15.557619\n",
       "crit1               0.000000\n",
       "crit2               0.000000\n",
       "crit3               0.000000\n",
       "doubtterr           0.000000\n",
       "multiple            0.000000\n",
       "dtype: float64"
      ]
     },
     "metadata": {},
     "output_type": "display_data"
    },
    {
     "name": "stdout",
     "output_type": "stream",
     "text": [
      "Percentage of null values\n",
      "\n"
     ]
    }
   ],
   "source": [
    "df_incident = df[[\"summary\", \"crit1\", \"crit2\", \"crit3\", \"doubtterr\", \n",
    "                  \"alternative\", \"alternative_txt\", \"multiple\", \"related\"]]\n",
    "prelim_inspection(df_incident)"
   ]
  },
  {
   "cell_type": "code",
   "execution_count": 227,
   "metadata": {
    "id": "6buJ8w873Gjr"
   },
   "outputs": [],
   "source": [
    "df_incident.drop([\"summary\"], axis=1, inplace=True)"
   ]
  },
  {
   "cell_type": "code",
   "execution_count": 228,
   "metadata": {
    "colab": {
     "base_uri": "https://localhost:8080/"
    },
    "id": "ogjOnz_03Gjs",
    "outputId": "ba60df15-c693-4cf4-9079-79e282aa2452"
   },
   "outputs": [
    {
     "name": "stdout",
     "output_type": "stream",
     "text": [
      "39312\n",
      "0    39315\n",
      "1     4837\n",
      "Name: multiple, dtype: int64\n"
     ]
    }
   ],
   "source": [
    "print(df_incident[\"related\"].isnull().sum())\n",
    "print(df_incident[\"multiple\"].value_counts())"
   ]
  },
  {
   "cell_type": "code",
   "execution_count": 229,
   "metadata": {
    "id": "Ex64rrs-3Gjs"
   },
   "outputs": [],
   "source": [
    "df_incident[\"related\"] = df_incident[\"related\"].fillna(\"Unknown\")\n",
    "df_incident[\"alternative\"] = df_incident[\"alternative\"].fillna(\"Unknown\")\n",
    "df_incident[\"alternative_txt\"] = df_incident[\"alternative_txt\"].fillna(\"Unknown\")"
   ]
  },
  {
   "cell_type": "code",
   "execution_count": 230,
   "metadata": {
    "id": "nVYj2GL43Gjs"
   },
   "outputs": [],
   "source": [
    "df_incident[\"doubtterr\"] = df_incident[\"doubtterr\"].astype(\"int64\")\n",
    "df_incident[\"multiple\"] = df_incident[\"multiple\"].astype(\"int64\")"
   ]
  },
  {
   "cell_type": "markdown",
   "metadata": {
    "id": "ec4ishcK3Gjs"
   },
   "source": [
    "**Questions**\n",
    "- Attacks where the inclusion criteria for terrorism is ascertained and where it is not ascertained. Damage caused in such attacks? \n",
    "- Events which were a part of multiple co-ordinated attack. Were such events terrorist attacks OR non-terrorist attacks? Its necessary to study their impact, and also analyze the underlying pattern of such attacks"
   ]
  },
  {
   "cell_type": "code",
   "execution_count": 231,
   "metadata": {
    "colab": {
     "base_uri": "https://localhost:8080/",
     "height": 175
    },
    "id": "ztj9z42t3Gjs",
    "outputId": "4cb36701-f27c-4577-9f6f-4a86990d9c30",
    "scrolled": true
   },
   "outputs": [
    {
     "data": {
      "text/html": [
       "<div>\n",
       "<style scoped>\n",
       "    .dataframe tbody tr th:only-of-type {\n",
       "        vertical-align: middle;\n",
       "    }\n",
       "\n",
       "    .dataframe tbody tr th {\n",
       "        vertical-align: top;\n",
       "    }\n",
       "\n",
       "    .dataframe thead tr th {\n",
       "        text-align: left;\n",
       "    }\n",
       "\n",
       "    .dataframe thead tr:last-of-type th {\n",
       "        text-align: right;\n",
       "    }\n",
       "</style>\n",
       "<table border=\"1\" class=\"dataframe\">\n",
       "  <thead>\n",
       "    <tr>\n",
       "      <th>crit2</th>\n",
       "      <th>0</th>\n",
       "      <th colspan=\"2\" halign=\"left\">1</th>\n",
       "    </tr>\n",
       "    <tr>\n",
       "      <th>crit3</th>\n",
       "      <th>1</th>\n",
       "      <th>0</th>\n",
       "      <th>1</th>\n",
       "    </tr>\n",
       "    <tr>\n",
       "      <th>crit1</th>\n",
       "      <th></th>\n",
       "      <th></th>\n",
       "      <th></th>\n",
       "    </tr>\n",
       "  </thead>\n",
       "  <tbody>\n",
       "    <tr>\n",
       "      <th>0</th>\n",
       "      <td>0</td>\n",
       "      <td>0</td>\n",
       "      <td>535</td>\n",
       "    </tr>\n",
       "    <tr>\n",
       "      <th>1</th>\n",
       "      <td>347</td>\n",
       "      <td>4171</td>\n",
       "      <td>39099</td>\n",
       "    </tr>\n",
       "  </tbody>\n",
       "</table>\n",
       "</div>"
      ],
      "text/plain": [
       "crit2    0     1       \n",
       "crit3    1     0      1\n",
       "crit1                  \n",
       "0        0     0    535\n",
       "1      347  4171  39099"
      ]
     },
     "execution_count": 231,
     "metadata": {},
     "output_type": "execute_result"
    }
   ],
   "source": [
    "df_terr = df_incident[df_incident[\"doubtterr\"]==0]\n",
    "df_notterr = df_incident[df_incident[\"doubtterr\"]==1]\n",
    "pd.crosstab(index=df_incident[\"crit1\"], columns=[df_incident[\"crit2\"], df_incident[\"crit3\"]], rownames=[\"crit1\"], colnames=[\"crit2\", \"crit3\"])"
   ]
  },
  {
   "cell_type": "code",
   "execution_count": 232,
   "metadata": {
    "colab": {
     "base_uri": "https://localhost:8080/"
    },
    "id": "cOp7GxWyZ0ey",
    "outputId": "2910418f-81d3-4a12-9372-09ecc66af403"
   },
   "outputs": [
    {
     "data": {
      "text/plain": [
       "crit1              0\n",
       "crit2              0\n",
       "crit3              0\n",
       "doubtterr          0\n",
       "alternative        0\n",
       "alternative_txt    0\n",
       "multiple           0\n",
       "related            0\n",
       "dtype: int64"
      ]
     },
     "execution_count": 232,
     "metadata": {},
     "output_type": "execute_result"
    }
   ],
   "source": [
    "df_notterr.isnull().sum()"
   ]
  },
  {
   "cell_type": "code",
   "execution_count": 233,
   "metadata": {},
   "outputs": [],
   "source": [
    "df_incident = df_incident.rename(columns={\"alternative_txt\": \"alternative_attack_type\"})"
   ]
  },
  {
   "cell_type": "code",
   "execution_count": 239,
   "metadata": {
    "colab": {
     "base_uri": "https://localhost:8080/",
     "height": 345
    },
    "id": "Q6kt5-Xx3Gjt",
    "outputId": "84a3cd33-cc01-4d34-f0dd-9b747369dff5"
   },
   "outputs": [
    {
     "data": {
      "image/png": "[encoded data removed]",
      "text/plain": [
       "<Figure size 700x500 with 1 Axes>"
      ]
     },
     "metadata": {},
     "output_type": "display_data"
    }
   ],
   "source": [
    "plt.figure(figsize=(7, 5))\n",
    "ax = sns.countplot(data=df_notterr, y=\"alternative_txt\", hue=\"crit1\", palette=[\"tomato\", \"limegreen\"])\n",
    "ax.set_xlabel(\"Number of Attacked Targets\", fontsize=10, labelpad=15)\n",
    "ax.set_ylabel(\"Alternative Attack Type\", fontsize=10, labelpad=14)\n",
    "ax.legend(title=\"Political, Economic or Social Goal\", loc=\"lower right\", labels=[\"No\", \"Yes\"])\n",
    "plt.show(ax)"
   ]
  },
  {
   "cell_type": "code",
   "execution_count": 237,
   "metadata": {
    "colab": {
     "base_uri": "https://localhost:8080/",
     "height": 362
    },
    "id": "tdLpfqI03Gjt",
    "outputId": "43c6b909-5e80-4b60-a102-cf8ffcf5942a"
   },
   "outputs": [
    {
     "data": {
      "text/plain": [
       "<matplotlib.legend.Legend at 0x23c2f3d0d60>"
      ]
     },
     "execution_count": 237,
     "metadata": {},
     "output_type": "execute_result"
    },
    {
     "data": {
      "image/png": "[encoded data removed]",
      "text/plain": [
       "<Figure size 700x500 with 1 Axes>"
      ]
     },
     "metadata": {},
     "output_type": "display_data"
    }
   ],
   "source": [
    "plt.figure(figsize=(7, 5))\n",
    "ax1 = sns.countplot(data=df_notterr, y=\"alternative\", hue=\"crit2\", palette=[\"tomato\", \"limegreen\"])\n",
    "ax1.set_xlabel(\"Number of Attacked Targets\", fontsize=10, labelpad=15)\n",
    "ax1.set_ylabel(\"Alternative Attack Type\", fontsize=10, labelpad=14)\n",
    "ax1.legend(title=\"Coercion, Intimidation and Publicity\", loc=\"lower right\", labels=[\"No\", \"Yes\"])"
   ]
  },
  {
   "cell_type": "code",
   "execution_count": 238,
   "metadata": {
    "colab": {
     "base_uri": "https://localhost:8080/",
     "height": 362
    },
    "id": "xszF5UMn3Gjt",
    "outputId": "427039e0-6f30-49b0-8519-0db16c8bd5a3"
   },
   "outputs": [
    {
     "data": {
      "text/plain": [
       "<matplotlib.legend.Legend at 0x23c2f3c0a90>"
      ]
     },
     "execution_count": 238,
     "metadata": {},
     "output_type": "execute_result"
    },
    {
     "data": {
      "image/png": "[encoded data removed]",
      "text/plain": [
       "<Figure size 700x500 with 1 Axes>"
      ]
     },
     "metadata": {},
     "output_type": "display_data"
    }
   ],
   "source": [
    "plt.figure(figsize=(7, 5))\n",
    "ax1 = sns.countplot(data=df_notterr, y=\"alternative\", hue=\"crit3\", palette=[\"tomato\", \"limegreen\"])\n",
    "ax1.set_xlabel(\"Number of Attacked Targets\", fontsize=10, labelpad=15)\n",
    "ax1.set_ylabel(\"Alternative Attack Type\", fontsize=10, labelpad=14)\n",
    "ax1.legend(title=\"Outside International Humanitarian Law\", loc=\"lower right\", labels=[\"No\", \"Yes\"])"
   ]
  },
  {
   "cell_type": "markdown",
   "metadata": {
    "id": "goXvM2HcUZ9m"
   },
   "source": [
    "**Observations and Analysis**\n",
    "- Confirmed instances of terrorist attacks were majorly intended to coerce, intimidate or publicize with a specific political, economic, religious OR social goal, and they were also conducted in an illegitimate manner, i.e., outside the precints of humanitarian law"
   ]
  },
  {
   "cell_type": "code",
   "execution_count": 217,
   "metadata": {
    "id": "45Elr4OJ3Gju"
   },
   "outputs": [],
   "source": [
    "df_multiple = df_incident[df_incident[\"multiple\"]==1]"
   ]
  },
  {
   "cell_type": "code",
   "execution_count": 218,
   "metadata": {
    "colab": {
     "base_uri": "https://localhost:8080/"
    },
    "id": "RWy2YmKM3Gju",
    "outputId": "b4c454dd-80a2-4f74-db5d-215962bbb3bd"
   },
   "outputs": [
    {
     "name": "stdout",
     "output_type": "stream",
     "text": [
      " 0    36533\n",
      " 1     5771\n",
      "-9     1848\n",
      "Name: doubtterr, dtype: int64\n"
     ]
    }
   ],
   "source": [
    "print(df_incident[\"doubtterr\"].value_counts()) "
   ]
  },
  {
   "cell_type": "code",
   "execution_count": 219,
   "metadata": {
    "colab": {
     "base_uri": "https://localhost:8080/"
    },
    "id": "mrkj5IoS3Gju",
    "outputId": "f1786a19-7c7b-44a1-8626-934718f5943d"
   },
   "outputs": [
    {
     "name": "stdout",
     "output_type": "stream",
     "text": [
      "1    43617\n",
      "0      535\n",
      "Name: crit1, dtype: int64\n",
      "\n",
      "1    43805\n",
      "0      347\n",
      "Name: crit2, dtype: int64\n",
      "\n",
      "1    39981\n",
      "0     4171\n",
      "Name: crit3, dtype: int64\n",
      "\n"
     ]
    }
   ],
   "source": [
    "print(df_incident[\"crit1\"].value_counts())\n",
    "print()\n",
    "print(df_incident[\"crit2\"].value_counts())\n",
    "print()\n",
    "print(df_incident[\"crit3\"].value_counts())\n",
    "print()"
   ]
  },
  {
   "cell_type": "code",
   "execution_count": 220,
   "metadata": {
    "colab": {
     "base_uri": "https://localhost:8080/"
    },
    "id": "xTJNCHNE3Gju",
    "outputId": "d9cb78ec-c799-4aff-be4a-29b6875bcc56"
   },
   "outputs": [
    {
     "data": {
      "text/plain": [
       " 0    36533\n",
       " 1     5771\n",
       "-9     1848\n",
       "Name: doubtterr, dtype: int64"
      ]
     },
     "execution_count": 220,
     "metadata": {},
     "output_type": "execute_result"
    }
   ],
   "source": [
    "df_incident[\"doubtterr\"].value_counts()"
   ]
  },
  {
   "cell_type": "code",
   "execution_count": 221,
   "metadata": {
    "colab": {
     "base_uri": "https://localhost:8080/",
     "height": 243
    },
    "id": "sJcTR2Us3Gju",
    "outputId": "c1092e69-7528-4b3f-d186-129d0c1785b6"
   },
   "outputs": [
    {
     "data": {
      "text/plain": [
       "<seaborn.axisgrid.FacetGrid at 0x23c2f01c9a0>"
      ]
     },
     "execution_count": 221,
     "metadata": {},
     "output_type": "execute_result"
    },
    {
     "data": {
      "image/png": "[encoded data removed]",
      "text/plain": [
       "<Figure size 300x300 with 1 Axes>"
      ]
     },
     "metadata": {},
     "output_type": "display_data"
    }
   ],
   "source": [
    "g = sns.FacetGrid(df_terr, col=\"crit3\", row=\"crit2\")\n",
    "g.map(sns.countplot, \"crit1\")"
   ]
  },
  {
   "cell_type": "code",
   "execution_count": 222,
   "metadata": {
    "colab": {
     "base_uri": "https://localhost:8080/",
     "height": 459
    },
    "id": "XPyHT9Mg3Gju",
    "outputId": "4ddf5682-b941-404f-fd24-e1a7b175781c"
   },
   "outputs": [
    {
     "data": {
      "text/plain": [
       "<seaborn.axisgrid.FacetGrid at 0x23c2efc5120>"
      ]
     },
     "execution_count": 222,
     "metadata": {},
     "output_type": "execute_result"
    },
    {
     "data": {
      "image/png": "[encoded data removed]",
      "text/plain": [
       "<Figure size 600x600 with 4 Axes>"
      ]
     },
     "metadata": {},
     "output_type": "display_data"
    }
   ],
   "source": [
    "g = sns.FacetGrid(df_notterr, col=\"crit3\", row=\"crit2\")\n",
    "g.map(sns.countplot, \"crit1\")"
   ]
  },
  {
   "cell_type": "markdown",
   "metadata": {
    "id": "5cIdJs4J3Gju"
   },
   "source": [
    "**Observations and Analysis**\n",
    "- Other types of attacks were instances of legitimate warfare. It is possible that they may be a result of armed conflict between the two countries. "
   ]
  },
  {
   "cell_type": "code",
   "execution_count": 223,
   "metadata": {
    "colab": {
     "base_uri": "https://localhost:8080/"
    },
    "id": "HeKgVk8u3Gjv",
    "outputId": "570e6dd5-3eb0-43f7-9965-972075150f7b"
   },
   "outputs": [
    {
     "data": {
      "text/plain": [
       "summary            6869\n",
       "crit1                 0\n",
       "crit2                 0\n",
       "crit3                 0\n",
       "doubtterr             0\n",
       "alternative           0\n",
       "alternative_txt       0\n",
       "multiple              0\n",
       "related               0\n",
       "dtype: int64"
      ]
     },
     "execution_count": 223,
     "metadata": {},
     "output_type": "execute_result"
    }
   ],
   "source": [
    "df_incident.isnull().sum()"
   ]
  },
  {
   "cell_type": "code",
   "execution_count": 225,
   "metadata": {
    "id": "QD17E5HV3Gjv"
   },
   "outputs": [],
   "source": [
    "df_incident.to_csv(\"data/incident.csv\", index=False)"
   ]
  },
  {
   "cell_type": "markdown",
   "metadata": {
    "id": "y0U19mUM3Gjv"
   },
   "source": [
    "## Incident Location Analysis"
   ]
  },
  {
   "cell_type": "code",
   "execution_count": 70,
   "metadata": {
    "colab": {
     "base_uri": "https://localhost:8080/",
     "height": 1000
    },
    "id": "QmaiUoEI3Gjv",
    "outputId": "f3bb74b5-fa87-4336-a26d-f4b590c31551",
    "scrolled": true
   },
   "outputs": [
    {
     "data": {
      "text/html": [
       "<div>\n",
       "<style scoped>\n",
       "    .dataframe tbody tr th:only-of-type {\n",
       "        vertical-align: middle;\n",
       "    }\n",
       "\n",
       "    .dataframe tbody tr th {\n",
       "        vertical-align: top;\n",
       "    }\n",
       "\n",
       "    .dataframe thead th {\n",
       "        text-align: right;\n",
       "    }\n",
       "</style>\n",
       "<table border=\"1\" class=\"dataframe\">\n",
       "  <thead>\n",
       "    <tr style=\"text-align: right;\">\n",
       "      <th></th>\n",
       "      <th>country</th>\n",
       "      <th>province</th>\n",
       "      <th>city</th>\n",
       "      <th>vicinity</th>\n",
       "      <th>location</th>\n",
       "      <th>latitude</th>\n",
       "      <th>longitude</th>\n",
       "    </tr>\n",
       "  </thead>\n",
       "  <tbody>\n",
       "    <tr>\n",
       "      <th>0</th>\n",
       "      <td>Pakistan</td>\n",
       "      <td>Sindh</td>\n",
       "      <td>Karachi</td>\n",
       "      <td>0</td>\n",
       "      <td>NaN</td>\n",
       "      <td>24.891115</td>\n",
       "      <td>67.143311</td>\n",
       "    </tr>\n",
       "    <tr>\n",
       "      <th>1</th>\n",
       "      <td>India</td>\n",
       "      <td>Delhi</td>\n",
       "      <td>New Delhi</td>\n",
       "      <td>0</td>\n",
       "      <td>NaN</td>\n",
       "      <td>28.585836</td>\n",
       "      <td>77.153336</td>\n",
       "    </tr>\n",
       "    <tr>\n",
       "      <th>2</th>\n",
       "      <td>Afghanistan</td>\n",
       "      <td>Kabul</td>\n",
       "      <td>Kabul</td>\n",
       "      <td>0</td>\n",
       "      <td>NaN</td>\n",
       "      <td>34.516895</td>\n",
       "      <td>69.147011</td>\n",
       "    </tr>\n",
       "    <tr>\n",
       "      <th>3</th>\n",
       "      <td>Pakistan</td>\n",
       "      <td>Sindh</td>\n",
       "      <td>Karachi</td>\n",
       "      <td>0</td>\n",
       "      <td>NaN</td>\n",
       "      <td>24.891115</td>\n",
       "      <td>67.143311</td>\n",
       "    </tr>\n",
       "    <tr>\n",
       "      <th>4</th>\n",
       "      <td>Pakistan</td>\n",
       "      <td>North-West Frontier Province</td>\n",
       "      <td>Peshawar</td>\n",
       "      <td>0</td>\n",
       "      <td>NaN</td>\n",
       "      <td>34.006004</td>\n",
       "      <td>71.537430</td>\n",
       "    </tr>\n",
       "  </tbody>\n",
       "</table>\n",
       "</div>"
      ],
      "text/plain": [
       "       country                      province       city  vicinity location  \\\n",
       "0     Pakistan                         Sindh    Karachi         0      NaN   \n",
       "1        India                         Delhi  New Delhi         0      NaN   \n",
       "2  Afghanistan                         Kabul      Kabul         0      NaN   \n",
       "3     Pakistan                         Sindh    Karachi         0      NaN   \n",
       "4     Pakistan  North-West Frontier Province   Peshawar         0      NaN   \n",
       "\n",
       "    latitude  longitude  \n",
       "0  24.891115  67.143311  \n",
       "1  28.585836  77.153336  \n",
       "2  34.516895  69.147011  \n",
       "3  24.891115  67.143311  \n",
       "4  34.006004  71.537430  "
      ]
     },
     "metadata": {},
     "output_type": "display_data"
    },
    {
     "name": "stdout",
     "output_type": "stream",
     "text": [
      "Dataset Overview\n",
      "\n"
     ]
    },
    {
     "data": {
      "text/plain": [
       "(44152, 7)"
      ]
     },
     "metadata": {},
     "output_type": "display_data"
    },
    {
     "name": "stdout",
     "output_type": "stream",
     "text": [
      "Dataset Shape\n",
      "\n"
     ]
    },
    {
     "data": {
      "text/plain": [
       "country       object\n",
       "province      object\n",
       "city          object\n",
       "vicinity       int64\n",
       "location      object\n",
       "latitude     float64\n",
       "longitude    float64\n",
       "dtype: object"
      ]
     },
     "metadata": {},
     "output_type": "display_data"
    },
    {
     "name": "stdout",
     "output_type": "stream",
     "text": [
      "Column datatypes\n",
      "\n"
     ]
    },
    {
     "data": {
      "text/plain": [
       "country      False\n",
       "province     False\n",
       "city          True\n",
       "vicinity     False\n",
       "location      True\n",
       "latitude      True\n",
       "longitude     True\n",
       "dtype: bool"
      ]
     },
     "metadata": {},
     "output_type": "display_data"
    },
    {
     "name": "stdout",
     "output_type": "stream",
     "text": [
      "Check for null values\n",
      "\n"
     ]
    },
    {
     "data": {
      "text/plain": [
       "country          9\n",
       "province       117\n",
       "city         11412\n",
       "vicinity         3\n",
       "location     15798\n",
       "latitude     15968\n",
       "longitude    15683\n",
       "dtype: int64"
      ]
     },
     "metadata": {},
     "output_type": "display_data"
    },
    {
     "name": "stdout",
     "output_type": "stream",
     "text": [
      "Count of unique values\n",
      "\n"
     ]
    },
    {
     "data": {
      "text/html": [
       "<div>\n",
       "<style scoped>\n",
       "    .dataframe tbody tr th:only-of-type {\n",
       "        vertical-align: middle;\n",
       "    }\n",
       "\n",
       "    .dataframe tbody tr th {\n",
       "        vertical-align: top;\n",
       "    }\n",
       "\n",
       "    .dataframe thead th {\n",
       "        text-align: right;\n",
       "    }\n",
       "</style>\n",
       "<table border=\"1\" class=\"dataframe\">\n",
       "  <thead>\n",
       "    <tr style=\"text-align: right;\">\n",
       "      <th></th>\n",
       "      <th>vicinity</th>\n",
       "      <th>latitude</th>\n",
       "      <th>longitude</th>\n",
       "    </tr>\n",
       "  </thead>\n",
       "  <tbody>\n",
       "    <tr>\n",
       "      <th>count</th>\n",
       "      <td>44152.000000</td>\n",
       "      <td>43673.000000</td>\n",
       "      <td>43673.000000</td>\n",
       "    </tr>\n",
       "    <tr>\n",
       "      <th>mean</th>\n",
       "      <td>0.075738</td>\n",
       "      <td>28.456280</td>\n",
       "      <td>74.271976</td>\n",
       "    </tr>\n",
       "    <tr>\n",
       "      <th>std</th>\n",
       "      <td>0.272177</td>\n",
       "      <td>7.343117</td>\n",
       "      <td>8.600140</td>\n",
       "    </tr>\n",
       "    <tr>\n",
       "      <th>min</th>\n",
       "      <td>-9.000000</td>\n",
       "      <td>-20.420074</td>\n",
       "      <td>57.464140</td>\n",
       "    </tr>\n",
       "    <tr>\n",
       "      <th>25%</th>\n",
       "      <td>0.000000</td>\n",
       "      <td>24.891115</td>\n",
       "      <td>67.687177</td>\n",
       "    </tr>\n",
       "    <tr>\n",
       "      <th>50%</th>\n",
       "      <td>0.000000</td>\n",
       "      <td>31.467463</td>\n",
       "      <td>71.383188</td>\n",
       "    </tr>\n",
       "    <tr>\n",
       "      <th>75%</th>\n",
       "      <td>0.000000</td>\n",
       "      <td>34.002579</td>\n",
       "      <td>80.623416</td>\n",
       "    </tr>\n",
       "    <tr>\n",
       "      <th>85%</th>\n",
       "      <td>0.000000</td>\n",
       "      <td>34.386435</td>\n",
       "      <td>85.125982</td>\n",
       "    </tr>\n",
       "    <tr>\n",
       "      <th>95%</th>\n",
       "      <td>1.000000</td>\n",
       "      <td>35.671067</td>\n",
       "      <td>91.815692</td>\n",
       "    </tr>\n",
       "    <tr>\n",
       "      <th>99%</th>\n",
       "      <td>1.000000</td>\n",
       "      <td>36.868631</td>\n",
       "      <td>94.074439</td>\n",
       "    </tr>\n",
       "    <tr>\n",
       "      <th>max</th>\n",
       "      <td>1.000000</td>\n",
       "      <td>38.000000</td>\n",
       "      <td>96.644737</td>\n",
       "    </tr>\n",
       "  </tbody>\n",
       "</table>\n",
       "</div>"
      ],
      "text/plain": [
       "           vicinity      latitude     longitude\n",
       "count  44152.000000  43673.000000  43673.000000\n",
       "mean       0.075738     28.456280     74.271976\n",
       "std        0.272177      7.343117      8.600140\n",
       "min       -9.000000    -20.420074     57.464140\n",
       "25%        0.000000     24.891115     67.687177\n",
       "50%        0.000000     31.467463     71.383188\n",
       "75%        0.000000     34.002579     80.623416\n",
       "85%        0.000000     34.386435     85.125982\n",
       "95%        1.000000     35.671067     91.815692\n",
       "99%        1.000000     36.868631     94.074439\n",
       "max        1.000000     38.000000     96.644737"
      ]
     },
     "metadata": {},
     "output_type": "display_data"
    },
    {
     "name": "stdout",
     "output_type": "stream",
     "text": [
      "Dataset descriptive information \n",
      "\n"
     ]
    },
    {
     "data": {
      "text/plain": [
       "location     56.984961\n",
       "latitude      1.084889\n",
       "longitude     1.084889\n",
       "city          0.339735\n",
       "country       0.000000\n",
       "province      0.000000\n",
       "vicinity      0.000000\n",
       "dtype: float64"
      ]
     },
     "metadata": {},
     "output_type": "display_data"
    },
    {
     "name": "stdout",
     "output_type": "stream",
     "text": [
      "Percentage of null values\n",
      "\n"
     ]
    }
   ],
   "source": [
    "df_loc = df[[\"country_txt\", \"provstate\", \"city\", \"vicinity\", \"location\", \"latitude\", \"longitude\"]]\n",
    "df_loc.rename(columns={\"country_txt\": \"country\", \"provstate\": \"province\"}, inplace=True)\n",
    "prelim_inspection(df_loc)"
   ]
  },
  {
   "cell_type": "markdown",
   "metadata": {
    "id": "FS5S064hXKsD"
   },
   "source": [
    "**Observations and Analysis**\n",
    "- Within South Asia, Pakistan witnessed the largest number of terrorist attacks during the period from 1970-2017 "
   ]
  },
  {
   "cell_type": "code",
   "execution_count": 71,
   "metadata": {
    "colab": {
     "base_uri": "https://localhost:8080/",
     "height": 331
    },
    "id": "6nJzmalV3Gjw",
    "outputId": "b2acbbf3-7d93-43c5-a222-fa05adfd6cf2"
   },
   "outputs": [
    {
     "data": {
      "text/html": [
       "<style type=\"text/css\">\n",
       "#T_33961_row0_col1, #T_33961_row0_col2, #T_33961_row2_col3 {\n",
       "  background-color: green;\n",
       "}\n",
       "</style>\n",
       "<table id=\"T_33961\">\n",
       "  <thead>\n",
       "    <tr>\n",
       "      <th class=\"blank level0\" >&nbsp;</th>\n",
       "      <th id=\"T_33961_level0_col0\" class=\"col_heading level0 col0\" >country</th>\n",
       "      <th id=\"T_33961_level0_col1\" class=\"col_heading level0 col1\" >city_count</th>\n",
       "      <th id=\"T_33961_level0_col2\" class=\"col_heading level0 col2\" >vicinity</th>\n",
       "      <th id=\"T_33961_level0_col3\" class=\"col_heading level0 col3\" >vicinity_ratio</th>\n",
       "    </tr>\n",
       "  </thead>\n",
       "  <tbody>\n",
       "    <tr>\n",
       "      <th id=\"T_33961_level0_row0\" class=\"row_heading level0 row0\" >0</th>\n",
       "      <td id=\"T_33961_row0_col0\" class=\"data row0 col0\" >India</td>\n",
       "      <td id=\"T_33961_row0_col1\" class=\"data row0 col1\" >4798</td>\n",
       "      <td id=\"T_33961_row0_col2\" class=\"data row0 col2\" >1297</td>\n",
       "      <td id=\"T_33961_row0_col3\" class=\"data row0 col3\" >0.270000</td>\n",
       "    </tr>\n",
       "    <tr>\n",
       "      <th id=\"T_33961_level0_row1\" class=\"row_heading level0 row1\" >1</th>\n",
       "      <td id=\"T_33961_row1_col0\" class=\"data row1 col0\" >Afghanistan</td>\n",
       "      <td id=\"T_33961_row1_col1\" class=\"data row1 col1\" >2764</td>\n",
       "      <td id=\"T_33961_row1_col2\" class=\"data row1 col2\" >619</td>\n",
       "      <td id=\"T_33961_row1_col3\" class=\"data row1 col3\" >0.220000</td>\n",
       "    </tr>\n",
       "    <tr>\n",
       "      <th id=\"T_33961_level0_row2\" class=\"row_heading level0 row2\" >2</th>\n",
       "      <td id=\"T_33961_row2_col0\" class=\"data row2 col0\" >Pakistan</td>\n",
       "      <td id=\"T_33961_row2_col1\" class=\"data row2 col1\" >2283</td>\n",
       "      <td id=\"T_33961_row2_col2\" class=\"data row2 col2\" >1026</td>\n",
       "      <td id=\"T_33961_row2_col3\" class=\"data row2 col3\" >0.450000</td>\n",
       "    </tr>\n",
       "    <tr>\n",
       "      <th id=\"T_33961_level0_row3\" class=\"row_heading level0 row3\" >3</th>\n",
       "      <td id=\"T_33961_row3_col0\" class=\"data row3 col0\" >Sri Lanka</td>\n",
       "      <td id=\"T_33961_row3_col1\" class=\"data row3 col1\" >691</td>\n",
       "      <td id=\"T_33961_row3_col2\" class=\"data row3 col2\" >242</td>\n",
       "      <td id=\"T_33961_row3_col3\" class=\"data row3 col3\" >0.350000</td>\n",
       "    </tr>\n",
       "    <tr>\n",
       "      <th id=\"T_33961_level0_row4\" class=\"row_heading level0 row4\" >4</th>\n",
       "      <td id=\"T_33961_row4_col0\" class=\"data row4 col0\" >Nepal</td>\n",
       "      <td id=\"T_33961_row4_col1\" class=\"data row4 col1\" >598</td>\n",
       "      <td id=\"T_33961_row4_col2\" class=\"data row4 col2\" >69</td>\n",
       "      <td id=\"T_33961_row4_col3\" class=\"data row4 col3\" >0.120000</td>\n",
       "    </tr>\n",
       "    <tr>\n",
       "      <th id=\"T_33961_level0_row5\" class=\"row_heading level0 row5\" >5</th>\n",
       "      <td id=\"T_33961_row5_col0\" class=\"data row5 col0\" >Bangladesh</td>\n",
       "      <td id=\"T_33961_row5_col1\" class=\"data row5 col1\" >426</td>\n",
       "      <td id=\"T_33961_row5_col2\" class=\"data row5 col2\" >91</td>\n",
       "      <td id=\"T_33961_row5_col3\" class=\"data row5 col3\" >0.210000</td>\n",
       "    </tr>\n",
       "    <tr>\n",
       "      <th id=\"T_33961_level0_row6\" class=\"row_heading level0 row6\" >6</th>\n",
       "      <td id=\"T_33961_row6_col0\" class=\"data row6 col0\" >Maldives</td>\n",
       "      <td id=\"T_33961_row6_col1\" class=\"data row6 col1\" >7</td>\n",
       "      <td id=\"T_33961_row6_col2\" class=\"data row6 col2\" >0</td>\n",
       "      <td id=\"T_33961_row6_col3\" class=\"data row6 col3\" >0.000000</td>\n",
       "    </tr>\n",
       "    <tr>\n",
       "      <th id=\"T_33961_level0_row7\" class=\"row_heading level0 row7\" >7</th>\n",
       "      <td id=\"T_33961_row7_col0\" class=\"data row7 col0\" >Bhutan</td>\n",
       "      <td id=\"T_33961_row7_col1\" class=\"data row7 col1\" >4</td>\n",
       "      <td id=\"T_33961_row7_col2\" class=\"data row7 col2\" >0</td>\n",
       "      <td id=\"T_33961_row7_col3\" class=\"data row7 col3\" >0.000000</td>\n",
       "    </tr>\n",
       "    <tr>\n",
       "      <th id=\"T_33961_level0_row8\" class=\"row_heading level0 row8\" >8</th>\n",
       "      <td id=\"T_33961_row8_col0\" class=\"data row8 col0\" >Mauritius</td>\n",
       "      <td id=\"T_33961_row8_col1\" class=\"data row8 col1\" >2</td>\n",
       "      <td id=\"T_33961_row8_col2\" class=\"data row8 col2\" >0</td>\n",
       "      <td id=\"T_33961_row8_col3\" class=\"data row8 col3\" >0.000000</td>\n",
       "    </tr>\n",
       "  </tbody>\n",
       "</table>\n"
      ],
      "text/plain": [
       "<pandas.io.formats.style.Styler at 0x23c20735900>"
      ]
     },
     "execution_count": 71,
     "metadata": {},
     "output_type": "execute_result"
    }
   ],
   "source": [
    "province_city_info = pd.DataFrame(df_loc.groupby(\"country\")[\"city\"].nunique().sort_values(ascending=False))\n",
    "province_city_info = province_city_info.reset_index()\n",
    "province_city_info.columns=[\"country\", \"city_count\"]\n",
    "vicinity_count = df_loc.groupby(\"country\")[\"vicinity\"].sum().to_dict()\n",
    "province_city_info[\"vicinity\"] = province_city_info[\"country\"].map(lambda country: vicinity_count[country])\n",
    "province_city_info[\"vicinity_ratio\"] =  np.round(((province_city_info[\"vicinity\"]) / (province_city_info[\"city_count\"])), 2)\n",
    "province_city_info.style.highlight_max(color=\"green\", subset=[\"city_count\", \"vicinity\", \"vicinity_ratio\"])"
   ]
  },
  {
   "cell_type": "markdown",
   "metadata": {
    "id": "UD9kBQNw3Gjx"
   },
   "source": [
    "**Observations and Analysis**\n",
    "- India, being a large country, has considerably larger number of cities which have witnessed terrorist attacks. However, percentage of urban terrorist attacks is much higher in Pakistan than in any other country in South Asia "
   ]
  },
  {
   "cell_type": "code",
   "execution_count": 74,
   "metadata": {
    "colab": {
     "base_uri": "https://localhost:8080/",
     "height": 297
    },
    "id": "ppFartiG3Gjx",
    "outputId": "579c9f26-12b8-4b15-cee4-cef36b14b679"
   },
   "outputs": [
    {
     "data": {
      "text/plain": [
       "Text(0.5, 0, 'Count of Attacks')"
      ]
     },
     "execution_count": 74,
     "metadata": {},
     "output_type": "execute_result"
    },
    {
     "data": {
      "image/png": "[encoded data removed]",
      "text/plain": [
       "<Figure size 640x480 with 1 Axes>"
      ]
     },
     "metadata": {},
     "output_type": "display_data"
    }
   ],
   "source": [
    "ax = sns.countplot(y=\"country\", data=df_loc, palette=\"pastel\")\n",
    "ax.set_xlabel(\"Count of Attacks\")"
   ]
  },
  {
   "cell_type": "code",
   "execution_count": 75,
   "metadata": {
    "colab": {
     "base_uri": "https://localhost:8080/"
    },
    "id": "v9F15xv03Gjx",
    "outputId": "d5ca1426-a95c-4405-9de7-23334a62dfe1"
   },
   "outputs": [
    {
     "name": "stdout",
     "output_type": "stream",
     "text": [
      "479\n",
      "150\n"
     ]
    }
   ],
   "source": [
    "df_loc.drop([\"location\"], axis=1, inplace=True)\n",
    "print(df_loc[\"latitude\"].isnull().sum())\n",
    "print(df_loc[\"city\"].isnull().sum())"
   ]
  },
  {
   "cell_type": "markdown",
   "metadata": {
    "id": "lQKFHbka3Gjx"
   },
   "source": [
    "**To-Do** \n",
    "- Drop rows with null values of \"latitude\" AND \"longitude\" "
   ]
  },
  {
   "cell_type": "code",
   "execution_count": 76,
   "metadata": {
    "colab": {
     "base_uri": "https://localhost:8080/"
    },
    "id": "t_xcn9Ic3Gjx",
    "outputId": "041ddce5-c1f8-4a2b-9f3f-d8c94c286048"
   },
   "outputs": [
    {
     "data": {
      "text/plain": [
       " 0    40788\n",
       " 1     3362\n",
       "-9        2\n",
       "Name: vicinity, dtype: int64"
      ]
     },
     "execution_count": 76,
     "metadata": {},
     "output_type": "execute_result"
    }
   ],
   "source": [
    "# For cities where location is not provided, add details of the capital city of those respective countries AND enter the corresponding latitude AND longitude. Mark the undetected fields\n",
    "df_loc[\"city\"].fillna(\"Unknown\", inplace=True)\n",
    "df_loc[\"vicinity\"].value_counts()"
   ]
  },
  {
   "cell_type": "markdown",
   "metadata": {
    "id": "cezuEAMl3Gjz"
   },
   "source": [
    "{\"Patika\": [, (33.17568, 68.73045)], \n",
    " \"Qalat\": [32.100204, 66.901016]"
   ]
  },
  {
   "cell_type": "markdown",
   "metadata": {
    "id": "vcGo3Fvc3Gjz"
   },
   "source": [
    "- Build a map \n",
    "- Plot points AND associated meta-data on the map - also mention country name "
   ]
  },
  {
   "cell_type": "code",
   "execution_count": 77,
   "metadata": {
    "colab": {
     "base_uri": "https://localhost:8080/"
    },
    "id": "MEriK_bx3Gjz",
    "outputId": "92222b10-ba7e-43a9-b2eb-4b8bc1d3e875"
   },
   "outputs": [
    {
     "data": {
      "text/plain": [
       "country        0\n",
       "province       0\n",
       "city           0\n",
       "vicinity       0\n",
       "latitude     479\n",
       "longitude    479\n",
       "dtype: int64"
      ]
     },
     "execution_count": 77,
     "metadata": {},
     "output_type": "execute_result"
    }
   ],
   "source": [
    "df_loc.isnull().sum()"
   ]
  },
  {
   "cell_type": "code",
   "execution_count": 78,
   "metadata": {
    "colab": {
     "base_uri": "https://localhost:8080/"
    },
    "id": "poSIT8PW3Gj0",
    "outputId": "3b9b19c5-a794-4dd0-99f3-c1c8aaed85d4"
   },
   "outputs": [
    {
     "data": {
      "text/plain": [
       "(44152, 6)"
      ]
     },
     "execution_count": 78,
     "metadata": {},
     "output_type": "execute_result"
    }
   ],
   "source": [
    "df_loc.shape"
   ]
  },
  {
   "cell_type": "markdown",
   "metadata": {
    "id": "Vxvu11jv3Gj0"
   },
   "source": [
    "**Combine with other relevant data for a more drilldown analysis**"
   ]
  },
  {
   "cell_type": "code",
   "execution_count": 79,
   "metadata": {
    "id": "hKKmy9GH3Gj0"
   },
   "outputs": [],
   "source": [
    "# Save to CSV \n",
    "df_loc.to_csv(\"data/location.csv\", index=False)"
   ]
  },
  {
   "cell_type": "markdown",
   "metadata": {
    "id": "wGtoGQdY3Gj0"
   },
   "source": [
    "## GTD Id and Date"
   ]
  },
  {
   "cell_type": "code",
   "execution_count": 80,
   "metadata": {
    "id": "4R9DqZ_13Gj1"
   },
   "outputs": [],
   "source": [
    "df_event = df[[\"eventid\", \"iyear\", \"imonth\", \"iday\", \"approxdate\", \"extended\", \"resolution\"]]"
   ]
  },
  {
   "cell_type": "code",
   "execution_count": 81,
   "metadata": {
    "colab": {
     "base_uri": "https://localhost:8080/",
     "height": 1000
    },
    "id": "QQCwNtUJ3Gj1",
    "outputId": "2a0e6dc6-7563-465f-80b7-d50a4713ffbe"
   },
   "outputs": [
    {
     "data": {
      "text/html": [
       "<div>\n",
       "<style scoped>\n",
       "    .dataframe tbody tr th:only-of-type {\n",
       "        vertical-align: middle;\n",
       "    }\n",
       "\n",
       "    .dataframe tbody tr th {\n",
       "        vertical-align: top;\n",
       "    }\n",
       "\n",
       "    .dataframe thead th {\n",
       "        text-align: right;\n",
       "    }\n",
       "</style>\n",
       "<table border=\"1\" class=\"dataframe\">\n",
       "  <thead>\n",
       "    <tr style=\"text-align: right;\">\n",
       "      <th></th>\n",
       "      <th>eventid</th>\n",
       "      <th>iyear</th>\n",
       "      <th>imonth</th>\n",
       "      <th>iday</th>\n",
       "      <th>approxdate</th>\n",
       "      <th>extended</th>\n",
       "      <th>resolution</th>\n",
       "    </tr>\n",
       "  </thead>\n",
       "  <tbody>\n",
       "    <tr>\n",
       "      <th>0</th>\n",
       "      <td>197000000000</td>\n",
       "      <td>1970</td>\n",
       "      <td>11</td>\n",
       "      <td>1</td>\n",
       "      <td>NaN</td>\n",
       "      <td>0</td>\n",
       "      <td>NaN</td>\n",
       "    </tr>\n",
       "    <tr>\n",
       "      <th>1</th>\n",
       "      <td>197000000000</td>\n",
       "      <td>1972</td>\n",
       "      <td>2</td>\n",
       "      <td>22</td>\n",
       "      <td>NaN</td>\n",
       "      <td>0</td>\n",
       "      <td>NaN</td>\n",
       "    </tr>\n",
       "    <tr>\n",
       "      <th>2</th>\n",
       "      <td>197000000000</td>\n",
       "      <td>1973</td>\n",
       "      <td>5</td>\n",
       "      <td>1</td>\n",
       "      <td>NaN</td>\n",
       "      <td>0</td>\n",
       "      <td>NaN</td>\n",
       "    </tr>\n",
       "    <tr>\n",
       "      <th>3</th>\n",
       "      <td>197000000000</td>\n",
       "      <td>1974</td>\n",
       "      <td>2</td>\n",
       "      <td>2</td>\n",
       "      <td>NaN</td>\n",
       "      <td>1</td>\n",
       "      <td>02-03-1974</td>\n",
       "    </tr>\n",
       "    <tr>\n",
       "      <th>4</th>\n",
       "      <td>197000000000</td>\n",
       "      <td>1974</td>\n",
       "      <td>12</td>\n",
       "      <td>9</td>\n",
       "      <td>NaN</td>\n",
       "      <td>0</td>\n",
       "      <td>NaN</td>\n",
       "    </tr>\n",
       "  </tbody>\n",
       "</table>\n",
       "</div>"
      ],
      "text/plain": [
       "        eventid  iyear  imonth  iday approxdate  extended  resolution\n",
       "0  197000000000   1970      11     1        NaN         0         NaN\n",
       "1  197000000000   1972       2    22        NaN         0         NaN\n",
       "2  197000000000   1973       5     1        NaN         0         NaN\n",
       "3  197000000000   1974       2     2        NaN         1  02-03-1974\n",
       "4  197000000000   1974      12     9        NaN         0         NaN"
      ]
     },
     "metadata": {},
     "output_type": "display_data"
    },
    {
     "name": "stdout",
     "output_type": "stream",
     "text": [
      "Dataset Overview\n",
      "\n"
     ]
    },
    {
     "data": {
      "text/plain": [
       "(44152, 7)"
      ]
     },
     "metadata": {},
     "output_type": "display_data"
    },
    {
     "name": "stdout",
     "output_type": "stream",
     "text": [
      "Dataset Shape\n",
      "\n"
     ]
    },
    {
     "data": {
      "text/plain": [
       "eventid        int64\n",
       "iyear          int64\n",
       "imonth         int64\n",
       "iday           int64\n",
       "approxdate    object\n",
       "extended       int64\n",
       "resolution    object\n",
       "dtype: object"
      ]
     },
     "metadata": {},
     "output_type": "display_data"
    },
    {
     "name": "stdout",
     "output_type": "stream",
     "text": [
      "Column datatypes\n",
      "\n"
     ]
    },
    {
     "data": {
      "text/plain": [
       "eventid       False\n",
       "iyear         False\n",
       "imonth        False\n",
       "iday          False\n",
       "approxdate     True\n",
       "extended      False\n",
       "resolution     True\n",
       "dtype: bool"
      ]
     },
     "metadata": {},
     "output_type": "display_data"
    },
    {
     "name": "stdout",
     "output_type": "stream",
     "text": [
      "Check for null values\n",
      "\n"
     ]
    },
    {
     "data": {
      "text/plain": [
       "eventid          6\n",
       "iyear           46\n",
       "imonth          13\n",
       "iday            32\n",
       "approxdate    1016\n",
       "extended         2\n",
       "resolution     425\n",
       "dtype: int64"
      ]
     },
     "metadata": {},
     "output_type": "display_data"
    },
    {
     "name": "stdout",
     "output_type": "stream",
     "text": [
      "Count of unique values\n",
      "\n"
     ]
    },
    {
     "data": {
      "text/html": [
       "<div>\n",
       "<style scoped>\n",
       "    .dataframe tbody tr th:only-of-type {\n",
       "        vertical-align: middle;\n",
       "    }\n",
       "\n",
       "    .dataframe tbody tr th {\n",
       "        vertical-align: top;\n",
       "    }\n",
       "\n",
       "    .dataframe thead th {\n",
       "        text-align: right;\n",
       "    }\n",
       "</style>\n",
       "<table border=\"1\" class=\"dataframe\">\n",
       "  <thead>\n",
       "    <tr style=\"text-align: right;\">\n",
       "      <th></th>\n",
       "      <th>eventid</th>\n",
       "      <th>iyear</th>\n",
       "      <th>imonth</th>\n",
       "      <th>iday</th>\n",
       "      <th>extended</th>\n",
       "    </tr>\n",
       "  </thead>\n",
       "  <tbody>\n",
       "    <tr>\n",
       "      <th>count</th>\n",
       "      <td>4.415200e+04</td>\n",
       "      <td>44152.000000</td>\n",
       "      <td>44152.000000</td>\n",
       "      <td>44152.000000</td>\n",
       "      <td>44152.000000</td>\n",
       "    </tr>\n",
       "    <tr>\n",
       "      <th>mean</th>\n",
       "      <td>2.009320e+11</td>\n",
       "      <td>2008.755005</td>\n",
       "      <td>6.444283</td>\n",
       "      <td>15.583326</td>\n",
       "      <td>0.056373</td>\n",
       "    </tr>\n",
       "    <tr>\n",
       "      <th>std</th>\n",
       "      <td>9.177522e+08</td>\n",
       "      <td>8.670915</td>\n",
       "      <td>3.389015</td>\n",
       "      <td>8.828559</td>\n",
       "      <td>0.230644</td>\n",
       "    </tr>\n",
       "    <tr>\n",
       "      <th>min</th>\n",
       "      <td>1.970000e+11</td>\n",
       "      <td>1970.000000</td>\n",
       "      <td>0.000000</td>\n",
       "      <td>0.000000</td>\n",
       "      <td>0.000000</td>\n",
       "    </tr>\n",
       "    <tr>\n",
       "      <th>25%</th>\n",
       "      <td>2.010000e+11</td>\n",
       "      <td>2007.000000</td>\n",
       "      <td>4.000000</td>\n",
       "      <td>8.000000</td>\n",
       "      <td>0.000000</td>\n",
       "    </tr>\n",
       "    <tr>\n",
       "      <th>50%</th>\n",
       "      <td>2.010000e+11</td>\n",
       "      <td>2012.000000</td>\n",
       "      <td>6.000000</td>\n",
       "      <td>15.000000</td>\n",
       "      <td>0.000000</td>\n",
       "    </tr>\n",
       "    <tr>\n",
       "      <th>75%</th>\n",
       "      <td>2.020000e+11</td>\n",
       "      <td>2015.000000</td>\n",
       "      <td>9.000000</td>\n",
       "      <td>23.000000</td>\n",
       "      <td>0.000000</td>\n",
       "    </tr>\n",
       "    <tr>\n",
       "      <th>85%</th>\n",
       "      <td>2.020000e+11</td>\n",
       "      <td>2016.000000</td>\n",
       "      <td>11.000000</td>\n",
       "      <td>26.000000</td>\n",
       "      <td>0.000000</td>\n",
       "    </tr>\n",
       "    <tr>\n",
       "      <th>95%</th>\n",
       "      <td>2.020000e+11</td>\n",
       "      <td>2017.000000</td>\n",
       "      <td>12.000000</td>\n",
       "      <td>29.000000</td>\n",
       "      <td>1.000000</td>\n",
       "    </tr>\n",
       "    <tr>\n",
       "      <th>99%</th>\n",
       "      <td>2.020000e+11</td>\n",
       "      <td>2017.000000</td>\n",
       "      <td>12.000000</td>\n",
       "      <td>31.000000</td>\n",
       "      <td>1.000000</td>\n",
       "    </tr>\n",
       "    <tr>\n",
       "      <th>max</th>\n",
       "      <td>2.020000e+11</td>\n",
       "      <td>2017.000000</td>\n",
       "      <td>12.000000</td>\n",
       "      <td>31.000000</td>\n",
       "      <td>1.000000</td>\n",
       "    </tr>\n",
       "  </tbody>\n",
       "</table>\n",
       "</div>"
      ],
      "text/plain": [
       "            eventid         iyear        imonth          iday      extended\n",
       "count  4.415200e+04  44152.000000  44152.000000  44152.000000  44152.000000\n",
       "mean   2.009320e+11   2008.755005      6.444283     15.583326      0.056373\n",
       "std    9.177522e+08      8.670915      3.389015      8.828559      0.230644\n",
       "min    1.970000e+11   1970.000000      0.000000      0.000000      0.000000\n",
       "25%    2.010000e+11   2007.000000      4.000000      8.000000      0.000000\n",
       "50%    2.010000e+11   2012.000000      6.000000     15.000000      0.000000\n",
       "75%    2.020000e+11   2015.000000      9.000000     23.000000      0.000000\n",
       "85%    2.020000e+11   2016.000000     11.000000     26.000000      0.000000\n",
       "95%    2.020000e+11   2017.000000     12.000000     29.000000      1.000000\n",
       "99%    2.020000e+11   2017.000000     12.000000     31.000000      1.000000\n",
       "max    2.020000e+11   2017.000000     12.000000     31.000000      1.000000"
      ]
     },
     "metadata": {},
     "output_type": "display_data"
    },
    {
     "name": "stdout",
     "output_type": "stream",
     "text": [
      "Dataset descriptive information \n",
      "\n"
     ]
    },
    {
     "data": {
      "text/plain": [
       "resolution    98.915111\n",
       "approxdate    96.192698\n",
       "eventid        0.000000\n",
       "iyear          0.000000\n",
       "imonth         0.000000\n",
       "iday           0.000000\n",
       "extended       0.000000\n",
       "dtype: float64"
      ]
     },
     "metadata": {},
     "output_type": "display_data"
    },
    {
     "name": "stdout",
     "output_type": "stream",
     "text": [
      "Percentage of null values\n",
      "\n"
     ]
    }
   ],
   "source": [
    "prelim_inspection(df_event)"
   ]
  },
  {
   "cell_type": "code",
   "execution_count": 82,
   "metadata": {
    "colab": {
     "base_uri": "https://localhost:8080/",
     "height": 351
    },
    "id": "q_GayXx43Gj1",
    "outputId": "ff776e9d-027b-4005-9ae9-739bfaead425"
   },
   "outputs": [
    {
     "data": {
      "text/plain": [
       "Text(0, 0.5, 'Frequency of Terorist Attacks')"
      ]
     },
     "execution_count": 82,
     "metadata": {},
     "output_type": "execute_result"
    },
    {
     "data": {
      "image/png": "[encoded data removed]",
      "text/plain": [
       "<Figure size 1000x500 with 1 Axes>"
      ]
     },
     "metadata": {},
     "output_type": "display_data"
    }
   ],
   "source": [
    "sns.set_style('darkgrid')\n",
    "plt.figure(figsize=(10, 5))\n",
    "sns.distplot(df_event[\"iyear\"], kde=True)\n",
    "plt.ylabel(\"Frequency of Terorist Attacks\")"
   ]
  },
  {
   "cell_type": "markdown",
   "metadata": {
    "id": "-lhlcwlA3Gj1"
   },
   "source": [
    "**Observations and Analysis**\n",
    "- The 2-decade period from 1970-1990 was a period of decline in the incidence of terrorist attacks around the world. From 1990-2000, the instances of terrorism declined a bit. However, the first decade of the 21st century witnessed the highest rise in the instances of terrorism. "
   ]
  },
  {
   "cell_type": "code",
   "execution_count": 83,
   "metadata": {
    "id": "J89CSYJa3Gj1"
   },
   "outputs": [],
   "source": [
    "# Save the dataframe \n",
    "df_event.to_csv(\"data/event.csv\", index=False)"
   ]
  },
  {
   "cell_type": "code",
   "execution_count": 84,
   "metadata": {
    "colab": {
     "base_uri": "https://localhost:8080/"
    },
    "id": "6aDXyTfZ3Gj1",
    "outputId": "6785637b-20cb-406f-8e9f-d51aefd7cd5b"
   },
   "outputs": [
    {
     "data": {
      "text/plain": [
       "(44152, 7)"
      ]
     },
     "execution_count": 84,
     "metadata": {},
     "output_type": "execute_result"
    }
   ],
   "source": [
    "df_event.shape"
   ]
  },
  {
   "cell_type": "markdown",
   "metadata": {
    "id": "p5mTbC163Gj1"
   },
   "source": [
    "## Incident Attack Information \n"
   ]
  },
  {
   "cell_type": "code",
   "execution_count": 323,
   "metadata": {
    "id": "SKUhqeND3Gj1"
   },
   "outputs": [],
   "source": [
    "df_attack = df[[\"attacktype1_txt\", \"attacktype2_txt\", \"attacktype3_txt\", \"success\", \"suicide\"]]\n",
    "df_weapon = df[[\"weaptype1_txt\", \"weapsubtype1_txt\", \"weaptype2_txt\", \"weapsubtype2_txt\", \n",
    "                \"weaptype3_txt\", \"weapsubtype3_txt\", \"weapdetail\"]]"
   ]
  },
  {
   "cell_type": "markdown",
   "metadata": {
    "id": "J89MO2kH3Gj2"
   },
   "source": [
    "#### Analyze attack data"
   ]
  },
  {
   "cell_type": "code",
   "execution_count": 324,
   "metadata": {
    "colab": {
     "base_uri": "https://localhost:8080/",
     "height": 1000
    },
    "id": "CxMD5HHc3Gj2",
    "outputId": "b3eb2379-83b8-47d6-d114-0e183dbfc396"
   },
   "outputs": [
    {
     "data": {
      "text/html": [
       "<div>\n",
       "<style scoped>\n",
       "    .dataframe tbody tr th:only-of-type {\n",
       "        vertical-align: middle;\n",
       "    }\n",
       "\n",
       "    .dataframe tbody tr th {\n",
       "        vertical-align: top;\n",
       "    }\n",
       "\n",
       "    .dataframe thead th {\n",
       "        text-align: right;\n",
       "    }\n",
       "</style>\n",
       "<table border=\"1\" class=\"dataframe\">\n",
       "  <thead>\n",
       "    <tr style=\"text-align: right;\">\n",
       "      <th></th>\n",
       "      <th>attacktype1_txt</th>\n",
       "      <th>attacktype2_txt</th>\n",
       "      <th>attacktype3_txt</th>\n",
       "      <th>success</th>\n",
       "      <th>suicide</th>\n",
       "    </tr>\n",
       "  </thead>\n",
       "  <tbody>\n",
       "    <tr>\n",
       "      <th>0</th>\n",
       "      <td>Assassination</td>\n",
       "      <td>NaN</td>\n",
       "      <td>NaN</td>\n",
       "      <td>1</td>\n",
       "      <td>0</td>\n",
       "    </tr>\n",
       "    <tr>\n",
       "      <th>1</th>\n",
       "      <td>Hijacking</td>\n",
       "      <td>NaN</td>\n",
       "      <td>NaN</td>\n",
       "      <td>1</td>\n",
       "      <td>0</td>\n",
       "    </tr>\n",
       "    <tr>\n",
       "      <th>2</th>\n",
       "      <td>Unknown</td>\n",
       "      <td>NaN</td>\n",
       "      <td>NaN</td>\n",
       "      <td>0</td>\n",
       "      <td>0</td>\n",
       "    </tr>\n",
       "    <tr>\n",
       "      <th>3</th>\n",
       "      <td>Bombing/Explosion</td>\n",
       "      <td>NaN</td>\n",
       "      <td>NaN</td>\n",
       "      <td>1</td>\n",
       "      <td>0</td>\n",
       "    </tr>\n",
       "    <tr>\n",
       "      <th>4</th>\n",
       "      <td>Bombing/Explosion</td>\n",
       "      <td>NaN</td>\n",
       "      <td>NaN</td>\n",
       "      <td>1</td>\n",
       "      <td>0</td>\n",
       "    </tr>\n",
       "  </tbody>\n",
       "</table>\n",
       "</div>"
      ],
      "text/plain": [
       "     attacktype1_txt attacktype2_txt attacktype3_txt  success  suicide\n",
       "0      Assassination             NaN             NaN        1        0\n",
       "1          Hijacking             NaN             NaN        1        0\n",
       "2            Unknown             NaN             NaN        0        0\n",
       "3  Bombing/Explosion             NaN             NaN        1        0\n",
       "4  Bombing/Explosion             NaN             NaN        1        0"
      ]
     },
     "metadata": {},
     "output_type": "display_data"
    },
    {
     "name": "stdout",
     "output_type": "stream",
     "text": [
      "Dataset Overview\n",
      "\n"
     ]
    },
    {
     "data": {
      "text/plain": [
       "(44152, 5)"
      ]
     },
     "metadata": {},
     "output_type": "display_data"
    },
    {
     "name": "stdout",
     "output_type": "stream",
     "text": [
      "Dataset Shape\n",
      "\n"
     ]
    },
    {
     "data": {
      "text/plain": [
       "attacktype1_txt    object\n",
       "attacktype2_txt    object\n",
       "attacktype3_txt    object\n",
       "success             int64\n",
       "suicide             int64\n",
       "dtype: object"
      ]
     },
     "metadata": {},
     "output_type": "display_data"
    },
    {
     "name": "stdout",
     "output_type": "stream",
     "text": [
      "Column datatypes\n",
      "\n"
     ]
    },
    {
     "data": {
      "text/plain": [
       "attacktype1_txt    False\n",
       "attacktype2_txt     True\n",
       "attacktype3_txt     True\n",
       "success            False\n",
       "suicide            False\n",
       "dtype: bool"
      ]
     },
     "metadata": {},
     "output_type": "display_data"
    },
    {
     "name": "stdout",
     "output_type": "stream",
     "text": [
      "Check for null values\n",
      "\n"
     ]
    },
    {
     "data": {
      "text/plain": [
       "attacktype1_txt    9\n",
       "attacktype2_txt    9\n",
       "attacktype3_txt    6\n",
       "success            2\n",
       "suicide            2\n",
       "dtype: int64"
      ]
     },
     "metadata": {},
     "output_type": "display_data"
    },
    {
     "name": "stdout",
     "output_type": "stream",
     "text": [
      "Count of unique values\n",
      "\n"
     ]
    },
    {
     "data": {
      "text/html": [
       "<div>\n",
       "<style scoped>\n",
       "    .dataframe tbody tr th:only-of-type {\n",
       "        vertical-align: middle;\n",
       "    }\n",
       "\n",
       "    .dataframe tbody tr th {\n",
       "        vertical-align: top;\n",
       "    }\n",
       "\n",
       "    .dataframe thead th {\n",
       "        text-align: right;\n",
       "    }\n",
       "</style>\n",
       "<table border=\"1\" class=\"dataframe\">\n",
       "  <thead>\n",
       "    <tr style=\"text-align: right;\">\n",
       "      <th></th>\n",
       "      <th>success</th>\n",
       "      <th>suicide</th>\n",
       "    </tr>\n",
       "  </thead>\n",
       "  <tbody>\n",
       "    <tr>\n",
       "      <th>count</th>\n",
       "      <td>44152.000000</td>\n",
       "      <td>44152.000000</td>\n",
       "    </tr>\n",
       "    <tr>\n",
       "      <th>mean</th>\n",
       "      <td>0.874887</td>\n",
       "      <td>0.043599</td>\n",
       "    </tr>\n",
       "    <tr>\n",
       "      <th>std</th>\n",
       "      <td>0.330851</td>\n",
       "      <td>0.204204</td>\n",
       "    </tr>\n",
       "    <tr>\n",
       "      <th>min</th>\n",
       "      <td>0.000000</td>\n",
       "      <td>0.000000</td>\n",
       "    </tr>\n",
       "    <tr>\n",
       "      <th>25%</th>\n",
       "      <td>1.000000</td>\n",
       "      <td>0.000000</td>\n",
       "    </tr>\n",
       "    <tr>\n",
       "      <th>50%</th>\n",
       "      <td>1.000000</td>\n",
       "      <td>0.000000</td>\n",
       "    </tr>\n",
       "    <tr>\n",
       "      <th>75%</th>\n",
       "      <td>1.000000</td>\n",
       "      <td>0.000000</td>\n",
       "    </tr>\n",
       "    <tr>\n",
       "      <th>85%</th>\n",
       "      <td>1.000000</td>\n",
       "      <td>0.000000</td>\n",
       "    </tr>\n",
       "    <tr>\n",
       "      <th>95%</th>\n",
       "      <td>1.000000</td>\n",
       "      <td>0.000000</td>\n",
       "    </tr>\n",
       "    <tr>\n",
       "      <th>99%</th>\n",
       "      <td>1.000000</td>\n",
       "      <td>1.000000</td>\n",
       "    </tr>\n",
       "    <tr>\n",
       "      <th>max</th>\n",
       "      <td>1.000000</td>\n",
       "      <td>1.000000</td>\n",
       "    </tr>\n",
       "  </tbody>\n",
       "</table>\n",
       "</div>"
      ],
      "text/plain": [
       "            success       suicide\n",
       "count  44152.000000  44152.000000\n",
       "mean       0.874887      0.043599\n",
       "std        0.330851      0.204204\n",
       "min        0.000000      0.000000\n",
       "25%        1.000000      0.000000\n",
       "50%        1.000000      0.000000\n",
       "75%        1.000000      0.000000\n",
       "85%        1.000000      0.000000\n",
       "95%        1.000000      0.000000\n",
       "99%        1.000000      1.000000\n",
       "max        1.000000      1.000000"
      ]
     },
     "metadata": {},
     "output_type": "display_data"
    },
    {
     "name": "stdout",
     "output_type": "stream",
     "text": [
      "Dataset descriptive information \n",
      "\n"
     ]
    },
    {
     "data": {
      "text/plain": [
       "attacktype3_txt    99.748596\n",
       "attacktype2_txt    95.341094\n",
       "attacktype1_txt     0.000000\n",
       "success             0.000000\n",
       "suicide             0.000000\n",
       "dtype: float64"
      ]
     },
     "metadata": {},
     "output_type": "display_data"
    },
    {
     "name": "stdout",
     "output_type": "stream",
     "text": [
      "Percentage of null values\n",
      "\n"
     ]
    }
   ],
   "source": [
    "prelim_inspection(df_attack)"
   ]
  },
  {
   "cell_type": "code",
   "execution_count": 330,
   "metadata": {
    "id": "fvYt9yIn3Gj2"
   },
   "outputs": [],
   "source": [
    "# Dropping columns with a high percentage of null values \n",
    "df_attack.drop([\"attacktype2_txt\", \"attacktype3_txt\"], axis=1, inplace=True)\n",
    "df_attack = df_attack.rename(columns={\"attacktype1_txt\": \"attacktype\"})"
   ]
  },
  {
   "cell_type": "code",
   "execution_count": 368,
   "metadata": {
    "colab": {
     "base_uri": "https://localhost:8080/",
     "height": 334
    },
    "id": "ynFfCEVM3Gj2",
    "outputId": "a743edb5-ad13-40ab-c86f-d0b2aac26eaf"
   },
   "outputs": [
    {
     "data": {
      "image/png": "[encoded data removed]",
      "text/plain": [
       "<Figure size 700x500 with 1 Axes>"
      ]
     },
     "metadata": {},
     "output_type": "display_data"
    }
   ],
   "source": [
    "plt.figure(figsize=(7, 5))\n",
    "sns.set_context(\"paper\")    \n",
    "sns.set_style(\"darkgrid\")   \n",
    "ax3=sns.barplot(y=\"attacktype\", x=\"success\", data=df_attack, hue=\"suicide\", palette=[\"tomato\", \"limegreen\"], ci=None)\n",
    "ax3.set_ylabel(\"Attack Type\", fontsize=10, labelpad=14)\n",
    "sns.move_legend(ax3, loc=\"best\")"
   ]
  },
  {
   "cell_type": "markdown",
   "metadata": {
    "id": "EpsERj3X3Gj2"
   },
   "source": [
    "#### Analyze weapon data"
   ]
  },
  {
   "cell_type": "code",
   "execution_count": 332,
   "metadata": {
    "colab": {
     "base_uri": "https://localhost:8080/",
     "height": 1000
    },
    "id": "5Y2r0_am3Gj2",
    "outputId": "4ec87cc7-da87-48dc-8a63-18ec2ad92a75",
    "scrolled": true
   },
   "outputs": [
    {
     "data": {
      "text/html": [
       "<div>\n",
       "<style scoped>\n",
       "    .dataframe tbody tr th:only-of-type {\n",
       "        vertical-align: middle;\n",
       "    }\n",
       "\n",
       "    .dataframe tbody tr th {\n",
       "        vertical-align: top;\n",
       "    }\n",
       "\n",
       "    .dataframe thead th {\n",
       "        text-align: right;\n",
       "    }\n",
       "</style>\n",
       "<table border=\"1\" class=\"dataframe\">\n",
       "  <thead>\n",
       "    <tr style=\"text-align: right;\">\n",
       "      <th></th>\n",
       "      <th>weaptype1_txt</th>\n",
       "      <th>weapsubtype1_txt</th>\n",
       "      <th>weaptype2_txt</th>\n",
       "      <th>weapsubtype2_txt</th>\n",
       "      <th>weaptype3_txt</th>\n",
       "      <th>weapsubtype3_txt</th>\n",
       "      <th>weapdetail</th>\n",
       "    </tr>\n",
       "  </thead>\n",
       "  <tbody>\n",
       "    <tr>\n",
       "      <th>0</th>\n",
       "      <td>Vehicle (not to include vehicle-borne explosiv...</td>\n",
       "      <td>NaN</td>\n",
       "      <td>NaN</td>\n",
       "      <td>NaN</td>\n",
       "      <td>NaN</td>\n",
       "      <td>NaN</td>\n",
       "      <td>Run down by car</td>\n",
       "    </tr>\n",
       "    <tr>\n",
       "      <th>1</th>\n",
       "      <td>Explosives</td>\n",
       "      <td>Unknown Explosive Type</td>\n",
       "      <td>NaN</td>\n",
       "      <td>NaN</td>\n",
       "      <td>NaN</td>\n",
       "      <td>NaN</td>\n",
       "      <td>Explosives</td>\n",
       "    </tr>\n",
       "    <tr>\n",
       "      <th>2</th>\n",
       "      <td>Unknown</td>\n",
       "      <td>NaN</td>\n",
       "      <td>NaN</td>\n",
       "      <td>NaN</td>\n",
       "      <td>NaN</td>\n",
       "      <td>NaN</td>\n",
       "      <td>NaN</td>\n",
       "    </tr>\n",
       "    <tr>\n",
       "      <th>3</th>\n",
       "      <td>Firearms</td>\n",
       "      <td>Automatic or Semi-Automatic Rifle</td>\n",
       "      <td>Explosives</td>\n",
       "      <td>Unknown Explosive Type</td>\n",
       "      <td>NaN</td>\n",
       "      <td>NaN</td>\n",
       "      <td>Automatic firearms; Explosive</td>\n",
       "    </tr>\n",
       "    <tr>\n",
       "      <th>4</th>\n",
       "      <td>Explosives</td>\n",
       "      <td>Unknown Explosive Type</td>\n",
       "      <td>NaN</td>\n",
       "      <td>NaN</td>\n",
       "      <td>NaN</td>\n",
       "      <td>NaN</td>\n",
       "      <td>Explosive</td>\n",
       "    </tr>\n",
       "  </tbody>\n",
       "</table>\n",
       "</div>"
      ],
      "text/plain": [
       "                                       weaptype1_txt  \\\n",
       "0  Vehicle (not to include vehicle-borne explosiv...   \n",
       "1                                         Explosives   \n",
       "2                                            Unknown   \n",
       "3                                           Firearms   \n",
       "4                                         Explosives   \n",
       "\n",
       "                    weapsubtype1_txt weaptype2_txt        weapsubtype2_txt  \\\n",
       "0                                NaN           NaN                     NaN   \n",
       "1             Unknown Explosive Type           NaN                     NaN   \n",
       "2                                NaN           NaN                     NaN   \n",
       "3  Automatic or Semi-Automatic Rifle    Explosives  Unknown Explosive Type   \n",
       "4             Unknown Explosive Type           NaN                     NaN   \n",
       "\n",
       "  weaptype3_txt weapsubtype3_txt                     weapdetail  \n",
       "0           NaN              NaN                Run down by car  \n",
       "1           NaN              NaN                     Explosives  \n",
       "2           NaN              NaN                            NaN  \n",
       "3           NaN              NaN  Automatic firearms; Explosive  \n",
       "4           NaN              NaN                      Explosive  "
      ]
     },
     "metadata": {},
     "output_type": "display_data"
    },
    {
     "name": "stdout",
     "output_type": "stream",
     "text": [
      "Dataset Overview\n",
      "\n"
     ]
    },
    {
     "data": {
      "text/plain": [
       "(44152, 7)"
      ]
     },
     "metadata": {},
     "output_type": "display_data"
    },
    {
     "name": "stdout",
     "output_type": "stream",
     "text": [
      "Dataset Shape\n",
      "\n"
     ]
    },
    {
     "data": {
      "text/plain": [
       "weaptype1_txt       object\n",
       "weapsubtype1_txt    object\n",
       "weaptype2_txt       object\n",
       "weapsubtype2_txt    object\n",
       "weaptype3_txt       object\n",
       "weapsubtype3_txt    object\n",
       "weapdetail          object\n",
       "dtype: object"
      ]
     },
     "metadata": {},
     "output_type": "display_data"
    },
    {
     "name": "stdout",
     "output_type": "stream",
     "text": [
      "Column datatypes\n",
      "\n"
     ]
    },
    {
     "data": {
      "text/plain": [
       "weaptype1_txt       False\n",
       "weapsubtype1_txt     True\n",
       "weaptype2_txt        True\n",
       "weapsubtype2_txt     True\n",
       "weaptype3_txt        True\n",
       "weapsubtype3_txt     True\n",
       "weapdetail           True\n",
       "dtype: bool"
      ]
     },
     "metadata": {},
     "output_type": "display_data"
    },
    {
     "name": "stdout",
     "output_type": "stream",
     "text": [
      "Check for null values\n",
      "\n"
     ]
    },
    {
     "data": {
      "text/plain": [
       "weaptype1_txt         12\n",
       "weapsubtype1_txt      30\n",
       "weaptype2_txt          9\n",
       "weapsubtype2_txt      27\n",
       "weaptype3_txt          8\n",
       "weapsubtype3_txt      20\n",
       "weapdetail          6657\n",
       "dtype: int64"
      ]
     },
     "metadata": {},
     "output_type": "display_data"
    },
    {
     "name": "stdout",
     "output_type": "stream",
     "text": [
      "Count of unique values\n",
      "\n"
     ]
    },
    {
     "data": {
      "text/html": [
       "<div>\n",
       "<style scoped>\n",
       "    .dataframe tbody tr th:only-of-type {\n",
       "        vertical-align: middle;\n",
       "    }\n",
       "\n",
       "    .dataframe tbody tr th {\n",
       "        vertical-align: top;\n",
       "    }\n",
       "\n",
       "    .dataframe thead th {\n",
       "        text-align: right;\n",
       "    }\n",
       "</style>\n",
       "<table border=\"1\" class=\"dataframe\">\n",
       "  <thead>\n",
       "    <tr style=\"text-align: right;\">\n",
       "      <th></th>\n",
       "      <th>weaptype1_txt</th>\n",
       "      <th>weapsubtype1_txt</th>\n",
       "      <th>weaptype2_txt</th>\n",
       "      <th>weapsubtype2_txt</th>\n",
       "      <th>weaptype3_txt</th>\n",
       "      <th>weapsubtype3_txt</th>\n",
       "      <th>weapdetail</th>\n",
       "    </tr>\n",
       "  </thead>\n",
       "  <tbody>\n",
       "    <tr>\n",
       "      <th>count</th>\n",
       "      <td>44152</td>\n",
       "      <td>39927</td>\n",
       "      <td>3142</td>\n",
       "      <td>2902</td>\n",
       "      <td>428</td>\n",
       "      <td>404</td>\n",
       "      <td>24522</td>\n",
       "    </tr>\n",
       "    <tr>\n",
       "      <th>unique</th>\n",
       "      <td>12</td>\n",
       "      <td>30</td>\n",
       "      <td>9</td>\n",
       "      <td>27</td>\n",
       "      <td>8</td>\n",
       "      <td>20</td>\n",
       "      <td>6657</td>\n",
       "    </tr>\n",
       "    <tr>\n",
       "      <th>top</th>\n",
       "      <td>Explosives</td>\n",
       "      <td>Unknown Gun Type</td>\n",
       "      <td>Firearms</td>\n",
       "      <td>Unknown Gun Type</td>\n",
       "      <td>Firearms</td>\n",
       "      <td>Unknown Gun Type</td>\n",
       "      <td>Unknown firearms were used in the attack.</td>\n",
       "    </tr>\n",
       "    <tr>\n",
       "      <th>freq</th>\n",
       "      <td>22437</td>\n",
       "      <td>11283</td>\n",
       "      <td>1320</td>\n",
       "      <td>847</td>\n",
       "      <td>235</td>\n",
       "      <td>105</td>\n",
       "      <td>1884</td>\n",
       "    </tr>\n",
       "  </tbody>\n",
       "</table>\n",
       "</div>"
      ],
      "text/plain": [
       "       weaptype1_txt  weapsubtype1_txt weaptype2_txt  weapsubtype2_txt  \\\n",
       "count          44152             39927          3142              2902   \n",
       "unique            12                30             9                27   \n",
       "top       Explosives  Unknown Gun Type      Firearms  Unknown Gun Type   \n",
       "freq           22437             11283          1320               847   \n",
       "\n",
       "       weaptype3_txt  weapsubtype3_txt  \\\n",
       "count            428               404   \n",
       "unique             8                20   \n",
       "top         Firearms  Unknown Gun Type   \n",
       "freq             235               105   \n",
       "\n",
       "                                       weapdetail  \n",
       "count                                       24522  \n",
       "unique                                       6657  \n",
       "top     Unknown firearms were used in the attack.  \n",
       "freq                                         1884  "
      ]
     },
     "metadata": {},
     "output_type": "display_data"
    },
    {
     "name": "stdout",
     "output_type": "stream",
     "text": [
      "Dataset descriptive information \n",
      "\n"
     ]
    },
    {
     "data": {
      "text/plain": [
       "weapsubtype3_txt    99.084979\n",
       "weaptype3_txt       99.030621\n",
       "weapsubtype2_txt    93.427251\n",
       "weaptype2_txt       92.883675\n",
       "weapdetail          44.460047\n",
       "weapsubtype1_txt     9.569215\n",
       "weaptype1_txt        0.000000\n",
       "dtype: float64"
      ]
     },
     "metadata": {},
     "output_type": "display_data"
    },
    {
     "name": "stdout",
     "output_type": "stream",
     "text": [
      "Percentage of null values\n",
      "\n"
     ]
    }
   ],
   "source": [
    "prelim_inspection(df_weapon)"
   ]
  },
  {
   "cell_type": "code",
   "execution_count": 333,
   "metadata": {
    "id": "b7XpNwR93Gj2"
   },
   "outputs": [],
   "source": [
    "# Dropping columns with a high percentage of null values \n",
    "df_weapon.drop([\"weapsubtype3_txt\", \"weaptype3_txt\", \"weapsubtype2_txt\", \"weaptype2_txt\", \"weapdetail\"], axis=1, inplace=True)\n",
    "df_weapon[\"weapsubtype1_txt\"] = np.where(df_weapon[\"weapsubtype1_txt\"].isnull(), \"Unknown\", df_weapon[\"weapsubtype1_txt\"].isnull())"
   ]
  },
  {
   "cell_type": "code",
   "execution_count": 334,
   "metadata": {},
   "outputs": [
    {
     "data": {
      "text/plain": [
       "Index(['weaptype1_txt', 'weapsubtype1_txt'], dtype='object')"
      ]
     },
     "execution_count": 334,
     "metadata": {},
     "output_type": "execute_result"
    }
   ],
   "source": [
    "df_weapon.columns"
   ]
  },
  {
   "cell_type": "code",
   "execution_count": 335,
   "metadata": {},
   "outputs": [],
   "source": [
    "df_weapon = df_weapon.rename(columns={\"weaptype1_txt\": \"weaptype\", \"weapsubtype1_txt\": \"weapsubtype\"})\n",
    "df_weapon = df_weapon.apply(lambda x: x.str.strip())\n",
    "df_weapon[\"weaptype\"] = np.where(df_weapon[\"weaptype\"]==\"Vehicle (not to include vehicle-borne explosives, i.e., car or truck bombs)\", \"Vehicles\", df_weapon[\"weaptype\"])"
   ]
  },
  {
   "cell_type": "code",
   "execution_count": 336,
   "metadata": {},
   "outputs": [],
   "source": [
    "df_weapon = df_weapon.rename(columns={\"weaptype1_txt\": \"weapontype\", \"weapsubtype1_txt\": \"weapsubtype\"})"
   ]
  },
  {
   "cell_type": "code",
   "execution_count": 246,
   "metadata": {
    "colab": {
     "base_uri": "https://localhost:8080/",
     "height": 308
    },
    "id": "CHHdASr63Gj3",
    "outputId": "c0d9da75-86a6-4274-c763-0d73e921f964"
   },
   "outputs": [
    {
     "data": {
      "text/plain": [
       "Text(0, 0.5, 'Attack weapon')"
      ]
     },
     "execution_count": 246,
     "metadata": {},
     "output_type": "execute_result"
    },
    {
     "data": {
      "image/png": "[encoded data removed]",
      "text/plain": [
       "<Figure size 640x480 with 1 Axes>"
      ]
     },
     "metadata": {},
     "output_type": "display_data"
    }
   ],
   "source": [
    "ax2 = sns.countplot(y=\"weaptype\", data=df_weapon, palette=[\"tomato\"])\n",
    "ax2.set_xlabel(\"Frequency\", fontsize=10, labelpad=15)\n",
    "ax2.set_ylabel(\"Attack weapon\", fontsize=10, labelpad=15)"
   ]
  },
  {
   "cell_type": "markdown",
   "metadata": {
    "id": "DooYRSnA3Gj3"
   },
   "source": [
    "**Observations**\n",
    "A large majority of the attacks have occured due to bombing/explosion OR armed assaults, some of which were unsucessful OR thwarted by the security forces "
   ]
  },
  {
   "cell_type": "code",
   "execution_count": 247,
   "metadata": {
    "colab": {
     "base_uri": "https://localhost:8080/"
    },
    "id": "_AWfgHLX3Gj3",
    "outputId": "c4c38332-dbe4-4f11-b375-c5073fdfd899"
   },
   "outputs": [
    {
     "data": {
      "text/plain": [
       "array(['Vehicles', 'Explosives', 'Unknown', 'Firearms', 'Incendiary',\n",
       "       'Melee', 'Sabotage Equipment', 'Chemical', 'Other', 'Fake Weapons',\n",
       "       'Biological', 'Radiological'], dtype=object)"
      ]
     },
     "execution_count": 247,
     "metadata": {},
     "output_type": "execute_result"
    }
   ],
   "source": [
    "df_weapon[\"weaptype\"].unique()"
   ]
  },
  {
   "cell_type": "code",
   "execution_count": 337,
   "metadata": {
    "id": "ZnYh684K3Gj3"
   },
   "outputs": [],
   "source": [
    "df_weapon_category = pd.DataFrame(df_weapon.groupby(\"weaptype\")[\"weapsubtype\"].value_counts())\n",
    "df_weapon_category.rename(columns={\"weapsubtype\": \"weapon_count\"}, inplace=True)\n",
    "df_weapon_category = df_weapon_category.reset_index(level=[\"weapsubtype\"])\n",
    "df_weapon_category = df_weapon_category.reset_index(level=[\"weaptype\"])"
   ]
  },
  {
   "cell_type": "code",
   "execution_count": 249,
   "metadata": {
    "colab": {
     "base_uri": "https://localhost:8080/"
    },
    "id": "gF8UgouF3Gj3",
    "outputId": "0017fd18-81c7-4c3d-d9d3-303b92ce98a3"
   },
   "outputs": [
    {
     "data": {
      "text/plain": [
       "weaptype\n",
       "Biological                2\n",
       "Chemical                 52\n",
       "Explosives            22432\n",
       "Fake Weapons              3\n",
       "Firearms              14895\n",
       "Incendiary             1584\n",
       "Melee                   963\n",
       "Other                    16\n",
       "Radiological              1\n",
       "Sabotage Equipment       44\n",
       "Unknown                3645\n",
       "Vehicles                 15\n",
       "Name: weapon_count, dtype: int64"
      ]
     },
     "execution_count": 249,
     "metadata": {},
     "output_type": "execute_result"
    }
   ],
   "source": [
    "df_weapon_category.groupby([\"weaptype\"])[\"weapon_count\"].max()"
   ]
  },
  {
   "cell_type": "code",
   "execution_count": 322,
   "metadata": {},
   "outputs": [
    {
     "data": {
      "text/plain": [
       "Index(['attacktype1_txt', 'success', 'suicide'], dtype='object')"
      ]
     },
     "execution_count": 322,
     "metadata": {},
     "output_type": "execute_result"
    }
   ],
   "source": [
    "df_attack.columns"
   ]
  },
  {
   "cell_type": "code",
   "execution_count": 338,
   "metadata": {
    "id": "bfkFE2Bz3Gj4"
   },
   "outputs": [],
   "source": [
    "# Save the final data for analysis\n",
    "df_attack.to_csv(\"data/attack.csv\", index=False)\n",
    "df_weapon.to_csv(\"data/weapon.csv\", index=False)"
   ]
  },
  {
   "cell_type": "markdown",
   "metadata": {
    "id": "k2Ch45D_3Gj4"
   },
   "source": [
    "## Casualties and Consequences "
   ]
  },
  {
   "cell_type": "code",
   "execution_count": 251,
   "metadata": {
    "id": "zyi8Pf1g3Gj4"
   },
   "outputs": [],
   "source": [
    "def freq_impute(df): \n",
    "    for col in df.columns: \n",
    "        df[col] = np.where(df[col].isnull(), df[col].value_counts().sort_values(ascending=False).index[0], df[col])\n",
    "    return df"
   ]
  },
  {
   "cell_type": "code",
   "execution_count": 252,
   "metadata": {
    "id": "kmoX0gka3Gj4"
   },
   "outputs": [],
   "source": [
    "df_casualties = df[[\"nkill\", \"nkillus\", \"nkillter\", \"nwound\", \"nwoundus\", \"nwoundte\", \n",
    "                    \"property\", \"propextent\", \"propextent_txt\", \"propvalue\", \"propcomment\", \n",
    "                    \"ishostkid\", \"nhostkid\", \"nhostkidus\", \"nhours\", \"ndays\", \"divert\", \n",
    "                    \"kidhijcountry\", \"hostkidoutcome\", \"hostkidoutcome_txt\", \n",
    "                    \"nreleased\"]]"
   ]
  },
  {
   "cell_type": "code",
   "execution_count": 114,
   "metadata": {
    "colab": {
     "base_uri": "https://localhost:8080/",
     "height": 1000
    },
    "id": "XkkVPoB-3Gj4",
    "outputId": "2e2288bf-0a1b-4a97-947e-be87c7b6d308"
   },
   "outputs": [
    {
     "data": {
      "text/html": [
       "\n",
       "  <div id=\"df-82ce5366-cc01-41e5-b4f4-0ca3d1cb2362\">\n",
       "    <div class=\"colab-df-container\">\n",
       "      <div>\n",
       "<style scoped>\n",
       "    .dataframe tbody tr th:only-of-type {\n",
       "        vertical-align: middle;\n",
       "    }\n",
       "\n",
       "    .dataframe tbody tr th {\n",
       "        vertical-align: top;\n",
       "    }\n",
       "\n",
       "    .dataframe thead th {\n",
       "        text-align: right;\n",
       "    }\n",
       "</style>\n",
       "<table border=\"1\" class=\"dataframe\">\n",
       "  <thead>\n",
       "    <tr style=\"text-align: right;\">\n",
       "      <th></th>\n",
       "      <th>nkill</th>\n",
       "      <th>nkillus</th>\n",
       "      <th>nkillter</th>\n",
       "      <th>nwound</th>\n",
       "      <th>nwoundus</th>\n",
       "      <th>nwoundte</th>\n",
       "      <th>property</th>\n",
       "      <th>propextent</th>\n",
       "      <th>propextent_txt</th>\n",
       "      <th>propvalue</th>\n",
       "      <th>...</th>\n",
       "      <th>ishostkid</th>\n",
       "      <th>nhostkid</th>\n",
       "      <th>nhostkidus</th>\n",
       "      <th>nhours</th>\n",
       "      <th>ndays</th>\n",
       "      <th>divert</th>\n",
       "      <th>kidhijcountry</th>\n",
       "      <th>hostkidoutcome</th>\n",
       "      <th>hostkidoutcome_txt</th>\n",
       "      <th>nreleased</th>\n",
       "    </tr>\n",
       "  </thead>\n",
       "  <tbody>\n",
       "    <tr>\n",
       "      <th>0</th>\n",
       "      <td>4.0</td>\n",
       "      <td>0.0</td>\n",
       "      <td>0.0</td>\n",
       "      <td>20.0</td>\n",
       "      <td>0.0</td>\n",
       "      <td>0.0</td>\n",
       "      <td>0</td>\n",
       "      <td>NaN</td>\n",
       "      <td>NaN</td>\n",
       "      <td>NaN</td>\n",
       "      <td>...</td>\n",
       "      <td>0.0</td>\n",
       "      <td>NaN</td>\n",
       "      <td>NaN</td>\n",
       "      <td>NaN</td>\n",
       "      <td>NaN</td>\n",
       "      <td>NaN</td>\n",
       "      <td>NaN</td>\n",
       "      <td>NaN</td>\n",
       "      <td>NaN</td>\n",
       "      <td>NaN</td>\n",
       "    </tr>\n",
       "    <tr>\n",
       "      <th>1</th>\n",
       "      <td>0.0</td>\n",
       "      <td>0.0</td>\n",
       "      <td>0.0</td>\n",
       "      <td>0.0</td>\n",
       "      <td>0.0</td>\n",
       "      <td>0.0</td>\n",
       "      <td>0</td>\n",
       "      <td>NaN</td>\n",
       "      <td>NaN</td>\n",
       "      <td>NaN</td>\n",
       "      <td>...</td>\n",
       "      <td>1.0</td>\n",
       "      <td>187.0</td>\n",
       "      <td>0.0</td>\n",
       "      <td>NaN</td>\n",
       "      <td>NaN</td>\n",
       "      <td>Yemen</td>\n",
       "      <td>Yemen</td>\n",
       "      <td>2.0</td>\n",
       "      <td>Hostage(s) released by perpetrators</td>\n",
       "      <td>187.0</td>\n",
       "    </tr>\n",
       "    <tr>\n",
       "      <th>2</th>\n",
       "      <td>0.0</td>\n",
       "      <td>NaN</td>\n",
       "      <td>NaN</td>\n",
       "      <td>1.0</td>\n",
       "      <td>NaN</td>\n",
       "      <td>NaN</td>\n",
       "      <td>0</td>\n",
       "      <td>NaN</td>\n",
       "      <td>NaN</td>\n",
       "      <td>NaN</td>\n",
       "      <td>...</td>\n",
       "      <td>0.0</td>\n",
       "      <td>NaN</td>\n",
       "      <td>NaN</td>\n",
       "      <td>NaN</td>\n",
       "      <td>NaN</td>\n",
       "      <td>NaN</td>\n",
       "      <td>NaN</td>\n",
       "      <td>NaN</td>\n",
       "      <td>NaN</td>\n",
       "      <td>NaN</td>\n",
       "    </tr>\n",
       "    <tr>\n",
       "      <th>3</th>\n",
       "      <td>0.0</td>\n",
       "      <td>NaN</td>\n",
       "      <td>NaN</td>\n",
       "      <td>0.0</td>\n",
       "      <td>NaN</td>\n",
       "      <td>NaN</td>\n",
       "      <td>0</td>\n",
       "      <td>NaN</td>\n",
       "      <td>NaN</td>\n",
       "      <td>NaN</td>\n",
       "      <td>...</td>\n",
       "      <td>1.0</td>\n",
       "      <td>2.0</td>\n",
       "      <td>0.0</td>\n",
       "      <td>0.0</td>\n",
       "      <td>1.0</td>\n",
       "      <td>NaN</td>\n",
       "      <td>NaN</td>\n",
       "      <td>2.0</td>\n",
       "      <td>Hostage(s) released by perpetrators</td>\n",
       "      <td>NaN</td>\n",
       "    </tr>\n",
       "    <tr>\n",
       "      <th>4</th>\n",
       "      <td>0.0</td>\n",
       "      <td>0.0</td>\n",
       "      <td>NaN</td>\n",
       "      <td>2.0</td>\n",
       "      <td>2.0</td>\n",
       "      <td>NaN</td>\n",
       "      <td>1</td>\n",
       "      <td>3.0</td>\n",
       "      <td>Minor (likely &lt; $1 million)</td>\n",
       "      <td>130000.0</td>\n",
       "      <td>...</td>\n",
       "      <td>0.0</td>\n",
       "      <td>NaN</td>\n",
       "      <td>NaN</td>\n",
       "      <td>NaN</td>\n",
       "      <td>NaN</td>\n",
       "      <td>NaN</td>\n",
       "      <td>NaN</td>\n",
       "      <td>NaN</td>\n",
       "      <td>NaN</td>\n",
       "      <td>NaN</td>\n",
       "    </tr>\n",
       "  </tbody>\n",
       "</table>\n",
       "<p>5 rows × 21 columns</p>\n",
       "</div>\n",
       "      <button class=\"colab-df-convert\" onclick=\"convertToInteractive('df-82ce5366-cc01-41e5-b4f4-0ca3d1cb2362')\"\n",
       "              title=\"Convert this dataframe to an interactive table.\"\n",
       "              style=\"display:none;\">\n",
       "        \n",
       "  <svg xmlns=\"http://www.w3.org/2000/svg\" height=\"24px\"viewBox=\"0 0 24 24\"\n",
       "       width=\"24px\">\n",
       "    <path d=\"M0 0h24v24H0V0z\" fill=\"none\"/>\n",
       "    <path d=\"M18.56 5.44l.94 2.06.94-2.06 2.06-.94-2.06-.94-.94-2.06-.94 2.06-2.06.94zm-11 1L8.5 8.5l.94-2.06 2.06-.94-2.06-.94L8.5 2.5l-.94 2.06-2.06.94zm10 10l.94 2.06.94-2.06 2.06-.94-2.06-.94-.94-2.06-.94 2.06-2.06.94z\"/><path d=\"M17.41 7.96l-1.37-1.37c-.4-.4-.92-.59-1.43-.59-.52 0-1.04.2-1.43.59L10.3 9.45l-7.72 7.72c-.78.78-.78 2.05 0 2.83L4 21.41c.39.39.9.59 1.41.59.51 0 1.02-.2 1.41-.59l7.78-7.78 2.81-2.81c.8-.78.8-2.07 0-2.86zM5.41 20L4 18.59l7.72-7.72 1.47 1.35L5.41 20z\"/>\n",
       "  </svg>\n",
       "      </button>\n",
       "      \n",
       "  <style>\n",
       "    .colab-df-container {\n",
       "      display:flex;\n",
       "      flex-wrap:wrap;\n",
       "      gap: 12px;\n",
       "    }\n",
       "\n",
       "    .colab-df-convert {\n",
       "      background-color: #E8F0FE;\n",
       "      border: none;\n",
       "      border-radius: 50%;\n",
       "      cursor: pointer;\n",
       "      display: none;\n",
       "      fill: #1967D2;\n",
       "      height: 32px;\n",
       "      padding: 0 0 0 0;\n",
       "      width: 32px;\n",
       "    }\n",
       "\n",
       "    .colab-df-convert:hover {\n",
       "      background-color: #E2EBFA;\n",
       "      box-shadow: 0px 1px 2px rgba(60, 64, 67, 0.3), 0px 1px 3px 1px rgba(60, 64, 67, 0.15);\n",
       "      fill: #174EA6;\n",
       "    }\n",
       "\n",
       "    [theme=dark] .colab-df-convert {\n",
       "      background-color: #3B4455;\n",
       "      fill: #D2E3FC;\n",
       "    }\n",
       "\n",
       "    [theme=dark] .colab-df-convert:hover {\n",
       "      background-color: #434B5C;\n",
       "      box-shadow: 0px 1px 3px 1px rgba(0, 0, 0, 0.15);\n",
       "      filter: drop-shadow(0px 1px 2px rgba(0, 0, 0, 0.3));\n",
       "      fill: #FFFFFF;\n",
       "    }\n",
       "  </style>\n",
       "\n",
       "      <script>\n",
       "        const buttonEl =\n",
       "          document.querySelector('#df-82ce5366-cc01-41e5-b4f4-0ca3d1cb2362 button.colab-df-convert');\n",
       "        buttonEl.style.display =\n",
       "          google.colab.kernel.accessAllowed ? 'block' : 'none';\n",
       "\n",
       "        async function convertToInteractive(key) {\n",
       "          const element = document.querySelector('#df-82ce5366-cc01-41e5-b4f4-0ca3d1cb2362');\n",
       "          const dataTable =\n",
       "            await google.colab.kernel.invokeFunction('convertToInteractive',\n",
       "                                                     [key], {});\n",
       "          if (!dataTable) return;\n",
       "\n",
       "          const docLinkHtml = 'Like what you see? Visit the ' +\n",
       "            '<a target=\"_blank\" href=https://colab.research.google.com/notebooks/data_table.ipynb>data table notebook</a>'\n",
       "            + ' to learn more about interactive tables.';\n",
       "          element.innerHTML = '';\n",
       "          dataTable['output_type'] = 'display_data';\n",
       "          await google.colab.output.renderOutput(dataTable, element);\n",
       "          const docLink = document.createElement('div');\n",
       "          docLink.innerHTML = docLinkHtml;\n",
       "          element.appendChild(docLink);\n",
       "        }\n",
       "      </script>\n",
       "    </div>\n",
       "  </div>\n",
       "  "
      ],
      "text/plain": [
       "   nkill  nkillus  nkillter  nwound  nwoundus  nwoundte  property  propextent  \\\n",
       "0    4.0      0.0       0.0    20.0       0.0       0.0         0         NaN   \n",
       "1    0.0      0.0       0.0     0.0       0.0       0.0         0         NaN   \n",
       "2    0.0      NaN       NaN     1.0       NaN       NaN         0         NaN   \n",
       "3    0.0      NaN       NaN     0.0       NaN       NaN         0         NaN   \n",
       "4    0.0      0.0       NaN     2.0       2.0       NaN         1         3.0   \n",
       "\n",
       "                propextent_txt  propvalue  ... ishostkid  nhostkid  \\\n",
       "0                          NaN        NaN  ...       0.0       NaN   \n",
       "1                          NaN        NaN  ...       1.0     187.0   \n",
       "2                          NaN        NaN  ...       0.0       NaN   \n",
       "3                          NaN        NaN  ...       1.0       2.0   \n",
       "4  Minor (likely < $1 million)   130000.0  ...       0.0       NaN   \n",
       "\n",
       "   nhostkidus  nhours  ndays  divert kidhijcountry hostkidoutcome  \\\n",
       "0         NaN     NaN    NaN     NaN           NaN            NaN   \n",
       "1         0.0     NaN    NaN   Yemen         Yemen            2.0   \n",
       "2         NaN     NaN    NaN     NaN           NaN            NaN   \n",
       "3         0.0     0.0    1.0     NaN           NaN            2.0   \n",
       "4         NaN     NaN    NaN     NaN           NaN            NaN   \n",
       "\n",
       "                    hostkidoutcome_txt nreleased  \n",
       "0                                  NaN       NaN  \n",
       "1  Hostage(s) released by perpetrators     187.0  \n",
       "2                                  NaN       NaN  \n",
       "3  Hostage(s) released by perpetrators       NaN  \n",
       "4                                  NaN       NaN  \n",
       "\n",
       "[5 rows x 21 columns]"
      ]
     },
     "metadata": {},
     "output_type": "display_data"
    },
    {
     "name": "stdout",
     "output_type": "stream",
     "text": [
      "Dataset Overview\n",
      "\n"
     ]
    },
    {
     "data": {
      "text/plain": [
       "(44152, 21)"
      ]
     },
     "metadata": {},
     "output_type": "display_data"
    },
    {
     "name": "stdout",
     "output_type": "stream",
     "text": [
      "Dataset Shape\n",
      "\n"
     ]
    },
    {
     "data": {
      "text/plain": [
       "nkill                 float64\n",
       "nkillus               float64\n",
       "nkillter              float64\n",
       "nwound                float64\n",
       "nwoundus              float64\n",
       "nwoundte              float64\n",
       "property                int64\n",
       "propextent            float64\n",
       "propextent_txt         object\n",
       "propvalue             float64\n",
       "propcomment            object\n",
       "ishostkid             float64\n",
       "nhostkid              float64\n",
       "nhostkidus            float64\n",
       "nhours                float64\n",
       "ndays                 float64\n",
       "divert                 object\n",
       "kidhijcountry          object\n",
       "hostkidoutcome        float64\n",
       "hostkidoutcome_txt     object\n",
       "nreleased             float64\n",
       "dtype: object"
      ]
     },
     "metadata": {},
     "output_type": "display_data"
    },
    {
     "name": "stdout",
     "output_type": "stream",
     "text": [
      "Column datatypes\n",
      "\n"
     ]
    },
    {
     "data": {
      "text/plain": [
       "nkill                  True\n",
       "nkillus                True\n",
       "nkillter               True\n",
       "nwound                 True\n",
       "nwoundus               True\n",
       "nwoundte               True\n",
       "property              False\n",
       "propextent             True\n",
       "propextent_txt         True\n",
       "propvalue              True\n",
       "propcomment            True\n",
       "ishostkid              True\n",
       "nhostkid               True\n",
       "nhostkidus             True\n",
       "nhours                 True\n",
       "ndays                  True\n",
       "divert                 True\n",
       "kidhijcountry          True\n",
       "hostkidoutcome         True\n",
       "hostkidoutcome_txt     True\n",
       "nreleased              True\n",
       "dtype: bool"
      ]
     },
     "metadata": {},
     "output_type": "display_data"
    },
    {
     "name": "stdout",
     "output_type": "stream",
     "text": [
      "Check for null values\n",
      "\n"
     ]
    },
    {
     "data": {
      "text/plain": [
       "nkill                  112\n",
       "nkillus                 11\n",
       "nkillter                58\n",
       "nwound                 141\n",
       "nwoundus                18\n",
       "nwoundte                39\n",
       "property                 3\n",
       "propextent               3\n",
       "propextent_txt           3\n",
       "propvalue              107\n",
       "propcomment           5967\n",
       "ishostkid                3\n",
       "nhostkid                86\n",
       "nhostkidus               7\n",
       "nhours                  23\n",
       "ndays                  133\n",
       "divert                  17\n",
       "kidhijcountry           18\n",
       "hostkidoutcome           7\n",
       "hostkidoutcome_txt       7\n",
       "nreleased               69\n",
       "dtype: int64"
      ]
     },
     "metadata": {},
     "output_type": "display_data"
    },
    {
     "name": "stdout",
     "output_type": "stream",
     "text": [
      "Count of unique values\n",
      "\n"
     ]
    },
    {
     "data": {
      "text/html": [
       "\n",
       "  <div id=\"df-a453ffc8-bdd3-4c2f-b5b0-c2ab8eaafa62\">\n",
       "    <div class=\"colab-df-container\">\n",
       "      <div>\n",
       "<style scoped>\n",
       "    .dataframe tbody tr th:only-of-type {\n",
       "        vertical-align: middle;\n",
       "    }\n",
       "\n",
       "    .dataframe tbody tr th {\n",
       "        vertical-align: top;\n",
       "    }\n",
       "\n",
       "    .dataframe thead th {\n",
       "        text-align: right;\n",
       "    }\n",
       "</style>\n",
       "<table border=\"1\" class=\"dataframe\">\n",
       "  <thead>\n",
       "    <tr style=\"text-align: right;\">\n",
       "      <th></th>\n",
       "      <th>nkill</th>\n",
       "      <th>nkillus</th>\n",
       "      <th>nkillter</th>\n",
       "      <th>nwound</th>\n",
       "      <th>nwoundus</th>\n",
       "      <th>nwoundte</th>\n",
       "      <th>property</th>\n",
       "      <th>propextent</th>\n",
       "      <th>propvalue</th>\n",
       "      <th>ishostkid</th>\n",
       "      <th>nhostkid</th>\n",
       "      <th>nhostkidus</th>\n",
       "      <th>nhours</th>\n",
       "      <th>ndays</th>\n",
       "      <th>hostkidoutcome</th>\n",
       "      <th>nreleased</th>\n",
       "    </tr>\n",
       "  </thead>\n",
       "  <tbody>\n",
       "    <tr>\n",
       "      <th>count</th>\n",
       "      <td>43245.000000</td>\n",
       "      <td>37300.00000</td>\n",
       "      <td>36925.000000</td>\n",
       "      <td>42355.000000</td>\n",
       "      <td>37226.000000</td>\n",
       "      <td>36340.000000</td>\n",
       "      <td>44152.000000</td>\n",
       "      <td>15766.000000</td>\n",
       "      <td>9.545000e+03</td>\n",
       "      <td>44151.000000</td>\n",
       "      <td>3646.000000</td>\n",
       "      <td>3623.000000</td>\n",
       "      <td>1092.000000</td>\n",
       "      <td>2525.000000</td>\n",
       "      <td>3479.000000</td>\n",
       "      <td>3345.000000</td>\n",
       "    </tr>\n",
       "    <tr>\n",
       "      <th>mean</th>\n",
       "      <td>2.329310</td>\n",
       "      <td>0.01437</td>\n",
       "      <td>0.573433</td>\n",
       "      <td>3.325156</td>\n",
       "      <td>0.015607</td>\n",
       "      <td>0.222675</td>\n",
       "      <td>-0.680422</td>\n",
       "      <td>3.266396</td>\n",
       "      <td>4.811420e+04</td>\n",
       "      <td>0.066431</td>\n",
       "      <td>5.573779</td>\n",
       "      <td>-0.234336</td>\n",
       "      <td>-73.821429</td>\n",
       "      <td>-38.239208</td>\n",
       "      <td>4.795056</td>\n",
       "      <td>-27.199402</td>\n",
       "    </tr>\n",
       "    <tr>\n",
       "      <th>std</th>\n",
       "      <td>7.153886</td>\n",
       "      <td>0.21476</td>\n",
       "      <td>4.317999</td>\n",
       "      <td>14.234301</td>\n",
       "      <td>0.715593</td>\n",
       "      <td>2.120403</td>\n",
       "      <td>3.159507</td>\n",
       "      <td>0.458568</td>\n",
       "      <td>3.610815e+06</td>\n",
       "      <td>0.472294</td>\n",
       "      <td>60.829708</td>\n",
       "      <td>4.933351</td>\n",
       "      <td>44.034152</td>\n",
       "      <td>114.635994</td>\n",
       "      <td>1.858638</td>\n",
       "      <td>56.007278</td>\n",
       "    </tr>\n",
       "    <tr>\n",
       "      <th>min</th>\n",
       "      <td>0.000000</td>\n",
       "      <td>0.00000</td>\n",
       "      <td>0.000000</td>\n",
       "      <td>0.000000</td>\n",
       "      <td>0.000000</td>\n",
       "      <td>0.000000</td>\n",
       "      <td>-9.000000</td>\n",
       "      <td>2.000000</td>\n",
       "      <td>-9.900000e+01</td>\n",
       "      <td>-9.000000</td>\n",
       "      <td>-99.000000</td>\n",
       "      <td>-99.000000</td>\n",
       "      <td>-99.000000</td>\n",
       "      <td>-99.000000</td>\n",
       "      <td>1.000000</td>\n",
       "      <td>-99.000000</td>\n",
       "    </tr>\n",
       "    <tr>\n",
       "      <th>25%</th>\n",
       "      <td>0.000000</td>\n",
       "      <td>0.00000</td>\n",
       "      <td>0.000000</td>\n",
       "      <td>0.000000</td>\n",
       "      <td>0.000000</td>\n",
       "      <td>0.000000</td>\n",
       "      <td>0.000000</td>\n",
       "      <td>3.000000</td>\n",
       "      <td>-9.900000e+01</td>\n",
       "      <td>0.000000</td>\n",
       "      <td>1.000000</td>\n",
       "      <td>0.000000</td>\n",
       "      <td>-99.000000</td>\n",
       "      <td>-99.000000</td>\n",
       "      <td>4.000000</td>\n",
       "      <td>-99.000000</td>\n",
       "    </tr>\n",
       "    <tr>\n",
       "      <th>50%</th>\n",
       "      <td>1.000000</td>\n",
       "      <td>0.00000</td>\n",
       "      <td>0.000000</td>\n",
       "      <td>0.000000</td>\n",
       "      <td>0.000000</td>\n",
       "      <td>0.000000</td>\n",
       "      <td>0.000000</td>\n",
       "      <td>3.000000</td>\n",
       "      <td>-9.900000e+01</td>\n",
       "      <td>0.000000</td>\n",
       "      <td>2.000000</td>\n",
       "      <td>0.000000</td>\n",
       "      <td>-99.000000</td>\n",
       "      <td>-99.000000</td>\n",
       "      <td>4.000000</td>\n",
       "      <td>0.000000</td>\n",
       "    </tr>\n",
       "    <tr>\n",
       "      <th>75%</th>\n",
       "      <td>2.000000</td>\n",
       "      <td>0.00000</td>\n",
       "      <td>0.000000</td>\n",
       "      <td>2.000000</td>\n",
       "      <td>0.000000</td>\n",
       "      <td>0.000000</td>\n",
       "      <td>1.000000</td>\n",
       "      <td>4.000000</td>\n",
       "      <td>-9.900000e+01</td>\n",
       "      <td>0.000000</td>\n",
       "      <td>4.000000</td>\n",
       "      <td>0.000000</td>\n",
       "      <td>-99.000000</td>\n",
       "      <td>3.000000</td>\n",
       "      <td>7.000000</td>\n",
       "      <td>1.000000</td>\n",
       "    </tr>\n",
       "    <tr>\n",
       "      <th>85%</th>\n",
       "      <td>4.000000</td>\n",
       "      <td>0.00000</td>\n",
       "      <td>0.000000</td>\n",
       "      <td>5.000000</td>\n",
       "      <td>0.000000</td>\n",
       "      <td>0.000000</td>\n",
       "      <td>1.000000</td>\n",
       "      <td>4.000000</td>\n",
       "      <td>-9.900000e+01</td>\n",
       "      <td>0.000000</td>\n",
       "      <td>6.000000</td>\n",
       "      <td>0.000000</td>\n",
       "      <td>0.000000</td>\n",
       "      <td>7.000000</td>\n",
       "      <td>7.000000</td>\n",
       "      <td>3.000000</td>\n",
       "    </tr>\n",
       "    <tr>\n",
       "      <th>95%</th>\n",
       "      <td>10.000000</td>\n",
       "      <td>0.00000</td>\n",
       "      <td>3.000000</td>\n",
       "      <td>15.000000</td>\n",
       "      <td>0.000000</td>\n",
       "      <td>0.000000</td>\n",
       "      <td>1.000000</td>\n",
       "      <td>4.000000</td>\n",
       "      <td>-9.900000e+01</td>\n",
       "      <td>1.000000</td>\n",
       "      <td>18.000000</td>\n",
       "      <td>0.000000</td>\n",
       "      <td>4.000000</td>\n",
       "      <td>38.000000</td>\n",
       "      <td>7.000000</td>\n",
       "      <td>8.000000</td>\n",
       "    </tr>\n",
       "    <tr>\n",
       "      <th>99%</th>\n",
       "      <td>27.000000</td>\n",
       "      <td>0.00000</td>\n",
       "      <td>11.000000</td>\n",
       "      <td>50.000000</td>\n",
       "      <td>0.000000</td>\n",
       "      <td>6.000000</td>\n",
       "      <td>1.000000</td>\n",
       "      <td>4.000000</td>\n",
       "      <td>3.000000e+04</td>\n",
       "      <td>1.000000</td>\n",
       "      <td>110.000000</td>\n",
       "      <td>0.000000</td>\n",
       "      <td>18.000000</td>\n",
       "      <td>253.920000</td>\n",
       "      <td>7.000000</td>\n",
       "      <td>50.000000</td>\n",
       "    </tr>\n",
       "    <tr>\n",
       "      <th>max</th>\n",
       "      <td>518.000000</td>\n",
       "      <td>17.00000</td>\n",
       "      <td>500.000000</td>\n",
       "      <td>1272.000000</td>\n",
       "      <td>101.000000</td>\n",
       "      <td>200.000000</td>\n",
       "      <td>1.000000</td>\n",
       "      <td>4.000000</td>\n",
       "      <td>3.500000e+08</td>\n",
       "      <td>1.000000</td>\n",
       "      <td>2000.000000</td>\n",
       "      <td>9.000000</td>\n",
       "      <td>24.000000</td>\n",
       "      <td>1879.000000</td>\n",
       "      <td>7.000000</td>\n",
       "      <td>1201.000000</td>\n",
       "    </tr>\n",
       "  </tbody>\n",
       "</table>\n",
       "</div>\n",
       "      <button class=\"colab-df-convert\" onclick=\"convertToInteractive('df-a453ffc8-bdd3-4c2f-b5b0-c2ab8eaafa62')\"\n",
       "              title=\"Convert this dataframe to an interactive table.\"\n",
       "              style=\"display:none;\">\n",
       "        \n",
       "  <svg xmlns=\"http://www.w3.org/2000/svg\" height=\"24px\"viewBox=\"0 0 24 24\"\n",
       "       width=\"24px\">\n",
       "    <path d=\"M0 0h24v24H0V0z\" fill=\"none\"/>\n",
       "    <path d=\"M18.56 5.44l.94 2.06.94-2.06 2.06-.94-2.06-.94-.94-2.06-.94 2.06-2.06.94zm-11 1L8.5 8.5l.94-2.06 2.06-.94-2.06-.94L8.5 2.5l-.94 2.06-2.06.94zm10 10l.94 2.06.94-2.06 2.06-.94-2.06-.94-.94-2.06-.94 2.06-2.06.94z\"/><path d=\"M17.41 7.96l-1.37-1.37c-.4-.4-.92-.59-1.43-.59-.52 0-1.04.2-1.43.59L10.3 9.45l-7.72 7.72c-.78.78-.78 2.05 0 2.83L4 21.41c.39.39.9.59 1.41.59.51 0 1.02-.2 1.41-.59l7.78-7.78 2.81-2.81c.8-.78.8-2.07 0-2.86zM5.41 20L4 18.59l7.72-7.72 1.47 1.35L5.41 20z\"/>\n",
       "  </svg>\n",
       "      </button>\n",
       "      \n",
       "  <style>\n",
       "    .colab-df-container {\n",
       "      display:flex;\n",
       "      flex-wrap:wrap;\n",
       "      gap: 12px;\n",
       "    }\n",
       "\n",
       "    .colab-df-convert {\n",
       "      background-color: #E8F0FE;\n",
       "      border: none;\n",
       "      border-radius: 50%;\n",
       "      cursor: pointer;\n",
       "      display: none;\n",
       "      fill: #1967D2;\n",
       "      height: 32px;\n",
       "      padding: 0 0 0 0;\n",
       "      width: 32px;\n",
       "    }\n",
       "\n",
       "    .colab-df-convert:hover {\n",
       "      background-color: #E2EBFA;\n",
       "      box-shadow: 0px 1px 2px rgba(60, 64, 67, 0.3), 0px 1px 3px 1px rgba(60, 64, 67, 0.15);\n",
       "      fill: #174EA6;\n",
       "    }\n",
       "\n",
       "    [theme=dark] .colab-df-convert {\n",
       "      background-color: #3B4455;\n",
       "      fill: #D2E3FC;\n",
       "    }\n",
       "\n",
       "    [theme=dark] .colab-df-convert:hover {\n",
       "      background-color: #434B5C;\n",
       "      box-shadow: 0px 1px 3px 1px rgba(0, 0, 0, 0.15);\n",
       "      filter: drop-shadow(0px 1px 2px rgba(0, 0, 0, 0.3));\n",
       "      fill: #FFFFFF;\n",
       "    }\n",
       "  </style>\n",
       "\n",
       "      <script>\n",
       "        const buttonEl =\n",
       "          document.querySelector('#df-a453ffc8-bdd3-4c2f-b5b0-c2ab8eaafa62 button.colab-df-convert');\n",
       "        buttonEl.style.display =\n",
       "          google.colab.kernel.accessAllowed ? 'block' : 'none';\n",
       "\n",
       "        async function convertToInteractive(key) {\n",
       "          const element = document.querySelector('#df-a453ffc8-bdd3-4c2f-b5b0-c2ab8eaafa62');\n",
       "          const dataTable =\n",
       "            await google.colab.kernel.invokeFunction('convertToInteractive',\n",
       "                                                     [key], {});\n",
       "          if (!dataTable) return;\n",
       "\n",
       "          const docLinkHtml = 'Like what you see? Visit the ' +\n",
       "            '<a target=\"_blank\" href=https://colab.research.google.com/notebooks/data_table.ipynb>data table notebook</a>'\n",
       "            + ' to learn more about interactive tables.';\n",
       "          element.innerHTML = '';\n",
       "          dataTable['output_type'] = 'display_data';\n",
       "          await google.colab.output.renderOutput(dataTable, element);\n",
       "          const docLink = document.createElement('div');\n",
       "          docLink.innerHTML = docLinkHtml;\n",
       "          element.appendChild(docLink);\n",
       "        }\n",
       "      </script>\n",
       "    </div>\n",
       "  </div>\n",
       "  "
      ],
      "text/plain": [
       "              nkill      nkillus      nkillter        nwound      nwoundus  \\\n",
       "count  43245.000000  37300.00000  36925.000000  42355.000000  37226.000000   \n",
       "mean       2.329310      0.01437      0.573433      3.325156      0.015607   \n",
       "std        7.153886      0.21476      4.317999     14.234301      0.715593   \n",
       "min        0.000000      0.00000      0.000000      0.000000      0.000000   \n",
       "25%        0.000000      0.00000      0.000000      0.000000      0.000000   \n",
       "50%        1.000000      0.00000      0.000000      0.000000      0.000000   \n",
       "75%        2.000000      0.00000      0.000000      2.000000      0.000000   \n",
       "85%        4.000000      0.00000      0.000000      5.000000      0.000000   \n",
       "95%       10.000000      0.00000      3.000000     15.000000      0.000000   \n",
       "99%       27.000000      0.00000     11.000000     50.000000      0.000000   \n",
       "max      518.000000     17.00000    500.000000   1272.000000    101.000000   \n",
       "\n",
       "           nwoundte      property    propextent     propvalue     ishostkid  \\\n",
       "count  36340.000000  44152.000000  15766.000000  9.545000e+03  44151.000000   \n",
       "mean       0.222675     -0.680422      3.266396  4.811420e+04      0.066431   \n",
       "std        2.120403      3.159507      0.458568  3.610815e+06      0.472294   \n",
       "min        0.000000     -9.000000      2.000000 -9.900000e+01     -9.000000   \n",
       "25%        0.000000      0.000000      3.000000 -9.900000e+01      0.000000   \n",
       "50%        0.000000      0.000000      3.000000 -9.900000e+01      0.000000   \n",
       "75%        0.000000      1.000000      4.000000 -9.900000e+01      0.000000   \n",
       "85%        0.000000      1.000000      4.000000 -9.900000e+01      0.000000   \n",
       "95%        0.000000      1.000000      4.000000 -9.900000e+01      1.000000   \n",
       "99%        6.000000      1.000000      4.000000  3.000000e+04      1.000000   \n",
       "max      200.000000      1.000000      4.000000  3.500000e+08      1.000000   \n",
       "\n",
       "          nhostkid   nhostkidus       nhours        ndays  hostkidoutcome  \\\n",
       "count  3646.000000  3623.000000  1092.000000  2525.000000     3479.000000   \n",
       "mean      5.573779    -0.234336   -73.821429   -38.239208        4.795056   \n",
       "std      60.829708     4.933351    44.034152   114.635994        1.858638   \n",
       "min     -99.000000   -99.000000   -99.000000   -99.000000        1.000000   \n",
       "25%       1.000000     0.000000   -99.000000   -99.000000        4.000000   \n",
       "50%       2.000000     0.000000   -99.000000   -99.000000        4.000000   \n",
       "75%       4.000000     0.000000   -99.000000     3.000000        7.000000   \n",
       "85%       6.000000     0.000000     0.000000     7.000000        7.000000   \n",
       "95%      18.000000     0.000000     4.000000    38.000000        7.000000   \n",
       "99%     110.000000     0.000000    18.000000   253.920000        7.000000   \n",
       "max    2000.000000     9.000000    24.000000  1879.000000        7.000000   \n",
       "\n",
       "         nreleased  \n",
       "count  3345.000000  \n",
       "mean    -27.199402  \n",
       "std      56.007278  \n",
       "min     -99.000000  \n",
       "25%     -99.000000  \n",
       "50%       0.000000  \n",
       "75%       1.000000  \n",
       "85%       3.000000  \n",
       "95%       8.000000  \n",
       "99%      50.000000  \n",
       "max    1201.000000  "
      ]
     },
     "metadata": {},
     "output_type": "display_data"
    },
    {
     "name": "stdout",
     "output_type": "stream",
     "text": [
      "Dataset descriptive information \n",
      "\n"
     ]
    },
    {
     "data": {
      "text/plain": [
       "divert                99.895814\n",
       "kidhijcountry         99.216344\n",
       "nhours                97.526726\n",
       "ndays                 94.281120\n",
       "nreleased             92.423899\n",
       "hostkidoutcome_txt    92.120402\n",
       "hostkidoutcome        92.120402\n",
       "nhostkidus            91.794256\n",
       "nhostkid              91.742163\n",
       "propvalue             78.381500\n",
       "propextent            64.291538\n",
       "propextent_txt        64.291538\n",
       "propcomment           60.703932\n",
       "nwoundte              17.693423\n",
       "nkillter              16.368454\n",
       "nwoundus              15.686719\n",
       "nkillus               15.519116\n",
       "nwound                 4.070031\n",
       "nkill                  2.054267\n",
       "ishostkid              0.002265\n",
       "property               0.000000\n",
       "dtype: float64"
      ]
     },
     "metadata": {},
     "output_type": "display_data"
    },
    {
     "name": "stdout",
     "output_type": "stream",
     "text": [
      "Percentage of null values\n",
      "\n"
     ]
    }
   ],
   "source": [
    "prelim_inspection(df_casualties)"
   ]
  },
  {
   "cell_type": "code",
   "execution_count": 253,
   "metadata": {
    "id": "jauFSSfP3Gj4"
   },
   "outputs": [],
   "source": [
    "df_casualties.drop([\"divert\", \"kidhijcountry\", \"nhours\", \"ndays\", \"nreleased\", \n",
    "                    \"hostkidoutcome_txt\", \"hostkidoutcome\", \"nhostkidus\", \"nhostkid\", \n",
    "                    \"propvalue\", \"propextent\", \"propextent_txt\", \"propcomment\", \"nkillus\", \n",
    "                    \"nwoundus\"], axis=1, inplace=True)"
   ]
  },
  {
   "cell_type": "code",
   "execution_count": 153,
   "metadata": {
    "colab": {
     "base_uri": "https://localhost:8080/",
     "height": 1000
    },
    "id": "3fwgRT9R3Gj5",
    "outputId": "76301357-8e01-4584-9d77-d0c1e9a5ebe7"
   },
   "outputs": [
    {
     "data": {
      "text/html": [
       "<div>\n",
       "<style scoped>\n",
       "    .dataframe tbody tr th:only-of-type {\n",
       "        vertical-align: middle;\n",
       "    }\n",
       "\n",
       "    .dataframe tbody tr th {\n",
       "        vertical-align: top;\n",
       "    }\n",
       "\n",
       "    .dataframe thead th {\n",
       "        text-align: right;\n",
       "    }\n",
       "</style>\n",
       "<table border=\"1\" class=\"dataframe\">\n",
       "  <thead>\n",
       "    <tr style=\"text-align: right;\">\n",
       "      <th></th>\n",
       "      <th>nkill</th>\n",
       "      <th>nkillter</th>\n",
       "      <th>nwound</th>\n",
       "      <th>nwoundte</th>\n",
       "      <th>property</th>\n",
       "      <th>ishostkid</th>\n",
       "    </tr>\n",
       "  </thead>\n",
       "  <tbody>\n",
       "    <tr>\n",
       "      <th>0</th>\n",
       "      <td>4.0</td>\n",
       "      <td>0.0</td>\n",
       "      <td>20.0</td>\n",
       "      <td>0.0</td>\n",
       "      <td>0</td>\n",
       "      <td>0.0</td>\n",
       "    </tr>\n",
       "    <tr>\n",
       "      <th>1</th>\n",
       "      <td>0.0</td>\n",
       "      <td>0.0</td>\n",
       "      <td>0.0</td>\n",
       "      <td>0.0</td>\n",
       "      <td>0</td>\n",
       "      <td>1.0</td>\n",
       "    </tr>\n",
       "    <tr>\n",
       "      <th>2</th>\n",
       "      <td>0.0</td>\n",
       "      <td>NaN</td>\n",
       "      <td>1.0</td>\n",
       "      <td>NaN</td>\n",
       "      <td>0</td>\n",
       "      <td>0.0</td>\n",
       "    </tr>\n",
       "    <tr>\n",
       "      <th>3</th>\n",
       "      <td>0.0</td>\n",
       "      <td>NaN</td>\n",
       "      <td>0.0</td>\n",
       "      <td>NaN</td>\n",
       "      <td>0</td>\n",
       "      <td>1.0</td>\n",
       "    </tr>\n",
       "    <tr>\n",
       "      <th>4</th>\n",
       "      <td>0.0</td>\n",
       "      <td>NaN</td>\n",
       "      <td>2.0</td>\n",
       "      <td>NaN</td>\n",
       "      <td>1</td>\n",
       "      <td>0.0</td>\n",
       "    </tr>\n",
       "  </tbody>\n",
       "</table>\n",
       "</div>"
      ],
      "text/plain": [
       "   nkill  nkillter  nwound  nwoundte  property  ishostkid\n",
       "0    4.0       0.0    20.0       0.0         0        0.0\n",
       "1    0.0       0.0     0.0       0.0         0        1.0\n",
       "2    0.0       NaN     1.0       NaN         0        0.0\n",
       "3    0.0       NaN     0.0       NaN         0        1.0\n",
       "4    0.0       NaN     2.0       NaN         1        0.0"
      ]
     },
     "metadata": {},
     "output_type": "display_data"
    },
    {
     "name": "stdout",
     "output_type": "stream",
     "text": [
      "Dataset Overview\n",
      "\n"
     ]
    },
    {
     "data": {
      "text/plain": [
       "(44152, 6)"
      ]
     },
     "metadata": {},
     "output_type": "display_data"
    },
    {
     "name": "stdout",
     "output_type": "stream",
     "text": [
      "Dataset Shape\n",
      "\n"
     ]
    },
    {
     "data": {
      "text/plain": [
       "nkill        float64\n",
       "nkillter     float64\n",
       "nwound       float64\n",
       "nwoundte     float64\n",
       "property       int64\n",
       "ishostkid    float64\n",
       "dtype: object"
      ]
     },
     "metadata": {},
     "output_type": "display_data"
    },
    {
     "name": "stdout",
     "output_type": "stream",
     "text": [
      "Column datatypes\n",
      "\n"
     ]
    },
    {
     "data": {
      "text/plain": [
       "nkill         True\n",
       "nkillter      True\n",
       "nwound        True\n",
       "nwoundte      True\n",
       "property     False\n",
       "ishostkid     True\n",
       "dtype: bool"
      ]
     },
     "metadata": {},
     "output_type": "display_data"
    },
    {
     "name": "stdout",
     "output_type": "stream",
     "text": [
      "Check for null values\n",
      "\n"
     ]
    },
    {
     "data": {
      "text/plain": [
       "nkill        112\n",
       "nkillter      58\n",
       "nwound       141\n",
       "nwoundte      39\n",
       "property       3\n",
       "ishostkid      3\n",
       "dtype: int64"
      ]
     },
     "metadata": {},
     "output_type": "display_data"
    },
    {
     "name": "stdout",
     "output_type": "stream",
     "text": [
      "Count of unique values\n",
      "\n"
     ]
    },
    {
     "data": {
      "text/html": [
       "<div>\n",
       "<style scoped>\n",
       "    .dataframe tbody tr th:only-of-type {\n",
       "        vertical-align: middle;\n",
       "    }\n",
       "\n",
       "    .dataframe tbody tr th {\n",
       "        vertical-align: top;\n",
       "    }\n",
       "\n",
       "    .dataframe thead th {\n",
       "        text-align: right;\n",
       "    }\n",
       "</style>\n",
       "<table border=\"1\" class=\"dataframe\">\n",
       "  <thead>\n",
       "    <tr style=\"text-align: right;\">\n",
       "      <th></th>\n",
       "      <th>nkill</th>\n",
       "      <th>nkillter</th>\n",
       "      <th>nwound</th>\n",
       "      <th>nwoundte</th>\n",
       "      <th>property</th>\n",
       "      <th>ishostkid</th>\n",
       "    </tr>\n",
       "  </thead>\n",
       "  <tbody>\n",
       "    <tr>\n",
       "      <th>count</th>\n",
       "      <td>43245.000000</td>\n",
       "      <td>36925.000000</td>\n",
       "      <td>42355.000000</td>\n",
       "      <td>36340.000000</td>\n",
       "      <td>44152.000000</td>\n",
       "      <td>44151.000000</td>\n",
       "    </tr>\n",
       "    <tr>\n",
       "      <th>mean</th>\n",
       "      <td>2.329310</td>\n",
       "      <td>0.573433</td>\n",
       "      <td>3.325156</td>\n",
       "      <td>0.222675</td>\n",
       "      <td>-0.680422</td>\n",
       "      <td>0.066431</td>\n",
       "    </tr>\n",
       "    <tr>\n",
       "      <th>std</th>\n",
       "      <td>7.153886</td>\n",
       "      <td>4.317999</td>\n",
       "      <td>14.234301</td>\n",
       "      <td>2.120403</td>\n",
       "      <td>3.159507</td>\n",
       "      <td>0.472294</td>\n",
       "    </tr>\n",
       "    <tr>\n",
       "      <th>min</th>\n",
       "      <td>0.000000</td>\n",
       "      <td>0.000000</td>\n",
       "      <td>0.000000</td>\n",
       "      <td>0.000000</td>\n",
       "      <td>-9.000000</td>\n",
       "      <td>-9.000000</td>\n",
       "    </tr>\n",
       "    <tr>\n",
       "      <th>25%</th>\n",
       "      <td>0.000000</td>\n",
       "      <td>0.000000</td>\n",
       "      <td>0.000000</td>\n",
       "      <td>0.000000</td>\n",
       "      <td>0.000000</td>\n",
       "      <td>0.000000</td>\n",
       "    </tr>\n",
       "    <tr>\n",
       "      <th>50%</th>\n",
       "      <td>1.000000</td>\n",
       "      <td>0.000000</td>\n",
       "      <td>0.000000</td>\n",
       "      <td>0.000000</td>\n",
       "      <td>0.000000</td>\n",
       "      <td>0.000000</td>\n",
       "    </tr>\n",
       "    <tr>\n",
       "      <th>75%</th>\n",
       "      <td>2.000000</td>\n",
       "      <td>0.000000</td>\n",
       "      <td>2.000000</td>\n",
       "      <td>0.000000</td>\n",
       "      <td>1.000000</td>\n",
       "      <td>0.000000</td>\n",
       "    </tr>\n",
       "    <tr>\n",
       "      <th>85%</th>\n",
       "      <td>4.000000</td>\n",
       "      <td>0.000000</td>\n",
       "      <td>5.000000</td>\n",
       "      <td>0.000000</td>\n",
       "      <td>1.000000</td>\n",
       "      <td>0.000000</td>\n",
       "    </tr>\n",
       "    <tr>\n",
       "      <th>95%</th>\n",
       "      <td>10.000000</td>\n",
       "      <td>3.000000</td>\n",
       "      <td>15.000000</td>\n",
       "      <td>0.000000</td>\n",
       "      <td>1.000000</td>\n",
       "      <td>1.000000</td>\n",
       "    </tr>\n",
       "    <tr>\n",
       "      <th>99%</th>\n",
       "      <td>27.000000</td>\n",
       "      <td>11.000000</td>\n",
       "      <td>50.000000</td>\n",
       "      <td>6.000000</td>\n",
       "      <td>1.000000</td>\n",
       "      <td>1.000000</td>\n",
       "    </tr>\n",
       "    <tr>\n",
       "      <th>max</th>\n",
       "      <td>518.000000</td>\n",
       "      <td>500.000000</td>\n",
       "      <td>1272.000000</td>\n",
       "      <td>200.000000</td>\n",
       "      <td>1.000000</td>\n",
       "      <td>1.000000</td>\n",
       "    </tr>\n",
       "  </tbody>\n",
       "</table>\n",
       "</div>"
      ],
      "text/plain": [
       "              nkill      nkillter        nwound      nwoundte      property  \\\n",
       "count  43245.000000  36925.000000  42355.000000  36340.000000  44152.000000   \n",
       "mean       2.329310      0.573433      3.325156      0.222675     -0.680422   \n",
       "std        7.153886      4.317999     14.234301      2.120403      3.159507   \n",
       "min        0.000000      0.000000      0.000000      0.000000     -9.000000   \n",
       "25%        0.000000      0.000000      0.000000      0.000000      0.000000   \n",
       "50%        1.000000      0.000000      0.000000      0.000000      0.000000   \n",
       "75%        2.000000      0.000000      2.000000      0.000000      1.000000   \n",
       "85%        4.000000      0.000000      5.000000      0.000000      1.000000   \n",
       "95%       10.000000      3.000000     15.000000      0.000000      1.000000   \n",
       "99%       27.000000     11.000000     50.000000      6.000000      1.000000   \n",
       "max      518.000000    500.000000   1272.000000    200.000000      1.000000   \n",
       "\n",
       "          ishostkid  \n",
       "count  44151.000000  \n",
       "mean       0.066431  \n",
       "std        0.472294  \n",
       "min       -9.000000  \n",
       "25%        0.000000  \n",
       "50%        0.000000  \n",
       "75%        0.000000  \n",
       "85%        0.000000  \n",
       "95%        1.000000  \n",
       "99%        1.000000  \n",
       "max        1.000000  "
      ]
     },
     "metadata": {},
     "output_type": "display_data"
    },
    {
     "name": "stdout",
     "output_type": "stream",
     "text": [
      "Dataset descriptive information \n",
      "\n"
     ]
    },
    {
     "data": {
      "text/plain": [
       "nwoundte     17.693423\n",
       "nkillter     16.368454\n",
       "nwound        4.070031\n",
       "nkill         2.054267\n",
       "ishostkid     0.002265\n",
       "property      0.000000\n",
       "dtype: float64"
      ]
     },
     "metadata": {},
     "output_type": "display_data"
    },
    {
     "name": "stdout",
     "output_type": "stream",
     "text": [
      "Percentage of null values\n",
      "\n"
     ]
    }
   ],
   "source": [
    "prelim_inspection(df_casualties)"
   ]
  },
  {
   "cell_type": "code",
   "execution_count": 255,
   "metadata": {
    "id": "qS17f80e3Gj5"
   },
   "outputs": [],
   "source": [
    "df_casualties = freq_impute(df_casualties)"
   ]
  },
  {
   "cell_type": "markdown",
   "metadata": {
    "id": "iGXRLYwD3Gj5"
   },
   "source": [
    "**For the sake of analysis, we have imputed null values with the most frequent category, as there is no known decipherable reason as to why they were not reported by the news sources.**"
   ]
  },
  {
   "cell_type": "code",
   "execution_count": 256,
   "metadata": {
    "id": "9ceKFPt93Gj5"
   },
   "outputs": [],
   "source": [
    "df_casualties[[\"nkill\", \"nkillter\", \"nwoundte\", \"nwound\", \"ishostkid\"]] = df_casualties[[\"nkill\", \"nkillter\", \"nwoundte\", \\\n",
    "                                                                          \"nwound\", \"ishostkid\"]].astype(\"int64\")"
   ]
  },
  {
   "cell_type": "code",
   "execution_count": 257,
   "metadata": {
    "id": "JhzQ9ghP3Gj5"
   },
   "outputs": [],
   "source": [
    "df_casualties = df_casualties.reset_index()\n",
    "df_casualties.drop(\"index\", axis=1, inplace=True)"
   ]
  },
  {
   "cell_type": "code",
   "execution_count": 258,
   "metadata": {
    "id": "s4Un1opp3Gj5"
   },
   "outputs": [],
   "source": [
    "df_casualties.to_csv(\"data/casualties.csv\", index=False)"
   ]
  },
  {
   "cell_type": "code",
   "execution_count": 259,
   "metadata": {
    "colab": {
     "base_uri": "https://localhost:8080/"
    },
    "id": "174yBKD03Gj6",
    "outputId": "bf71ffbe-4ad4-4f44-dac4-02227850d4cc"
   },
   "outputs": [
    {
     "name": "stdout",
     "output_type": "stream",
     "text": [
      "(44152, 3)\n",
      "(44152, 6)\n",
      "(44152, 7)\n",
      "(44152, 8)\n",
      "(44152, 6)\n",
      "(39236, 3)\n",
      "(44152, 4)\n",
      "(44152, 2)\n"
     ]
    }
   ],
   "source": [
    "print(df_attack.shape)\n",
    "print(df_casualties.shape)\n",
    "print(df_event.shape)\n",
    "print(df_incident.shape)\n",
    "print(df_loc.shape)\n",
    "print(df_perp.shape)\n",
    "print(df_target.shape)\n",
    "print(df_weapon.shape)"
   ]
  },
  {
   "cell_type": "markdown",
   "metadata": {
    "id": "DAtwFWSL3Gj6"
   },
   "source": [
    "**For the sake of analysis, we would also consider the total number of kills in a particular region**"
   ]
  },
  {
   "cell_type": "markdown",
   "metadata": {
    "id": "AEfrBRze3Gj6"
   },
   "source": [
    "## Entire Analysis  \n",
    "- Drop rows with null values of \"latitude\" AND \"longitude\" \n",
    "- Since a vast majority of perpetrator group names are unknown, it is plausible that a majority of attacks were carried out by localized groups and insurgents, and they mostly operate within one nation state\n",
    "-  A vast majority of the perpetrator group names are marked as \"unknown\". Analyze if their locations are clustered or such attacks have been carried out in  discrete locations\n",
    "- Analyze attacked targets in specific regions \n",
    "- Visualize all co-ordinated attacks - by country \n",
    "- Number of kills in a particular region over time \n",
    "- Analysis of attacks which are a part of multiple co-ordinated attacks. Were such events terrorist attacks OR non-terrorist attacks? See the underlying pattern of such attacks \n",
    "- Unsuspected terrorist attacks were majorly intended to coerce, intimidate or publicize with a specific political, economic, religious OR social goal, and they were also conducted in an illegitimate manner. Assess the categories of such attacks\n",
    "- Variation of attacked targets according to nationality"
   ]
  },
  {
   "cell_type": "markdown",
   "metadata": {
    "id": "cmvOFBPN3Gj6"
   },
   "source": [
    "## Questions\n",
    "- Ask something :)"
   ]
  }
 ],
 "metadata": {
  "colab": {
   "provenance": []
  },
  "kernelspec": {
   "display_name": "terrorismvenv",
   "language": "python",
   "name": "terrorismvenv"
  },
  "language_info": {
   "codemirror_mode": {
    "name": "ipython",
    "version": 3
   },
   "file_extension": ".py",
   "mimetype": "text/x-python",
   "name": "python",
   "nbconvert_exporter": "python",
   "pygments_lexer": "ipython3",
   "version": "3.10.0"
  }
 },
 "nbformat": 4,
 "nbformat_minor": 1
}
